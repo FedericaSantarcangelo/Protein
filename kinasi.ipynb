{
 "cells": [
  {
   "cell_type": "markdown",
   "metadata": {},
   "source": [
    "## SELECT KINASI"
   ]
  },
  {
   "cell_type": "code",
   "execution_count": 8,
   "metadata": {},
   "outputs": [],
   "source": [
    "import pandas as pd\n",
    "import os\n",
    "import plotly.express as px\n",
    "import glob\n",
    "\n",
    "%matplotlib inline\n"
   ]
  },
  {
   "cell_type": "code",
   "execution_count": 9,
   "metadata": {},
   "outputs": [],
   "source": [
    "\n",
    "protein_target = pd.read_csv(\"/home/federica/LAB2/family_protein_with.csv\")\n",
    "kinasi = protein_target[protein_target[\"family\"] == 'kinase']\n",
    "kinasi.to_csv(\"/home/federica/LAB2/protein_kinasi.csv\", index=False)\n"
   ]
  },
  {
   "cell_type": "markdown",
   "metadata": {},
   "source": [
    "**Select molecule chembl id with target chembl id in protein_kinasi**"
   ]
  },
  {
   "cell_type": "code",
   "execution_count": 10,
   "metadata": {},
   "outputs": [],
   "source": [
    "input_folder = \"/home/federica/LAB2/chembl33_20240216\"\n",
    "output_file = '/home/federica/LAB2/kinasi_molecule.csv'\n",
    "\n",
    "kinasi_ids = kinasi[\"chembl_id\"].tolist()\n",
    "filtered_records = []\n",
    "path_first = \"/home/federica/LAB2/chembl33_20240216/DOWNLOAD-lL5w6GF0gLQ3_3cTCRIdypanaKFnA4A7bGSsM857udg=.csv\"\n",
    "first_file = pd.read_csv(path_first, low_memory=False)\n",
    "header = first_file.columns\n",
    "\n",
    "records = first_file[first_file[\"Target ChEMBL ID\"].isin(kinasi_ids)]\n",
    "filtered_records.append(records)"
   ]
  },
  {
   "cell_type": "code",
   "execution_count": 16,
   "metadata": {},
   "outputs": [],
   "source": [
    "for file in glob.glob(os.path.join(input_folder, '*.csv')):\n",
    "    if file != path_first:\n",
    "        records = pd.read_csv(file,delimiter=';' ,low_memory=False)\n",
    "        records.columns = header\n",
    "        records = records[records[\"Target ChEMBL ID\"].isin(kinasi_ids)]\n",
    "        filtered_records.append(records)"
   ]
  },
  {
   "cell_type": "code",
   "execution_count": 17,
   "metadata": {},
   "outputs": [],
   "source": [
    "out=pd.concat(filtered_records)\n",
    "out.to_csv(output_file, sep='\\t',index=False)"
   ]
  }
 ],
 "metadata": {
  "kernelspec": {
   "display_name": "labenv",
   "language": "python",
   "name": "python3"
  },
  "language_info": {
   "codemirror_mode": {
    "name": "ipython",
    "version": 3
   },
   "file_extension": ".py",
   "mimetype": "text/x-python",
   "name": "python",
   "nbconvert_exporter": "python",
   "pygments_lexer": "ipython3",
   "version": "3.10.12"
  }
 },
 "nbformat": 4,
 "nbformat_minor": 2
}
