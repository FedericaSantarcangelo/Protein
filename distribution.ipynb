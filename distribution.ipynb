{
 "cells": [
  {
   "cell_type": "markdown",
   "metadata": {},
   "source": [
    "### Data Distribution\n"
   ]
  },
  {
   "cell_type": "code",
   "execution_count": 2,
   "metadata": {},
   "outputs": [],
   "source": [
    "import matplotlib.pyplot as plt\n",
    "import seaborn as sns\n",
    "import pandas as pd\n",
    "import numpy as np\n",
    "import os\n",
    "import sys\n"
   ]
  },
  {
   "cell_type": "code",
   "execution_count": 3,
   "metadata": {},
   "outputs": [],
   "source": [
    "data = pd.read_csv('/home/federica/LAB2/chembl1865/egfr_qsar/osimertinib_main_smiles.csv')"
   ]
  },
  {
   "cell_type": "code",
   "execution_count": 4,
   "metadata": {},
   "outputs": [
    {
     "name": "stdout",
     "output_type": "stream",
     "text": [
      "       Smiles (RDKit Mol)  MACCS_sim_score  ECFP4_sim_score  \\\n",
      "count                 0.0        61.000000        61.000000   \n",
      "mean                  NaN         0.922246         0.865016   \n",
      "std                   NaN         0.063878         0.089416   \n",
      "min                   NaN         0.740000         0.667000   \n",
      "25%                   NaN         0.908000         0.822000   \n",
      "50%                   NaN         0.939000         0.867000   \n",
      "75%                   NaN         0.954000         0.907000   \n",
      "max                   NaN         1.000000         1.000000   \n",
      "\n",
      "       MCSS_rdkit_sim_score  Standard Value  \n",
      "count             61.000000       61.000000  \n",
      "mean               0.889098     1249.858852  \n",
      "std                0.124740     6069.070767  \n",
      "min                0.592000        0.010000  \n",
      "25%                0.857000        2.090000  \n",
      "50%                0.949000       17.800000  \n",
      "75%                0.974000      122.000000  \n",
      "max                1.000000    45000.000000  \n"
     ]
    }
   ],
   "source": [
    "print(data.describe())"
   ]
  },
  {
   "cell_type": "code",
   "execution_count": 5,
   "metadata": {},
   "outputs": [
    {
     "name": "stdout",
     "output_type": "stream",
     "text": [
      "Skewness: 6.495256490440113, Kurtosis: 43.21496434887237\n"
     ]
    }
   ],
   "source": [
    "from scipy.stats import skew, kurtosis\n",
    "\n",
    "skewness = skew(data['Standard Value'])\n",
    "kurt = kurtosis(data['Standard Value'])\n",
    "\n",
    "print(f\"Skewness: {skewness}, Kurtosis: {kurt}\")\n"
   ]
  },
  {
   "cell_type": "code",
   "execution_count": 6,
   "metadata": {},
   "outputs": [
    {
     "name": "stdout",
     "output_type": "stream",
     "text": [
      "Percentili (25°, 50°, 75°):\n",
      "0.25      2.09\n",
      "0.50     17.80\n",
      "0.75    122.00\n",
      "Name: Standard Value, dtype: float64\n",
      "IQR (Interquartile Range): 119.91\n"
     ]
    }
   ],
   "source": [
    "percentiles = data['Standard Value'].quantile([0.25, 0.5, 0.75])\n",
    "print(\"Percentili (25°, 50°, 75°):\")\n",
    "print(percentiles)\n",
    "\n",
    "IQR = percentiles[0.75] - percentiles[0.25]\n",
    "print(f\"IQR (Interquartile Range): {IQR}\")\n",
    "outliers_lower = data[data['Standard Value'] < (percentiles[0.25] - 1.5 * IQR)]\n",
    "outliers_upper = data[data['Standard Value'] > (percentiles[0.75] + 1.5 * IQR)]\n"
   ]
  },
  {
   "cell_type": "code",
   "execution_count": 10,
   "metadata": {},
   "outputs": [
    {
     "data": {
      "text/plain": [
       "301.865"
      ]
     },
     "execution_count": 10,
     "metadata": {},
     "output_type": "execute_result"
    }
   ],
   "source": [
    "Q1 = data['Standard Value'].quantile(0.25)\n",
    "Q3 = data['Standard Value'].quantile(0.75)\n",
    "IQR = Q3 - Q1\n",
    "\n",
    "upper_bound = Q3 + 1.5 * IQR\n",
    "lower_bound = Q1 - 1.5 * IQR\n",
    "\n",
    "upper_bound"
   ]
  },
  {
   "cell_type": "code",
   "execution_count": 7,
   "metadata": {},
   "outputs": [
    {
     "name": "stdout",
     "output_type": "stream",
     "text": [
      "Dimensione del dataset dopo la rimozione degli outliers: (52, 11)\n",
      "Skewness dopo trasformazione: 0.13612531531788422\n",
      "Kurtosis dopo trasformazione: -1.335160441870719\n"
     ]
    }
   ],
   "source": [
    "\n",
    "data_no_outliers = data[data['Standard Value'] <= 362.86]\n",
    "print(f\"Dimensione del dataset dopo la rimozione degli outliers: {data_no_outliers.shape}\")\n",
    "\n",
    "data_no_outliers = data_no_outliers.copy()\n",
    "data_no_outliers.loc[:, 'Standard Value Log'] = np.log(data_no_outliers['Standard Value'] + 1)\n",
    "\n",
    "from sklearn.preprocessing import MinMaxScaler\n",
    "scaler = MinMaxScaler()\n",
    "\n",
    "data_no_outliers.loc[:, 'Standard Value Scaled'] = scaler.fit_transform(data_no_outliers[['Standard Value Log']])\n",
    "\n",
    "from scipy.stats import skew, kurtosis\n",
    "\n",
    "skew_value = skew(data_no_outliers['Standard Value Scaled'])\n",
    "kurt_value = kurtosis(data_no_outliers['Standard Value Scaled'])\n",
    "\n",
    "print(f\"Skewness dopo trasformazione: {skew_value}\")\n",
    "print(f\"Kurtosis dopo trasformazione: {kurt_value}\")\n",
    "\n"
   ]
  },
  {
   "cell_type": "code",
   "execution_count": 8,
   "metadata": {},
   "outputs": [
    {
     "name": "stdout",
     "output_type": "stream",
     "text": [
      "   Standard Value Log  Standard Value Scaled\n",
      "0            0.009950               0.000000\n",
      "1            0.067659               0.010265\n",
      "2            0.157004               0.026157\n",
      "3            0.165514               0.027671\n",
      "4            0.182322               0.030660\n"
     ]
    }
   ],
   "source": [
    "print(data_no_outliers[['Standard Value Log', 'Standard Value Scaled']].head())\n"
   ]
  }
 ],
 "metadata": {
  "kernelspec": {
   "display_name": "labenv",
   "language": "python",
   "name": "python3"
  },
  "language_info": {
   "codemirror_mode": {
    "name": "ipython",
    "version": 3
   },
   "file_extension": ".py",
   "mimetype": "text/x-python",
   "name": "python",
   "nbconvert_exporter": "python",
   "pygments_lexer": "ipython3",
   "version": "3.10.12"
  }
 },
 "nbformat": 4,
 "nbformat_minor": 2
}
