{
 "cells": [
  {
   "cell_type": "markdown",
   "metadata": {},
   "source": [
    "# **PLOT QUALITY AND MUTATION TARGET ANALYSIS**\n"
   ]
  },
  {
   "cell_type": "code",
   "execution_count": 11,
   "metadata": {},
   "outputs": [],
   "source": [
    "import pandas as pd\n",
    "import numpy as np\n",
    "import matplotlib.pyplot as plt\n",
    "import seaborn as sns\n",
    "import os\n",
    "import plotly.express as px\n",
    "import json\n",
    "\n",
    "%matplotlib inline\n"
   ]
  },
  {
   "cell_type": "markdown",
   "metadata": {},
   "source": [
    "# Data loading\n",
    "Since the data are divided into subfolders according to quality, as the first operation, unique files containing all target data contained in each subfolder are created.  \n",
    "To create these files, we will iterate through each subfolder and concatenate the data."
   ]
  },
  {
   "cell_type": "code",
   "execution_count": 12,
   "metadata": {},
   "outputs": [],
   "source": [
    "def load_and_concat(folder_path):\n",
    "\n",
    "    dataframes = []\n",
    "\n",
    "    for filename in os.listdir(folder_path):\n",
    "        if filename.endswith('.csv'):  \n",
    "            file_path = os.path.join(folder_path, filename)\n",
    "            df = pd.read_csv(file_path)\n",
    "            dataframes.append(df)\n",
    "\n",
    "    combined_df = pd.concat(dataframes, ignore_index=True)\n",
    "    return combined_df"
   ]
  },
  {
   "cell_type": "code",
   "execution_count": 13,
   "metadata": {},
   "outputs": [],
   "source": [
    "#wild type files\n",
    "wild_type_1 = '/home/federica/LAB2/data_202409181630_allDB/wild_type/wild_type_1'\n",
    "wild_type_2 = '/home/federica/LAB2/data_202409181630_allDB/wild_type/wild_type_2'\n",
    "wild_type_3 = '/home/federica/LAB2/data_202409181630_allDB/wild_type/wild_type_3'\n",
    "\n",
    "#mutantion target files\n",
    "mutation_target_1 = '/home/federica/LAB2/data_202409181630_allDB/mutation_target/mutation_target_1'\n",
    "mutation_target_2 = '/home/federica/LAB2/data_202409181630_allDB/mutation_target/mutation_target_2'\n",
    "mutation_target_3 = '/home/federica/LAB2/data_202409181630_allDB/mutation_target/mutation_target_3'\n",
    "\n",
    "#mixed files\n",
    "mixed_1 = '/home/federica/LAB2/data_202409181630_allDB/mixed/mixed_1'\n",
    "mixed_2 = '/home/federica/LAB2/data_202409181630_allDB/mixed/mixed_2'\n",
    "mixed_3 = '/home/federica/LAB2/data_202409181630_allDB/mixed/mixed_3'"
   ]
  },
  {
   "cell_type": "code",
   "execution_count": 14,
   "metadata": {},
   "outputs": [],
   "source": [
    "wild_type_1 = load_and_concat(wild_type_1)\n",
    "wild_type_2 = load_and_concat(wild_type_2)\n",
    "wild_type_3 = load_and_concat(wild_type_3)\n",
    "\n",
    "mutation_target_1 = load_and_concat(mutation_target_1)\n",
    "mutation_target_2 = load_and_concat(mutation_target_2)\n",
    "mutation_target_3 = load_and_concat(mutation_target_3)\n",
    "\n",
    "mixed_1 = load_and_concat(mixed_1)\n",
    "mixed_2 = load_and_concat(mixed_2)\n",
    "mixed_3 = load_and_concat(mixed_3)"
   ]
  },
  {
   "cell_type": "markdown",
   "metadata": {},
   "source": [
    "**Count the number of targets for each quality in each category**"
   ]
  },
  {
   "cell_type": "code",
   "execution_count": 15,
   "metadata": {},
   "outputs": [],
   "source": [
    "def count_targets_by_quality(data,quality_label):\n",
    "    target_group = data.groupby('Target ChEMBL ID').size()\n",
    "\n",
    "    num_targets = len(target_group)\n",
    "\n",
    "    avg_points_per_target = target_group.mean()\n",
    "    min_points_per_target = target_group.min()\n",
    "    max_points_per_target = target_group.max()\n",
    "\n",
    "    #min_target = target_group.idxmin()\n",
    "    #max_target = target_group.idxmax()\n",
    "\n",
    "    return { \"num_targets\": num_targets,\n",
    "        \"avg_points_per_target\": avg_points_per_target,\n",
    "        \"min_points_per_target\": min_points_per_target,\n",
    "        \"max_points_per_target\": max_points_per_target,\n",
    "        #\"min_target\": min_target,\n",
    "        #\"max_target\": max_target,\n",
    "        \"quality_label\": quality_label } "
   ]
  },
  {
   "cell_type": "code",
   "execution_count": 16,
   "metadata": {},
   "outputs": [],
   "source": [
    "count_wild_type_1 = count_targets_by_quality(wild_type_1, \"wild_type_1\")\n",
    "count_wild_type_2 = count_targets_by_quality(wild_type_2, \"wild_type_2\")\n",
    "count_wild_type_3 = count_targets_by_quality(wild_type_3, \"wild_type_3\")\n",
    "\n",
    "count_mutation_target_1 = count_targets_by_quality(mutation_target_1, \"mutation_target_1\")\n",
    "count_mutation_target_2 = count_targets_by_quality(mutation_target_2, \"mutation_target_2\")\n",
    "count_mutation_target_3 = count_targets_by_quality(mutation_target_3, \"mutation_target_3\")\n",
    "\n",
    "count_mixed_1 = count_targets_by_quality(mixed_1, \"mixed_1\")\n",
    "count_mixed_2 = count_targets_by_quality(mixed_2, \"mixed_2\")\n",
    "count_mixed_3 = count_targets_by_quality(mixed_3, \"mixed_3\")\n"
   ]
  },
  {
   "cell_type": "markdown",
   "metadata": {},
   "source": [
    "**Point distribution by Target**"
   ]
  },
  {
   "cell_type": "code",
   "execution_count": 17,
   "metadata": {},
   "outputs": [],
   "source": [
    "\n",
    "def plot_points_per_target(data, quality_label, top_n=None):\n",
    "    target_group = data.groupby('Target ChEMBL ID').size().reset_index(name='count')\n",
    "    \n",
    "    if top_n is not None:\n",
    "        target_group = target_group.nlargest(top_n, 'count')\n",
    "    \n",
    "    fig = px.bar(target_group, x='Target ChEMBL ID', y='count', \n",
    "                 title=f\"Number of points per target ({quality_label})\",\n",
    "                 labels={'Target ChEMBL ID': 'Target', 'count': 'Number of points'},\n",
    "                 hover_data={'Target ChEMBL ID': True, 'count': True})\n",
    "    \n",
    "    fig.update_layout(xaxis_title='Target', yaxis_title='Number of points')\n",
    "    fig.update_xaxes(showticklabels=False)\n",
    "    \n",
    "    fig.show()"
   ]
  },
  {
   "cell_type": "code",
   "execution_count": null,
   "metadata": {},
   "outputs": [],
   "source": [
    "plot_points_per_target(wild_type_1, \"wild_type_1\")\n",
    "#plot_points_per_target(wild_type_2, \"wild_type_2\")\n",
    "#plot_points_per_target(wild_type_3, \"wild_type_3\")\n",
    "\n",
    "#plot_points_per_target(mutation_target_1, \"mutation_target_1\")\n",
    "#plot_points_per_target(mutation_target_2, \"mutation_target_2\")\n",
    "#plot_points_per_target(mutation_target_3, \"mutation_target_3\")\n",
    "\n",
    "#plot_points_per_target(mixed_1, \"mixed_1\")\n",
    "#plot_points_per_target(mixed_2, \"mixed_2\")\n",
    "#plot_points_per_target(mixed_3, \"mixed_3\")"
   ]
  },
  {
   "cell_type": "markdown",
   "metadata": {},
   "source": [
    "# Focus on target of interest: HDAC6, HSP90, EGFR"
   ]
  },
  {
   "cell_type": "code",
   "execution_count": 24,
   "metadata": {},
   "outputs": [],
   "source": [
    "def plot_target_of_interest(data, target_list, quality_label):\n",
    "    plt.figure(figsize=(12, 6))\n",
    "    \n",
    "    target_group = data.groupby('Target ChEMBL ID').size().reset_index(name='count')\n",
    "    sns.barplot(x='Target ChEMBL ID', y='count', data=target_group, hue='Target ChEMBL ID', palette='coolwarm', legend=False)\n",
    "    \n",
    "    for target in target_list:\n",
    "        target_value = target_group[target_group['Target ChEMBL ID'] == target]\n",
    "        if not target_value.empty:\n",
    "            plt.text(target_value['Target ChEMBL ID'].values[0],\n",
    "                     target_value['count'].values[0] + 0.5,\n",
    "                     f'{target}', color='black', weight='bold', fontsize=12)\n",
    "        else:\n",
    "            print(f\"Warning: Target {target} not found in the data.\")\n",
    "    \n",
    "    plt.xlabel('Target')\n",
    "    plt.xticks([])\n",
    "    plt.grid(False)\n",
    "    plt.title(f'Targets of Interest for {quality_label}')\n",
    "    plt.show()"
   ]
  },
  {
   "cell_type": "code",
   "execution_count": null,
   "metadata": {},
   "outputs": [],
   "source": [
    "plot_target_of_interest(wild_type_1, ['CHEMBL240', 'CHEMBL203', 'CHEMBL218'], \"wild_type_1\")\n",
    "#plot_target_of_interest(wild_type_2, ['CHEMBL240', 'CHEMBL203', 'CHEMBL218'], \"wild_type_2\", count_wild_type_2)\n",
    "#plot_target_of_interest(wild_type_3, ['CHEMBL240', 'CHEMBL203', 'CHEMBL218'], \"wild_type_3\", count_wild_type_3)\n",
    "\n",
    "#plot_target_of_interest(mutation_target_1, ['CHEMBL240', 'CHEMBL203', 'CHEMBL218'], \"mutation_target_1\", count_mutation_target_1)\n",
    "#plot_target_of_interest(mutation_target_2, ['CHEMBL240', 'CHEMBL203', 'CHEMBL218'], \"mutation_target_2\", count_mutation_target_2)\n",
    "#plot_target_of_interest(mutation_target_3, ['CHEMBL240', 'CHEMBL203', 'CHEMBL218'], \"mutation_target_3\", count_mutation_target_3)\n",
    "\n",
    "#plot_target_of_interest(mixed_1, ['CHEMBL240', 'CHEMBL203', 'CHEMBL218'], \"mixed_1\", count_mixed_1)\n",
    "#plot_target_of_interest(mixed_2, ['CHEMBL240', 'CHEMBL203', 'CHEMBL218'], \"mixed_2\", count_mixed_2)\n",
    "#plot_target_of_interest(mixed_3, ['CHEMBL240', 'CHEMBL203', 'CHEMBL218'], \"mixed_3\", count_mixed_3)"
   ]
  },
  {
   "cell_type": "code",
   "execution_count": 44,
   "metadata": {},
   "outputs": [],
   "source": [
    "def plot_heatmap(data, quality_label):\n",
    "    # Pivot the data to create a matrix suitable for heatmap\n",
    "    heatmap_data = pd.crosstab(data['Target ChEMBL ID'], quality_label)\n",
    "    \n",
    "    # Set the figure size\n",
    "    plt.figure(figsize=(12, 8))\n",
    "    \n",
    "    # Create the heatmap without annotations\n",
    "    sns.heatmap(heatmap_data, annot=False, cmap='coolwarm')\n",
    "    \n",
    "    # Set the title and labels\n",
    "    plt.title(f'Heatmap of Target ChEMBL ID of {quality_label}')\n",
    "    plt.ylabel('Target ChEMBL ID')\n",
    "    plt.xlabel('')\n",
    "    \n",
    "    # Show the plot\n",
    "    plt.show()\n"
   ]
  },
  {
   "cell_type": "code",
   "execution_count": null,
   "metadata": {},
   "outputs": [],
   "source": [
    "plot_heatmap(wild_type_1, 'wild type of first quality')"
   ]
  }
 ],
 "metadata": {
  "kernelspec": {
   "display_name": "labenv",
   "language": "python",
   "name": "python3"
  },
  "language_info": {
   "codemirror_mode": {
    "name": "ipython",
    "version": 3
   },
   "file_extension": ".py",
   "mimetype": "text/x-python",
   "name": "python",
   "nbconvert_exporter": "python",
   "pygments_lexer": "ipython3",
   "version": "3.10.12"
  }
 },
 "nbformat": 4,
 "nbformat_minor": 2
}
