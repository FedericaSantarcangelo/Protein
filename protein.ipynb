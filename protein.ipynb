{
 "cells": [
  {
   "cell_type": "markdown",
   "metadata": {},
   "source": [
    "# PROTEIN CLASSIFICATION ANALYSIS"
   ]
  },
  {
   "cell_type": "markdown",
   "metadata": {},
   "source": [
    "In this notebook, the ChEMBL database schema is analyzed in order to obtain the classification into protein families of the targets.\n",
    "We will focus on the **SINGLE PROTEIN** targets."
   ]
  },
  {
   "cell_type": "code",
   "execution_count": 1,
   "metadata": {},
   "outputs": [],
   "source": [
    "import pandas as pd\n",
    "import numpy as np\n",
    "import matplotlib.pyplot as plt\n",
    "import seaborn as sns\n",
    "import os\n",
    "import plotly.express as px\n",
    "import json\n",
    "import ipywidgets as widgets\n",
    "from IPython.display import display\n",
    "import plotly.graph_objects as go\n",
    "import matplotlib.colors as mcolors\n",
    "\n",
    "%matplotlib inline"
   ]
  },
  {
   "cell_type": "code",
   "execution_count": 2,
   "metadata": {},
   "outputs": [],
   "source": [
    "df = pd.read_csv('/home/federica/LAB2/protein_class.csv')\n",
    "\n",
    "target_classes = ['Cytochrome P450', 'ion channel', 'G protein-coupled', 'Kinase', 'Toll-like',\n",
    "                  'epigenetic regulator', 'Protease', 'Nuclear receptor','methyltransferase','demethylase','Histone deacetylase',\n",
    "                  'Histone acetyltransferase','Bromodomain','protein tau','Heat shock','transient receptor','GRP','kinase','protease','nuclear receptor',\n",
    "                  'cytochrome P450','heat shock']"
   ]
  },
  {
   "cell_type": "code",
   "execution_count": 3,
   "metadata": {},
   "outputs": [
    {
     "data": {
      "application/vnd.plotly.v1+json": {
       "config": {
        "plotlyServerURL": "https://plot.ly"
       },
       "data": [
        {
         "cells": {
          "align": "left",
          "fill": {
           "color": "lavender"
          },
          "values": [
           [
            "Cytochrome P450",
            "ion channel",
            "G protein-coupled",
            "Kinase",
            "Toll-like",
            "epigenetic regulator",
            "Protease",
            "Nuclear receptor",
            "methyltransferase",
            "demethylase",
            "Histone deacetylase",
            "Histone acetyltransferase",
            "Bromodomain",
            "protein tau",
            "Heat shock",
            "transient receptor",
            "GRP",
            "kinase",
            "protease",
            "nuclear receptor",
            "cytochrome P450",
            "heat shock"
           ],
           [
            42,
            175,
            105,
            601,
            10,
            209,
            231,
            50,
            84,
            32,
            12,
            14,
            45,
            1,
            15,
            23,
            3,
            601,
            231,
            50,
            42,
            15
           ]
          ]
         },
         "header": {
          "align": "left",
          "fill": {
           "color": "paleturquoise"
          },
          "values": [
           "Class",
           "Count"
          ]
         },
         "type": "table"
        }
       ],
       "layout": {
        "template": {
         "data": {
          "bar": [
           {
            "error_x": {
             "color": "#2a3f5f"
            },
            "error_y": {
             "color": "#2a3f5f"
            },
            "marker": {
             "line": {
              "color": "#E5ECF6",
              "width": 0.5
             },
             "pattern": {
              "fillmode": "overlay",
              "size": 10,
              "solidity": 0.2
             }
            },
            "type": "bar"
           }
          ],
          "barpolar": [
           {
            "marker": {
             "line": {
              "color": "#E5ECF6",
              "width": 0.5
             },
             "pattern": {
              "fillmode": "overlay",
              "size": 10,
              "solidity": 0.2
             }
            },
            "type": "barpolar"
           }
          ],
          "carpet": [
           {
            "aaxis": {
             "endlinecolor": "#2a3f5f",
             "gridcolor": "white",
             "linecolor": "white",
             "minorgridcolor": "white",
             "startlinecolor": "#2a3f5f"
            },
            "baxis": {
             "endlinecolor": "#2a3f5f",
             "gridcolor": "white",
             "linecolor": "white",
             "minorgridcolor": "white",
             "startlinecolor": "#2a3f5f"
            },
            "type": "carpet"
           }
          ],
          "choropleth": [
           {
            "colorbar": {
             "outlinewidth": 0,
             "ticks": ""
            },
            "type": "choropleth"
           }
          ],
          "contour": [
           {
            "colorbar": {
             "outlinewidth": 0,
             "ticks": ""
            },
            "colorscale": [
             [
              0,
              "#0d0887"
             ],
             [
              0.1111111111111111,
              "#46039f"
             ],
             [
              0.2222222222222222,
              "#7201a8"
             ],
             [
              0.3333333333333333,
              "#9c179e"
             ],
             [
              0.4444444444444444,
              "#bd3786"
             ],
             [
              0.5555555555555556,
              "#d8576b"
             ],
             [
              0.6666666666666666,
              "#ed7953"
             ],
             [
              0.7777777777777778,
              "#fb9f3a"
             ],
             [
              0.8888888888888888,
              "#fdca26"
             ],
             [
              1,
              "#f0f921"
             ]
            ],
            "type": "contour"
           }
          ],
          "contourcarpet": [
           {
            "colorbar": {
             "outlinewidth": 0,
             "ticks": ""
            },
            "type": "contourcarpet"
           }
          ],
          "heatmap": [
           {
            "colorbar": {
             "outlinewidth": 0,
             "ticks": ""
            },
            "colorscale": [
             [
              0,
              "#0d0887"
             ],
             [
              0.1111111111111111,
              "#46039f"
             ],
             [
              0.2222222222222222,
              "#7201a8"
             ],
             [
              0.3333333333333333,
              "#9c179e"
             ],
             [
              0.4444444444444444,
              "#bd3786"
             ],
             [
              0.5555555555555556,
              "#d8576b"
             ],
             [
              0.6666666666666666,
              "#ed7953"
             ],
             [
              0.7777777777777778,
              "#fb9f3a"
             ],
             [
              0.8888888888888888,
              "#fdca26"
             ],
             [
              1,
              "#f0f921"
             ]
            ],
            "type": "heatmap"
           }
          ],
          "heatmapgl": [
           {
            "colorbar": {
             "outlinewidth": 0,
             "ticks": ""
            },
            "colorscale": [
             [
              0,
              "#0d0887"
             ],
             [
              0.1111111111111111,
              "#46039f"
             ],
             [
              0.2222222222222222,
              "#7201a8"
             ],
             [
              0.3333333333333333,
              "#9c179e"
             ],
             [
              0.4444444444444444,
              "#bd3786"
             ],
             [
              0.5555555555555556,
              "#d8576b"
             ],
             [
              0.6666666666666666,
              "#ed7953"
             ],
             [
              0.7777777777777778,
              "#fb9f3a"
             ],
             [
              0.8888888888888888,
              "#fdca26"
             ],
             [
              1,
              "#f0f921"
             ]
            ],
            "type": "heatmapgl"
           }
          ],
          "histogram": [
           {
            "marker": {
             "pattern": {
              "fillmode": "overlay",
              "size": 10,
              "solidity": 0.2
             }
            },
            "type": "histogram"
           }
          ],
          "histogram2d": [
           {
            "colorbar": {
             "outlinewidth": 0,
             "ticks": ""
            },
            "colorscale": [
             [
              0,
              "#0d0887"
             ],
             [
              0.1111111111111111,
              "#46039f"
             ],
             [
              0.2222222222222222,
              "#7201a8"
             ],
             [
              0.3333333333333333,
              "#9c179e"
             ],
             [
              0.4444444444444444,
              "#bd3786"
             ],
             [
              0.5555555555555556,
              "#d8576b"
             ],
             [
              0.6666666666666666,
              "#ed7953"
             ],
             [
              0.7777777777777778,
              "#fb9f3a"
             ],
             [
              0.8888888888888888,
              "#fdca26"
             ],
             [
              1,
              "#f0f921"
             ]
            ],
            "type": "histogram2d"
           }
          ],
          "histogram2dcontour": [
           {
            "colorbar": {
             "outlinewidth": 0,
             "ticks": ""
            },
            "colorscale": [
             [
              0,
              "#0d0887"
             ],
             [
              0.1111111111111111,
              "#46039f"
             ],
             [
              0.2222222222222222,
              "#7201a8"
             ],
             [
              0.3333333333333333,
              "#9c179e"
             ],
             [
              0.4444444444444444,
              "#bd3786"
             ],
             [
              0.5555555555555556,
              "#d8576b"
             ],
             [
              0.6666666666666666,
              "#ed7953"
             ],
             [
              0.7777777777777778,
              "#fb9f3a"
             ],
             [
              0.8888888888888888,
              "#fdca26"
             ],
             [
              1,
              "#f0f921"
             ]
            ],
            "type": "histogram2dcontour"
           }
          ],
          "mesh3d": [
           {
            "colorbar": {
             "outlinewidth": 0,
             "ticks": ""
            },
            "type": "mesh3d"
           }
          ],
          "parcoords": [
           {
            "line": {
             "colorbar": {
              "outlinewidth": 0,
              "ticks": ""
             }
            },
            "type": "parcoords"
           }
          ],
          "pie": [
           {
            "automargin": true,
            "type": "pie"
           }
          ],
          "scatter": [
           {
            "fillpattern": {
             "fillmode": "overlay",
             "size": 10,
             "solidity": 0.2
            },
            "type": "scatter"
           }
          ],
          "scatter3d": [
           {
            "line": {
             "colorbar": {
              "outlinewidth": 0,
              "ticks": ""
             }
            },
            "marker": {
             "colorbar": {
              "outlinewidth": 0,
              "ticks": ""
             }
            },
            "type": "scatter3d"
           }
          ],
          "scattercarpet": [
           {
            "marker": {
             "colorbar": {
              "outlinewidth": 0,
              "ticks": ""
             }
            },
            "type": "scattercarpet"
           }
          ],
          "scattergeo": [
           {
            "marker": {
             "colorbar": {
              "outlinewidth": 0,
              "ticks": ""
             }
            },
            "type": "scattergeo"
           }
          ],
          "scattergl": [
           {
            "marker": {
             "colorbar": {
              "outlinewidth": 0,
              "ticks": ""
             }
            },
            "type": "scattergl"
           }
          ],
          "scattermapbox": [
           {
            "marker": {
             "colorbar": {
              "outlinewidth": 0,
              "ticks": ""
             }
            },
            "type": "scattermapbox"
           }
          ],
          "scatterpolar": [
           {
            "marker": {
             "colorbar": {
              "outlinewidth": 0,
              "ticks": ""
             }
            },
            "type": "scatterpolar"
           }
          ],
          "scatterpolargl": [
           {
            "marker": {
             "colorbar": {
              "outlinewidth": 0,
              "ticks": ""
             }
            },
            "type": "scatterpolargl"
           }
          ],
          "scatterternary": [
           {
            "marker": {
             "colorbar": {
              "outlinewidth": 0,
              "ticks": ""
             }
            },
            "type": "scatterternary"
           }
          ],
          "surface": [
           {
            "colorbar": {
             "outlinewidth": 0,
             "ticks": ""
            },
            "colorscale": [
             [
              0,
              "#0d0887"
             ],
             [
              0.1111111111111111,
              "#46039f"
             ],
             [
              0.2222222222222222,
              "#7201a8"
             ],
             [
              0.3333333333333333,
              "#9c179e"
             ],
             [
              0.4444444444444444,
              "#bd3786"
             ],
             [
              0.5555555555555556,
              "#d8576b"
             ],
             [
              0.6666666666666666,
              "#ed7953"
             ],
             [
              0.7777777777777778,
              "#fb9f3a"
             ],
             [
              0.8888888888888888,
              "#fdca26"
             ],
             [
              1,
              "#f0f921"
             ]
            ],
            "type": "surface"
           }
          ],
          "table": [
           {
            "cells": {
             "fill": {
              "color": "#EBF0F8"
             },
             "line": {
              "color": "white"
             }
            },
            "header": {
             "fill": {
              "color": "#C8D4E3"
             },
             "line": {
              "color": "white"
             }
            },
            "type": "table"
           }
          ]
         },
         "layout": {
          "annotationdefaults": {
           "arrowcolor": "#2a3f5f",
           "arrowhead": 0,
           "arrowwidth": 1
          },
          "autotypenumbers": "strict",
          "coloraxis": {
           "colorbar": {
            "outlinewidth": 0,
            "ticks": ""
           }
          },
          "colorscale": {
           "diverging": [
            [
             0,
             "#8e0152"
            ],
            [
             0.1,
             "#c51b7d"
            ],
            [
             0.2,
             "#de77ae"
            ],
            [
             0.3,
             "#f1b6da"
            ],
            [
             0.4,
             "#fde0ef"
            ],
            [
             0.5,
             "#f7f7f7"
            ],
            [
             0.6,
             "#e6f5d0"
            ],
            [
             0.7,
             "#b8e186"
            ],
            [
             0.8,
             "#7fbc41"
            ],
            [
             0.9,
             "#4d9221"
            ],
            [
             1,
             "#276419"
            ]
           ],
           "sequential": [
            [
             0,
             "#0d0887"
            ],
            [
             0.1111111111111111,
             "#46039f"
            ],
            [
             0.2222222222222222,
             "#7201a8"
            ],
            [
             0.3333333333333333,
             "#9c179e"
            ],
            [
             0.4444444444444444,
             "#bd3786"
            ],
            [
             0.5555555555555556,
             "#d8576b"
            ],
            [
             0.6666666666666666,
             "#ed7953"
            ],
            [
             0.7777777777777778,
             "#fb9f3a"
            ],
            [
             0.8888888888888888,
             "#fdca26"
            ],
            [
             1,
             "#f0f921"
            ]
           ],
           "sequentialminus": [
            [
             0,
             "#0d0887"
            ],
            [
             0.1111111111111111,
             "#46039f"
            ],
            [
             0.2222222222222222,
             "#7201a8"
            ],
            [
             0.3333333333333333,
             "#9c179e"
            ],
            [
             0.4444444444444444,
             "#bd3786"
            ],
            [
             0.5555555555555556,
             "#d8576b"
            ],
            [
             0.6666666666666666,
             "#ed7953"
            ],
            [
             0.7777777777777778,
             "#fb9f3a"
            ],
            [
             0.8888888888888888,
             "#fdca26"
            ],
            [
             1,
             "#f0f921"
            ]
           ]
          },
          "colorway": [
           "#636efa",
           "#EF553B",
           "#00cc96",
           "#ab63fa",
           "#FFA15A",
           "#19d3f3",
           "#FF6692",
           "#B6E880",
           "#FF97FF",
           "#FECB52"
          ],
          "font": {
           "color": "#2a3f5f"
          },
          "geo": {
           "bgcolor": "white",
           "lakecolor": "white",
           "landcolor": "#E5ECF6",
           "showlakes": true,
           "showland": true,
           "subunitcolor": "white"
          },
          "hoverlabel": {
           "align": "left"
          },
          "hovermode": "closest",
          "mapbox": {
           "style": "light"
          },
          "paper_bgcolor": "white",
          "plot_bgcolor": "#E5ECF6",
          "polar": {
           "angularaxis": {
            "gridcolor": "white",
            "linecolor": "white",
            "ticks": ""
           },
           "bgcolor": "#E5ECF6",
           "radialaxis": {
            "gridcolor": "white",
            "linecolor": "white",
            "ticks": ""
           }
          },
          "scene": {
           "xaxis": {
            "backgroundcolor": "#E5ECF6",
            "gridcolor": "white",
            "gridwidth": 2,
            "linecolor": "white",
            "showbackground": true,
            "ticks": "",
            "zerolinecolor": "white"
           },
           "yaxis": {
            "backgroundcolor": "#E5ECF6",
            "gridcolor": "white",
            "gridwidth": 2,
            "linecolor": "white",
            "showbackground": true,
            "ticks": "",
            "zerolinecolor": "white"
           },
           "zaxis": {
            "backgroundcolor": "#E5ECF6",
            "gridcolor": "white",
            "gridwidth": 2,
            "linecolor": "white",
            "showbackground": true,
            "ticks": "",
            "zerolinecolor": "white"
           }
          },
          "shapedefaults": {
           "line": {
            "color": "#2a3f5f"
           }
          },
          "ternary": {
           "aaxis": {
            "gridcolor": "white",
            "linecolor": "white",
            "ticks": ""
           },
           "baxis": {
            "gridcolor": "white",
            "linecolor": "white",
            "ticks": ""
           },
           "bgcolor": "#E5ECF6",
           "caxis": {
            "gridcolor": "white",
            "linecolor": "white",
            "ticks": ""
           }
          },
          "title": {
           "x": 0.05
          },
          "xaxis": {
           "automargin": true,
           "gridcolor": "white",
           "linecolor": "white",
           "ticks": "",
           "title": {
            "standoff": 15
           },
           "zerolinecolor": "white",
           "zerolinewidth": 2
          },
          "yaxis": {
           "automargin": true,
           "gridcolor": "white",
           "linecolor": "white",
           "ticks": "",
           "title": {
            "standoff": 15
           },
           "zerolinecolor": "white",
           "zerolinewidth": 2
          }
         }
        }
       }
      }
     },
     "metadata": {},
     "output_type": "display_data"
    }
   ],
   "source": [
    "\n",
    "total_counts = {}\n",
    "for class_name in target_classes:\n",
    "    mask_pref_name = df['pref_name'].str.contains(class_name, case=False, na=False)\n",
    "    mask_class_name = df['protein_class_name'].str.contains(class_name, case=False, na=False)\n",
    "    mask_description = df['protein_class_description'].str.contains(class_name, case=False, na=False)\n",
    "    \n",
    "    combined_mask = mask_pref_name | mask_class_name | mask_description\n",
    "    total_counts[class_name] = combined_mask.sum()\n",
    "\n",
    "total_counts_df = pd.DataFrame(total_counts.items(), columns=['Class', 'Count'])\n",
    "\n",
    "fig = go.Figure(data=[go.Table(\n",
    "    header=dict(values=['Class', 'Count'],\n",
    "                fill_color='paleturquoise',\n",
    "                align='left'),\n",
    "    cells=dict(values=[total_counts_df['Class'], total_counts_df['Count']],\n",
    "               fill_color='lavender',\n",
    "               align='left'))\n",
    "])\n",
    "\n",
    "fig.show()"
   ]
  },
  {
   "cell_type": "code",
   "execution_count": 4,
   "metadata": {},
   "outputs": [
    {
     "data": {
      "application/vnd.plotly.v1+json": {
       "config": {
        "plotlyServerURL": "https://plot.ly"
       },
       "data": [
        {
         "cells": {
          "align": "left",
          "fill": {
           "color": "lavender"
          },
          "values": [
           [
            "Cytochrome P450",
            "ion channel",
            "G protein-coupled",
            "Kinase",
            "Toll-like",
            "epigenetic regulator",
            "Protease",
            "Nuclear receptor",
            "methyltransferase",
            "demethylase",
            "Histone deacetylase",
            "Histone acetyltransferase",
            "Bromodomain",
            "protein tau",
            "Heat shock",
            "transient receptor",
            "GRP",
            "kinase",
            "protease",
            "nuclear receptor",
            "cytochrome P450",
            "heat shock"
           ],
           [
            42,
            175,
            105,
            601,
            10,
            209,
            231,
            50,
            84,
            32,
            12,
            14,
            45,
            1,
            15,
            23,
            3,
            601,
            231,
            50,
            42,
            15
           ],
           [
            "CHEMBL2033, CHEMBL1978, CHEMBL1908, CHEMBL1851, CHEMBL1835, CHEMBL4878, CHEMBL3721, CHEMBL3379, CHEMBL2231, CHEMBL2408, CHEMBL3978, CHEMBL3849, CHEMBL289, CHEMBL2722, CHEMBL2759, CHEMBL3356, CHEMBL3019, CHEMBL3397, CHEMBL3622, CHEMBL3522, CHEMBL4428, CHEMBL340, CHEMBL5281, CHEMBL5282, CHEMBL4729, CHEMBL5141, CHEMBL4521, CHEMBL3491, CHEMBL5792, CHEMBL6048, CHEMBL5992, CHEMBL5993, CHEMBL2169731, CHEMBL2406897, CHEMBL3341582, CHEMBL3509589, CHEMBL3542436, CHEMBL3542437, CHEMBL3713687, CHEMBL4295949, CHEMBL4523270, CHEMBL4523375",
            "CHEMBL1859, CHEMBL1962, CHEMBL1846, CHEMBL1845, CHEMBL1791, CHEMBL1899, CHEMBL2015, CHEMBL240, CHEMBL1972, CHEMBL1940, CHEMBL2058, CHEMBL1920, CHEMBL1904, CHEMBL2062, CHEMBL1886, CHEMBL4306, CHEMBL4942, CHEMBL4794, CHEMBL3708, CHEMBL4469, CHEMBL2476, CHEMBL2104, CHEMBL4805, CHEMBL3595, CHEMBL4478, CHEMBL3572, CHEMBL2094, CHEMBL2531, CHEMBL2086, CHEMBL4633, CHEMBL2492, CHEMBL2184, CHEMBL2484, CHEMBL1883, CHEMBL1882, CHEMBL3805, CHEMBL4808, CHEMBL4770, CHEMBL4305, CHEMBL3841, CHEMBL2227, CHEMBL2009, CHEMBL3576, CHEMBL1964, CHEMBL4138, CHEMBL3068, CHEMBL2472, CHEMBL4558, CHEMBL3591, CHEMBL4016, CHEMBL3684, CHEMBL3895, CHEMBL5112, CHEMBL2579, CHEMBL1980, CHEMBL4051, CHEMBL2473, CHEMBL2375, CHEMBL2675, CHEMBL4046, CHEMBL3904, CHEMBL4304, CHEMBL2369, CHEMBL3119, CHEMBL1847, CHEMBL2998, CHEMBL2773, CHEMBL2925, CHEMBL4787, CHEMBL1918, CHEMBL3683, CHEMBL3381, CHEMBL2309, CHEMBL3190, CHEMBL3011, CHEMBL3026, CHEMBL4956, CHEMBL4403, CHEMBL2591, CHEMBL1866, CHEMBL2670, CHEMBL2684, CHEMBL3561, CHEMBL4109, CHEMBL4266, CHEMBL2072, CHEMBL3585, CHEMBL4296, CHEMBL4187, CHEMBL5163, CHEMBL5167, CHEMBL5202, CHEMBL5451, CHEMBL4641, CHEMBL5558, CHEMBL5279, CHEMBL5529, CHEMBL4625, CHEMBL4860, CHEMBL4205, CHEMBL5318, CHEMBL5368, CHEMBL5051, CHEMBL5480, CHEMBL5522, CHEMBL5962, CHEMBL5964, CHEMBL6007, CHEMBL5772, CHEMBL5845, CHEMBL5871, CHEMBL5885, CHEMBL6190, CHEMBL1075092, CHEMBL1075319, CHEMBL1250402, CHEMBL1250411, CHEMBL1250412, CHEMBL1250417, CHEMBL1293243, CHEMBL1293292, CHEMBL1628462, CHEMBL1628465, CHEMBL1628468, CHEMBL1628469, CHEMBL1628470, CHEMBL1628474, CHEMBL1628477, CHEMBL1628478, CHEMBL1628483, CHEMBL1628484, CHEMBL1687682, CHEMBL1764938, CHEMBL1795171, CHEMBL1795172, CHEMBL1795173, CHEMBL1914276, CHEMBL1914277, CHEMBL1914278, CHEMBL2046267, CHEMBL2146347, CHEMBL2146348, CHEMBL2146349, CHEMBL2311231, CHEMBL2321613, CHEMBL2321614, CHEMBL2321615, CHEMBL2321618, CHEMBL2331041, CHEMBL2331042, CHEMBL2363000, CHEMBL2363001, CHEMBL2363009, CHEMBL2363011, CHEMBL2363017, CHEMBL2364160, CHEMBL2384891, CHEMBL2401603, CHEMBL2406895, CHEMBL2417347, CHEMBL2417348, CHEMBL3559708, CHEMBL3714486, CHEMBL3779756, CHEMBL4105767, CHEMBL4105799, CHEMBL4295971, CHEMBL4523157, CHEMBL4523210, CHEMBL4523224, CHEMBL4523244, CHEMBL4523433, CHEMBL4523461, CHEMBL4524043, CHEMBL5169186",
            "CHEMBL5071, CHEMBL5006, CHEMBL5849, CHEMBL5850, CHEMBL5861, CHEMBL5678, CHEMBL6144, CHEMBL1075133, CHEMBL1777664, CHEMBL2069161, CHEMBL2346493, CHEMBL2384898, CHEMBL3085617, CHEMBL3085618, CHEMBL3091266, CHEMBL3259470, CHEMBL3297639, CHEMBL3309102, CHEMBL3321651, CHEMBL3341577, CHEMBL3399910, CHEMBL3559686, CHEMBL3559687, CHEMBL3559688, CHEMBL3559689, CHEMBL3559701, CHEMBL3559707, CHEMBL3562165, CHEMBL3562166, CHEMBL3562167, CHEMBL3632455, CHEMBL3638324, CHEMBL3713916, CHEMBL3714046, CHEMBL3714079, CHEMBL3714081, CHEMBL3714130, CHEMBL3721312, CHEMBL4523116, CHEMBL4523229, CHEMBL4523430, CHEMBL4523454, CHEMBL4523491, CHEMBL4523492, CHEMBL4523856, CHEMBL4523857, CHEMBL4523858, CHEMBL4523860, CHEMBL4523861, CHEMBL4523863, CHEMBL4523865, CHEMBL4523866, CHEMBL4523868, CHEMBL4523869, CHEMBL4523870, CHEMBL4523871, CHEMBL4523872, CHEMBL4523873, CHEMBL4523874, CHEMBL4523876, CHEMBL4523877, CHEMBL4523879, CHEMBL4523880, CHEMBL4523881, CHEMBL4523882, CHEMBL4523883, CHEMBL4523884, CHEMBL4523885, CHEMBL4523887, CHEMBL4523888, CHEMBL4523889, CHEMBL4523890, CHEMBL4523891, CHEMBL4523892, CHEMBL4523893, CHEMBL4523894, CHEMBL4523895, CHEMBL4523896, CHEMBL4523897, CHEMBL4523898, CHEMBL4523900, CHEMBL4523901, CHEMBL4523903, CHEMBL4523904, CHEMBL4523905, CHEMBL4523906, CHEMBL4523907, CHEMBL4523908, CHEMBL4523909, CHEMBL4523912, CHEMBL4523913, CHEMBL4523914, CHEMBL4523915, CHEMBL4523916, CHEMBL4523917, CHEMBL4523918, CHEMBL4523920, CHEMBL4523921, CHEMBL4523922, CHEMBL4523923, CHEMBL4523924, CHEMBL4523925, CHEMBL4523926, CHEMBL4523928, CHEMBL4523929",
            "CHEMBL1862, CHEMBL203, CHEMBL1981, CHEMBL1824, CHEMBL1913, CHEMBL1957, CHEMBL1936, CHEMBL3629, CHEMBL2159, CHEMBL2160, CHEMBL2468, CHEMBL2469, CHEMBL3142, CHEMBL2447, CHEMBL3961, CHEMBL2883, CHEMBL258, CHEMBL2886, CHEMBL4883, CHEMBL3589, CHEMBL260, CHEMBL4938, CHEMBL262, CHEMBL2918, CHEMBL3438, CHEMBL2171, CHEMBL2428, CHEMBL2426, CHEMBL4142, CHEMBL3650, CHEMBL3847, CHEMBL4708, CHEMBL2393, CHEMBL2828, CHEMBL4948, CHEMBL4121, CHEMBL2506, CHEMBL267, CHEMBL2109, CHEMBL2508, CHEMBL2527, CHEMBL2534, CHEMBL2116, CHEMBL2117, CHEMBL2453, CHEMBL2431, CHEMBL4816, CHEMBL4079, CHEMBL3476, CHEMBL1991, CHEMBL3123, CHEMBL2185, CHEMBL3125, CHEMBL3231, CHEMBL2147, CHEMBL3032, CHEMBL2634, CHEMBL2148, CHEMBL4237, CHEMBL3582, CHEMBL2938, CHEMBL2595, CHEMBL3861, CHEMBL3023, CHEMBL2598, CHEMBL3863, CHEMBL1906, CHEMBL2599, CHEMBL3024, CHEMBL2959, CHEMBL2835, CHEMBL2553, CHEMBL2971, CHEMBL4924, CHEMBL2972, CHEMBL4925, CHEMBL4926, CHEMBL4928, CHEMBL4937, CHEMBL2493, CHEMBL2494, CHEMBL1868, CHEMBL279, CHEMBL2656, CHEMBL2850, CHEMBL2896, CHEMBL4273, CHEMBL2964, CHEMBL2897, CHEMBL2939, CHEMBL2208, CHEMBL3094, CHEMBL3096, CHEMBL2973, CHEMBL2558, CHEMBL3130, CHEMBL4014, CHEMBL2695, CHEMBL2191, CHEMBL4004, CHEMBL4005, CHEMBL4045, CHEMBL2689, CHEMBL2688, CHEMBL2709, CHEMBL2842, CHEMBL4179, CHEMBL2637, CHEMBL3587, CHEMBL2638, CHEMBL2640, CHEMBL3717, CHEMBL3291, CHEMBL2221, CHEMBL3290, CHEMBL3616, CHEMBL2801, CHEMBL3116, CHEMBL3117, CHEMBL2543, CHEMBL299, CHEMBL3045, CHEMBL3384, CHEMBL4040, CHEMBL3385, CHEMBL301, CHEMBL2250, CHEMBL3220, CHEMBL2251, CHEMBL4989, CHEMBL2793, CHEMBL1955, CHEMBL1841, CHEMBL3234, CHEMBL3905, CHEMBL3906, CHEMBL4175, CHEMBL2708, CHEMBL2873, CHEMBL4394, CHEMBL2815, CHEMBL2999, CHEMBL2911, CHEMBL3973, CHEMBL2742, CHEMBL3267, CHEMBL3667, CHEMBL3268, CHEMBL3286, CHEMBL4101, CHEMBL2743, CHEMBL2320, CHEMBL2270, CHEMBL2777, CHEMBL2872, CHEMBL308, CHEMBL2292, CHEMBL2300, CHEMBL2803, CHEMBL2996, CHEMBL2276, CHEMBL3956, CHEMBL4147, CHEMBL4388, CHEMBL3145, CHEMBL4488, CHEMBL2906, CHEMBL2007, CHEMBL2783, CHEMBL3920, CHEMBL4282, CHEMBL1974, CHEMBL4766, CHEMBL3893, CHEMBL4141, CHEMBL3553, CHEMBL3009, CHEMBL2343, CHEMBL2345, CHEMBL2349, CHEMBL4070, CHEMBL2358, CHEMBL4442, CHEMBL3055, CHEMBL1844, CHEMBL4128, CHEMBL3529, CHEMBL3530, CHEMBL4501, CHEMBL331, CHEMBL4036, CHEMBL4627, CHEMBL4630, CHEMBL4674, CHEMBL4437, CHEMBL4439, CHEMBL3111, CHEMBL2073, CHEMBL3357, CHEMBL3778, CHEMBL3886, CHEMBL4722, CHEMBL5026, CHEMBL4355, CHEMBL5014, CHEMBL3820, CHEMBL3797, CHEMBL5024, CHEMBL3935, CHEMBL3830, CHEMBL3831, CHEMBL3829, CHEMBL3788, CHEMBL3938, CHEMBL3980, CHEMBL3981, CHEMBL3982, CHEMBL2068, CHEMBL4954, CHEMBL4134, CHEMBL3983, CHEMBL4223, CHEMBL4224, CHEMBL4225, CHEMBL4226, CHEMBL3834, CHEMBL3835, CHEMBL3836, CHEMBL3987, CHEMBL5072, CHEMBL3988, CHEMBL4597, CHEMBL4599, CHEMBL4598, CHEMBL4600, CHEMBL4601, CHEMBL4602, CHEMBL5073, CHEMBL5256, CHEMBL5257, CHEMBL5258, CHEMBL5284, CHEMBL3984, CHEMBL5285, CHEMBL4202, CHEMBL4203, CHEMBL4204, CHEMBL4309, CHEMBL4311, CHEMBL4312, CHEMBL4522, CHEMBL4523, CHEMBL4524, CHEMBL4525, CHEMBL4526, CHEMBL4527, CHEMBL4851, CHEMBL4852, CHEMBL4853, CHEMBL4967, CHEMBL5455, CHEMBL4487, CHEMBL4267, CHEMBL5443, CHEMBL2041, CHEMBL4482, CHEMBL4483, CHEMBL5251, CHEMBL5491, CHEMBL5247, CHEMBL5164, CHEMBL5165, CHEMBL5145, CHEMBL4454, CHEMBL5146, CHEMBL5147, CHEMBL5600, CHEMBL4580, CHEMBL5212, CHEMBL4895, CHEMBL4896, CHEMBL4897, CHEMBL4898, CHEMBL4899, CHEMBL4900, CHEMBL4901, CHEMBL4247, CHEMBL4246, CHEMBL4367, CHEMBL4375, CHEMBL4376, CHEMBL3542, CHEMBL5198, CHEMBL4670, CHEMBL4718, CHEMBL4849, CHEMBL4516, CHEMBL4574, CHEMBL4575, CHEMBL4576, CHEMBL4577, CHEMBL4578, CHEMBL5407, CHEMBL5408, CHEMBL5274, CHEMBL5275, CHEMBL5310, CHEMBL5311, CHEMBL5314, CHEMBL5316, CHEMBL5319, CHEMBL5320, CHEMBL5358, CHEMBL5364, CHEMBL5330, CHEMBL5331, CHEMBL5332, CHEMBL5334, CHEMBL5388, CHEMBL5415, CHEMBL5416, CHEMBL5464, CHEMBL5466, CHEMBL5467, CHEMBL5469, CHEMBL5543, CHEMBL5568, CHEMBL5604, CHEMBL5605, CHEMBL5606, CHEMBL5607, CHEMBL5608, CHEMBL5615, CHEMBL5044, CHEMBL5046, CHEMBL5047, CHEMBL5052, CHEMBL5081, CHEMBL5082, CHEMBL5084, CHEMBL5095, CHEMBL5116, CHEMBL5121, CHEMBL5122, CHEMBL5260, CHEMBL5261, CHEMBL5404, CHEMBL5405, CHEMBL5426, CHEMBL5427, CHEMBL5432, CHEMBL5435, CHEMBL5476, CHEMBL5483, CHEMBL5518, CHEMBL5519, CHEMBL5520, CHEMBL5546, CHEMBL5547, CHEMBL5550, CHEMBL5552, CHEMBL5554, CHEMBL5578, CHEMBL5579, CHEMBL5650, CHEMBL5651, CHEMBL5654, CHEMBL5659, CHEMBL5683, CHEMBL5684, CHEMBL5719, CHEMBL5728, CHEMBL5749, CHEMBL5753, CHEMBL5754, CHEMBL5776, CHEMBL5784, CHEMBL5785, CHEMBL5808, CHEMBL5810, CHEMBL5818, CHEMBL5819, CHEMBL5855, CHEMBL5856, CHEMBL5888, CHEMBL5932, CHEMBL5969, CHEMBL5970, CHEMBL5975, CHEMBL6000, CHEMBL6002, CHEMBL6003, CHEMBL6005, CHEMBL6006, CHEMBL6010, CHEMBL6082, CHEMBL6083, CHEMBL6123, CHEMBL6162, CHEMBL6166, CHEMBL6167, CHEMBL5616, CHEMBL5627, CHEMBL5667, CHEMBL5668, CHEMBL5698, CHEMBL5699, CHEMBL5701, CHEMBL5703, CHEMBL5759, CHEMBL5789, CHEMBL5790, CHEMBL5794, CHEMBL5861, CHEMBL5903, CHEMBL5907, CHEMBL5910, CHEMBL5912, CHEMBL5938, CHEMBL5940, CHEMBL5941, CHEMBL6049, CHEMBL6014, CHEMBL6054, CHEMBL6055, CHEMBL5678, CHEMBL5679, CHEMBL5681, CHEMBL5682, CHEMBL6105, CHEMBL6144, CHEMBL6177, CHEMBL6186, CHEMBL5638, CHEMBL5639, CHEMBL5642, CHEMBL5997, CHEMBL6029, CHEMBL6030, CHEMBL5838, CHEMBL5914, CHEMBL6149, CHEMBL6150, CHEMBL6151, CHEMBL6155, CHEMBL6191, CHEMBL1075115, CHEMBL1075120, CHEMBL1075126, CHEMBL1075133, CHEMBL1075157, CHEMBL1075152, CHEMBL1075155, CHEMBL1075163, CHEMBL1075165, CHEMBL1075166, CHEMBL1075167, CHEMBL1075184, CHEMBL1075173, CHEMBL1075181, CHEMBL1075187, CHEMBL1075189, CHEMBL1075195, CHEMBL1075102, CHEMBL1075104, CHEMBL1163101, CHEMBL1163104, CHEMBL1163106, CHEMBL1163108, CHEMBL1163112, CHEMBL1163117, CHEMBL1163120, CHEMBL1163123, CHEMBL1163124, CHEMBL1163126, CHEMBL1163127, CHEMBL1163128, CHEMBL1163129, CHEMBL1169596, CHEMBL1275212, CHEMBL1293199, CHEMBL1293257, CHEMBL1293321, CHEMBL1649059, CHEMBL1741200, CHEMBL1764936, CHEMBL1770034, CHEMBL1772932, CHEMBL1795165, CHEMBL1795191, CHEMBL1795192, CHEMBL1795193, CHEMBL1795194, CHEMBL1795195, CHEMBL1795196, CHEMBL1795198, CHEMBL1795199, CHEMBL1908382, CHEMBL1908383, CHEMBL1908384, CHEMBL1908386, CHEMBL1908389, CHEMBL1926492, CHEMBL1938215, CHEMBL1938216, CHEMBL1938217, CHEMBL1938220, CHEMBL1938222, CHEMBL1938223, CHEMBL2069163, CHEMBL2150836, CHEMBL2189144, CHEMBL2331053, CHEMBL2346490, CHEMBL2375201, CHEMBL2417351, CHEMBL2417352, CHEMBL2417353, CHEMBL2417354, CHEMBL2417355, CHEMBL3108655, CHEMBL3112385, CHEMBL3308982, CHEMBL3337327, CHEMBL3337330, CHEMBL3407326, CHEMBL3407327, CHEMBL3407328, CHEMBL3414416, CHEMBL3421524, CHEMBL3421525, CHEMBL3430761, CHEMBL3559690, CHEMBL3559692, CHEMBL3588730, CHEMBL3627580, CHEMBL3627581, CHEMBL3627582, CHEMBL3627583, CHEMBL3627584, CHEMBL3627585, CHEMBL3627592, CHEMBL3706558, CHEMBL3721311, CHEMBL3758070, CHEMBL4105755, CHEMBL4105756, CHEMBL4105759, CHEMBL4105787, CHEMBL4105789, CHEMBL4105826, CHEMBL4105885, CHEMBL4105886, CHEMBL4105895, CHEMBL4105932, CHEMBL4105936, CHEMBL4105940, CHEMBL4105942, CHEMBL4295800, CHEMBL4295868, CHEMBL4295878, CHEMBL4295902, CHEMBL4295927, CHEMBL4295947, CHEMBL4295965, CHEMBL4295978, CHEMBL4295983, CHEMBL4295998, CHEMBL4296242, CHEMBL4523108, CHEMBL4523135, CHEMBL4523326, CHEMBL4523401, CHEMBL4523418, CHEMBL4523431, CHEMBL4523432, CHEMBL4523434, CHEMBL4523488, CHEMBL4523504, CHEMBL4524035, CHEMBL4665585, CHEMBL4680027, CHEMBL4802064, CHEMBL4804244, CHEMBL4879410, CHEMBL4879437, CHEMBL4879492",
            "CHEMBL5255, CHEMBL4163, CHEMBL5804, CHEMBL5805, CHEMBL5936, CHEMBL1075113, CHEMBL2176839, CHEMBL3259477, CHEMBL3714412",
            "CHEMBL1993, CHEMBL1992, CHEMBL3192, CHEMBL5103, CHEMBL1937, CHEMBL1829, CHEMBL3524, CHEMBL1865, CHEMBL4145, CHEMBL3310, CHEMBL2563, CHEMBL2716, CHEMBL325, CHEMBL4461, CHEMBL4462, CHEMBL4506, CHEMBL3784, CHEMBL5500, CHEMBL5501, CHEMBL5523, CHEMBL5524, CHEMBL5406, CHEMBL5747, CHEMBL5750, CHEMBL5891, CHEMBL5896, CHEMBL6095, CHEMBL6136, CHEMBL6138, CHEMBL6175, CHEMBL6031, CHEMBL6032, CHEMBL6151, CHEMBL1163125, CHEMBL1275221, CHEMBL1287622, CHEMBL1287623, CHEMBL1287624, CHEMBL1287625, CHEMBL1293226, CHEMBL1293232, CHEMBL1293289, CHEMBL1293299, CHEMBL1615382, CHEMBL1615387, CHEMBL1741193, CHEMBL1741210, CHEMBL1741220, CHEMBL1764944, CHEMBL1764945, CHEMBL1764946, CHEMBL1795116, CHEMBL1795117, CHEMBL1795118, CHEMBL1795176, CHEMBL1795177, CHEMBL1795184, CHEMBL1795185, CHEMBL1795186, CHEMBL1932912, CHEMBL1938208, CHEMBL1938209, CHEMBL1938210, CHEMBL1938211, CHEMBL1938212, CHEMBL2069164, CHEMBL2150837, CHEMBL2163176, CHEMBL2163177, CHEMBL2163182, CHEMBL2163183, CHEMBL2163184, CHEMBL2163185, CHEMBL2169716, CHEMBL2176772, CHEMBL2176773, CHEMBL2176774, CHEMBL2176775, CHEMBL2189110, CHEMBL2189111, CHEMBL2189112, CHEMBL2189113, CHEMBL2189114, CHEMBL2189116, CHEMBL2321643, CHEMBL2321644, CHEMBL2321645, CHEMBL2321646, CHEMBL2362979, CHEMBL2424504, CHEMBL2424508, CHEMBL2424509, CHEMBL2424510, CHEMBL3085620, CHEMBL3085621, CHEMBL3085622, CHEMBL3108638, CHEMBL3108639, CHEMBL3108640, CHEMBL3108641, CHEMBL3108642, CHEMBL3108643, CHEMBL3108644, CHEMBL3108645, CHEMBL3108646, CHEMBL3108647, CHEMBL3108648, CHEMBL3108649, CHEMBL3132741, CHEMBL3232684, CHEMBL3313832, CHEMBL3351192, CHEMBL3414405, CHEMBL3562175, CHEMBL3588731, CHEMBL3588737, CHEMBL3588738, CHEMBL3588739, CHEMBL3588741, CHEMBL3588742, CHEMBL3627580, CHEMBL3638346, CHEMBL3707462, CHEMBL3709855, CHEMBL3763005, CHEMBL3769296, CHEMBL3769297, CHEMBL3774295, CHEMBL3779760, CHEMBL3779761, CHEMBL3779762, CHEMBL3784904, CHEMBL3784906, CHEMBL3792271, CHEMBL3826866, CHEMBL3826867, CHEMBL3879827, CHEMBL3879852, CHEMBL3879857, CHEMBL3879864, CHEMBL3988590, CHEMBL4105737, CHEMBL4105828, CHEMBL4105959, CHEMBL4105997, CHEMBL4295681, CHEMBL4295761, CHEMBL4295801, CHEMBL4296261, CHEMBL4296266, CHEMBL4296267, CHEMBL4523321, CHEMBL4523325, CHEMBL4523329, CHEMBL4523364, CHEMBL4523393, CHEMBL4523425, CHEMBL4523440, CHEMBL4523509",
            "CHEMBL204, CHEMBL1801, CHEMBL2000, CHEMBL1968, CHEMBL209, CHEMBL1808, CHEMBL1892, CHEMBL2016, CHEMBL244, CHEMBL3000, CHEMBL248, CHEMBL1944, CHEMBL4618, CHEMBL1907, CHEMBL1989, CHEMBL2581, CHEMBL4713, CHEMBL2136, CHEMBL3159, CHEMBL2442, CHEMBL2443, CHEMBL4068, CHEMBL4551, CHEMBL2334, CHEMBL3898, CHEMBL4884, CHEMBL4939, CHEMBL4943, CHEMBL4861, CHEMBL3782, CHEMBL4707, CHEMBL3776, CHEMBL2474, CHEMBL3419, CHEMBL2335, CHEMBL2099, CHEMBL4072, CHEMBL2517, CHEMBL4071, CHEMBL268, CHEMBL3837, CHEMBL2088, CHEMBL3038, CHEMBL3974, CHEMBL2525, CHEMBL3418, CHEMBL3913, CHEMBL3922, CHEMBL2432, CHEMBL2433, CHEMBL4812, CHEMBL3031, CHEMBL4863, CHEMBL2641, CHEMBL4796, CHEMBL4873, CHEMBL2552, CHEMBL2609, CHEMBL280, CHEMBL2963, CHEMBL2200, CHEMBL2226, CHEMBL3131, CHEMBL283, CHEMBL4588, CHEMBL2232, CHEMBL284, CHEMBL4307, CHEMBL4930, CHEMBL3869, CHEMBL4791, CHEMBL286, CHEMBL2693, CHEMBL4244, CHEMBL2867, CHEMBL2820, CHEMBL2821, CHEMBL3411, CHEMBL2826, CHEMBL1873, CHEMBL2611, CHEMBL3900, CHEMBL4185, CHEMBL3706, CHEMBL4610, CHEMBL3182, CHEMBL2954, CHEMBL2223, CHEMBL2225, CHEMBL2761, CHEMBL2264, CHEMBL4801, CHEMBL2386, CHEMBL4611, CHEMBL2382, CHEMBL3092, CHEMBL3439, CHEMBL2409, CHEMBL3736, CHEMBL4393, CHEMBL3286, CHEMBL3202, CHEMBL5982, CHEMBL3991, CHEMBL3308, CHEMBL2273, CHEMBL2738, CHEMBL3468, CHEMBL2951, CHEMBL4822, CHEMBL3976, CHEMBL3295, CHEMBL2929, CHEMBL3965, CHEMBL2252, CHEMBL4446, CHEMBL4447, CHEMBL4448, CHEMBL3272, CHEMBL321, CHEMBL4270, CHEMBL2316, CHEMBL2617, CHEMBL3018, CHEMBL4073, CHEMBL4444, CHEMBL4955, CHEMBL2318, CHEMBL2285, CHEMBL2644, CHEMBL2645, CHEMBL3891, CHEMBL332, CHEMBL333, CHEMBL2319, CHEMBL2937, CHEMBL4691, CHEMBL4657, CHEMBL4793, CHEMBL5037, CHEMBL5030, CHEMBL5028, CHEMBL4683, CHEMBL4520, CHEMBL5133, CHEMBL3492, CHEMBL4662, CHEMBL4208, CHEMBL4160, CHEMBL5610, CHEMBL5043, CHEMBL5050, CHEMBL5350, CHEMBL5477, CHEMBL5890, CHEMBL5963, CHEMBL6121, CHEMBL5620, CHEMBL5665, CHEMBL5731, CHEMBL5939, CHEMBL5991, CHEMBL5916, CHEMBL6115, CHEMBL6153, CHEMBL6156, CHEMBL6158, CHEMBL6159, CHEMBL6195, CHEMBL1293227, CHEMBL1293295, CHEMBL1741174, CHEMBL1741195, CHEMBL1741207, CHEMBL1741213, CHEMBL1741215, CHEMBL1741221, CHEMBL1795087, CHEMBL1795093, CHEMBL1795103, CHEMBL1795138, CHEMBL1795139, CHEMBL1795140, CHEMBL1909484, CHEMBL1926496, CHEMBL1938214, CHEMBL1938226, CHEMBL1944495, CHEMBL1944496, CHEMBL2007629, CHEMBL2079849, CHEMBL2157850, CHEMBL2157851, CHEMBL2157853, CHEMBL2157854, CHEMBL2176771, CHEMBL2176776, CHEMBL2189131, CHEMBL2331048, CHEMBL2346492, CHEMBL2406899, CHEMBL2406900, CHEMBL3124731, CHEMBL3232682, CHEMBL3286078, CHEMBL3308923, CHEMBL3317334, CHEMBL3347256, CHEMBL3351190, CHEMBL3407316, CHEMBL3407317, CHEMBL3407323, CHEMBL3407324, CHEMBL3713453, CHEMBL3739248, CHEMBL3739253, CHEMBL3797014, CHEMBL3831205, CHEMBL3886062, CHEMBL4295646, CHEMBL4295768, CHEMBL4523137, CHEMBL4523305, CHEMBL4523419, CHEMBL4630848, CHEMBL4802012, CHEMBL4879435, CHEMBL4879436, CHEMBL5169181, CHEMBL5291568, CHEMBL5305024",
            "CHEMBL206, CHEMBL2034, CHEMBL208, CHEMBL1994, CHEMBL1871, CHEMBL2055, CHEMBL1860, CHEMBL1977, CHEMBL235, CHEMBL239, CHEMBL242, CHEMBL2003, CHEMBL2004, CHEMBL2008, CHEMBL1947, CHEMBL2061, CHEMBL1870, CHEMBL3429, CHEMBL2047, CHEMBL3751, CHEMBL4245, CHEMBL2808, CHEMBL3401, CHEMBL3979, CHEMBL4093, CHEMBL4374, CHEMBL3544, CHEMBL4666, CHEMBL5503, CHEMBL5603, CHEMBL5002, CHEMBL5716, CHEMBL5868, CHEMBL1293229, CHEMBL1615382, CHEMBL1615387, CHEMBL1741186, CHEMBL1795094, CHEMBL1961783, CHEMBL1961784, CHEMBL1961786, CHEMBL1961787, CHEMBL1961788, CHEMBL1961789, CHEMBL1961790, CHEMBL1961791, CHEMBL1961792, CHEMBL1961793, CHEMBL3091268, CHEMBL4295924",
            "CHEMBL2023, CHEMBL1993, CHEMBL1992, CHEMBL2131, CHEMBL4617, CHEMBL4240, CHEMBL2190, CHEMBL2500, CHEMBL2864, CHEMBL4328, CHEMBL4699, CHEMBL5523, CHEMBL5524, CHEMBL5406, CHEMBL5891, CHEMBL6095, CHEMBL6031, CHEMBL6032, CHEMBL1275221, CHEMBL1293299, CHEMBL1772927, CHEMBL1795116, CHEMBL1795117, CHEMBL1795118, CHEMBL1795176, CHEMBL1795177, CHEMBL2163167, CHEMBL2169716, CHEMBL2189110, CHEMBL2189111, CHEMBL2189112, CHEMBL2189113, CHEMBL2189114, CHEMBL2189116, CHEMBL2321643, CHEMBL2321644, CHEMBL2321645, CHEMBL2321646, CHEMBL2346486, CHEMBL3108645, CHEMBL3108646, CHEMBL3108647, CHEMBL3108648, CHEMBL3562175, CHEMBL3588737, CHEMBL3588738, CHEMBL3588739, CHEMBL3588740, CHEMBL3588741, CHEMBL3588742, CHEMBL4105724, CHEMBL4105837, CHEMBL4105954, CHEMBL4295662, CHEMBL4295747, CHEMBL4295950, CHEMBL4295977, CHEMBL4523124, CHEMBL4523290, CHEMBL4523295, CHEMBL4523393, CHEMBL4523442, CHEMBL4630834, CHEMBL4739683, CHEMBL4739695, CHEMBL4802014, CHEMBL5169179, CHEMBL5214855, CHEMBL5214858, CHEMBL5214861, CHEMBL5214865",
            "CHEMBL5896, CHEMBL6136, CHEMBL6138, CHEMBL6175, CHEMBL1293226, CHEMBL1938208, CHEMBL1938209, CHEMBL1938210, CHEMBL1938211, CHEMBL1938212, CHEMBL2069164, CHEMBL2163176, CHEMBL2163177, CHEMBL2424504, CHEMBL3313832, CHEMBL3621037, CHEMBL3774295, CHEMBL3779760, CHEMBL3784906, CHEMBL4295672, CHEMBL4523345, CHEMBL5169164, CHEMBL5169191",
            "CHEMBL3192, CHEMBL5103, CHEMBL1937, CHEMBL1829, CHEMBL3524, CHEMBL1865, CHEMBL4145, CHEMBL3310, CHEMBL2563, CHEMBL2716, CHEMBL325, CHEMBL1229012",
            "CHEMBL3784, CHEMBL5500, CHEMBL5501, CHEMBL5750, CHEMBL1932912, CHEMBL3774298, CHEMBL3774299, CHEMBL3774300, CHEMBL4523128",
            "CHEMBL3784, CHEMBL5500, CHEMBL5501, CHEMBL5747, CHEMBL1163125, CHEMBL1293289, CHEMBL1293299, CHEMBL1741220, CHEMBL1795184, CHEMBL1795185, CHEMBL1795186, CHEMBL2150837, CHEMBL2176772, CHEMBL2176773, CHEMBL2176774, CHEMBL2176775, CHEMBL2362979, CHEMBL3085620, CHEMBL3085621, CHEMBL3085622, CHEMBL3108638, CHEMBL3108639, CHEMBL3108640, CHEMBL3108641, CHEMBL3108642, CHEMBL3108643, CHEMBL3108644, CHEMBL3132741, CHEMBL3351192, CHEMBL3588731, CHEMBL3588739, CHEMBL3627580, CHEMBL3769296, CHEMBL3769297, CHEMBL4105737, CHEMBL4105997, CHEMBL4296267",
            "CHEMBL1293224",
            "CHEMBL3880, CHEMBL4303, CHEMBL4721, CHEMBL5460, CHEMBL5869, CHEMBL5976, CHEMBL1075132, CHEMBL1275223, CHEMBL2062348, CHEMBL3232688, CHEMBL3309113, CHEMBL3706560, CHEMBL4105858, CHEMBL5169130, CHEMBL5169146",
            "CHEMBL4794, CHEMBL3119, CHEMBL5051, CHEMBL5522, CHEMBL6007, CHEMBL5772, CHEMBL1075319, CHEMBL1250402, CHEMBL1250411, CHEMBL1250412, CHEMBL1293243, CHEMBL1628465, CHEMBL1628468, CHEMBL1628469, CHEMBL1628470, CHEMBL1628474, CHEMBL2417347, CHEMBL2417348, CHEMBL3559708, CHEMBL3721310, CHEMBL4105799, CHEMBL4295971, CHEMBL4524043",
            "CHEMBL4080, CHEMBL4959, CHEMBL4616",
            "CHEMBL1862, CHEMBL203, CHEMBL1981, CHEMBL1824, CHEMBL1913, CHEMBL1957, CHEMBL1936, CHEMBL3629, CHEMBL2159, CHEMBL2160, CHEMBL2468, CHEMBL2469, CHEMBL3142, CHEMBL2447, CHEMBL3961, CHEMBL2883, CHEMBL258, CHEMBL2886, CHEMBL4883, CHEMBL3589, CHEMBL260, CHEMBL4938, CHEMBL262, CHEMBL2918, CHEMBL3438, CHEMBL2171, CHEMBL2428, CHEMBL2426, CHEMBL4142, CHEMBL3650, CHEMBL3847, CHEMBL4708, CHEMBL2393, CHEMBL2828, CHEMBL4948, CHEMBL4121, CHEMBL2506, CHEMBL267, CHEMBL2109, CHEMBL2508, CHEMBL2527, CHEMBL2534, CHEMBL2116, CHEMBL2117, CHEMBL2453, CHEMBL2431, CHEMBL4816, CHEMBL4079, CHEMBL3476, CHEMBL1991, CHEMBL3123, CHEMBL2185, CHEMBL3125, CHEMBL3231, CHEMBL2147, CHEMBL3032, CHEMBL2634, CHEMBL2148, CHEMBL4237, CHEMBL3582, CHEMBL2938, CHEMBL2595, CHEMBL3861, CHEMBL3023, CHEMBL2598, CHEMBL3863, CHEMBL1906, CHEMBL2599, CHEMBL3024, CHEMBL2959, CHEMBL2835, CHEMBL2553, CHEMBL2971, CHEMBL4924, CHEMBL2972, CHEMBL4925, CHEMBL4926, CHEMBL4928, CHEMBL4937, CHEMBL2493, CHEMBL2494, CHEMBL1868, CHEMBL279, CHEMBL2656, CHEMBL2850, CHEMBL2896, CHEMBL4273, CHEMBL2964, CHEMBL2897, CHEMBL2939, CHEMBL2208, CHEMBL3094, CHEMBL3096, CHEMBL2973, CHEMBL2558, CHEMBL3130, CHEMBL4014, CHEMBL2695, CHEMBL2191, CHEMBL4004, CHEMBL4005, CHEMBL4045, CHEMBL2689, CHEMBL2688, CHEMBL2709, CHEMBL2842, CHEMBL4179, CHEMBL2637, CHEMBL3587, CHEMBL2638, CHEMBL2640, CHEMBL3717, CHEMBL3291, CHEMBL2221, CHEMBL3290, CHEMBL3616, CHEMBL2801, CHEMBL3116, CHEMBL3117, CHEMBL2543, CHEMBL299, CHEMBL3045, CHEMBL3384, CHEMBL4040, CHEMBL3385, CHEMBL301, CHEMBL2250, CHEMBL3220, CHEMBL2251, CHEMBL4989, CHEMBL2793, CHEMBL1955, CHEMBL1841, CHEMBL3234, CHEMBL3905, CHEMBL3906, CHEMBL4175, CHEMBL2708, CHEMBL2873, CHEMBL4394, CHEMBL2815, CHEMBL2999, CHEMBL2911, CHEMBL3973, CHEMBL2742, CHEMBL3267, CHEMBL3667, CHEMBL3268, CHEMBL3286, CHEMBL4101, CHEMBL2743, CHEMBL2320, CHEMBL2270, CHEMBL2777, CHEMBL2872, CHEMBL308, CHEMBL2292, CHEMBL2300, CHEMBL2803, CHEMBL2996, CHEMBL2276, CHEMBL3956, CHEMBL4147, CHEMBL4388, CHEMBL3145, CHEMBL4488, CHEMBL2906, CHEMBL2007, CHEMBL2783, CHEMBL3920, CHEMBL4282, CHEMBL1974, CHEMBL4766, CHEMBL3893, CHEMBL4141, CHEMBL3553, CHEMBL3009, CHEMBL2343, CHEMBL2345, CHEMBL2349, CHEMBL4070, CHEMBL2358, CHEMBL4442, CHEMBL3055, CHEMBL1844, CHEMBL4128, CHEMBL3529, CHEMBL3530, CHEMBL4501, CHEMBL331, CHEMBL4036, CHEMBL4627, CHEMBL4630, CHEMBL4674, CHEMBL4437, CHEMBL4439, CHEMBL3111, CHEMBL2073, CHEMBL3357, CHEMBL3778, CHEMBL3886, CHEMBL4722, CHEMBL5026, CHEMBL4355, CHEMBL5014, CHEMBL3820, CHEMBL3797, CHEMBL5024, CHEMBL3935, CHEMBL3830, CHEMBL3831, CHEMBL3829, CHEMBL3788, CHEMBL3938, CHEMBL3980, CHEMBL3981, CHEMBL3982, CHEMBL2068, CHEMBL4954, CHEMBL4134, CHEMBL3983, CHEMBL4223, CHEMBL4224, CHEMBL4225, CHEMBL4226, CHEMBL3834, CHEMBL3835, CHEMBL3836, CHEMBL3987, CHEMBL5072, CHEMBL3988, CHEMBL4597, CHEMBL4599, CHEMBL4598, CHEMBL4600, CHEMBL4601, CHEMBL4602, CHEMBL5073, CHEMBL5256, CHEMBL5257, CHEMBL5258, CHEMBL5284, CHEMBL3984, CHEMBL5285, CHEMBL4202, CHEMBL4203, CHEMBL4204, CHEMBL4309, CHEMBL4311, CHEMBL4312, CHEMBL4522, CHEMBL4523, CHEMBL4524, CHEMBL4525, CHEMBL4526, CHEMBL4527, CHEMBL4851, CHEMBL4852, CHEMBL4853, CHEMBL4967, CHEMBL5455, CHEMBL4487, CHEMBL4267, CHEMBL5443, CHEMBL2041, CHEMBL4482, CHEMBL4483, CHEMBL5251, CHEMBL5491, CHEMBL5247, CHEMBL5164, CHEMBL5165, CHEMBL5145, CHEMBL4454, CHEMBL5146, CHEMBL5147, CHEMBL5600, CHEMBL4580, CHEMBL5212, CHEMBL4895, CHEMBL4896, CHEMBL4897, CHEMBL4898, CHEMBL4899, CHEMBL4900, CHEMBL4901, CHEMBL4247, CHEMBL4246, CHEMBL4367, CHEMBL4375, CHEMBL4376, CHEMBL3542, CHEMBL5198, CHEMBL4670, CHEMBL4718, CHEMBL4849, CHEMBL4516, CHEMBL4574, CHEMBL4575, CHEMBL4576, CHEMBL4577, CHEMBL4578, CHEMBL5407, CHEMBL5408, CHEMBL5274, CHEMBL5275, CHEMBL5310, CHEMBL5311, CHEMBL5314, CHEMBL5316, CHEMBL5319, CHEMBL5320, CHEMBL5358, CHEMBL5364, CHEMBL5330, CHEMBL5331, CHEMBL5332, CHEMBL5334, CHEMBL5388, CHEMBL5415, CHEMBL5416, CHEMBL5464, CHEMBL5466, CHEMBL5467, CHEMBL5469, CHEMBL5543, CHEMBL5568, CHEMBL5604, CHEMBL5605, CHEMBL5606, CHEMBL5607, CHEMBL5608, CHEMBL5615, CHEMBL5044, CHEMBL5046, CHEMBL5047, CHEMBL5052, CHEMBL5081, CHEMBL5082, CHEMBL5084, CHEMBL5095, CHEMBL5116, CHEMBL5121, CHEMBL5122, CHEMBL5260, CHEMBL5261, CHEMBL5404, CHEMBL5405, CHEMBL5426, CHEMBL5427, CHEMBL5432, CHEMBL5435, CHEMBL5476, CHEMBL5483, CHEMBL5518, CHEMBL5519, CHEMBL5520, CHEMBL5546, CHEMBL5547, CHEMBL5550, CHEMBL5552, CHEMBL5554, CHEMBL5578, CHEMBL5579, CHEMBL5650, CHEMBL5651, CHEMBL5654, CHEMBL5659, CHEMBL5683, CHEMBL5684, CHEMBL5719, CHEMBL5728, CHEMBL5749, CHEMBL5753, CHEMBL5754, CHEMBL5776, CHEMBL5784, CHEMBL5785, CHEMBL5808, CHEMBL5810, CHEMBL5818, CHEMBL5819, CHEMBL5855, CHEMBL5856, CHEMBL5888, CHEMBL5932, CHEMBL5969, CHEMBL5970, CHEMBL5975, CHEMBL6000, CHEMBL6002, CHEMBL6003, CHEMBL6005, CHEMBL6006, CHEMBL6010, CHEMBL6082, CHEMBL6083, CHEMBL6123, CHEMBL6162, CHEMBL6166, CHEMBL6167, CHEMBL5616, CHEMBL5627, CHEMBL5667, CHEMBL5668, CHEMBL5698, CHEMBL5699, CHEMBL5701, CHEMBL5703, CHEMBL5759, CHEMBL5789, CHEMBL5790, CHEMBL5794, CHEMBL5861, CHEMBL5903, CHEMBL5907, CHEMBL5910, CHEMBL5912, CHEMBL5938, CHEMBL5940, CHEMBL5941, CHEMBL6049, CHEMBL6014, CHEMBL6054, CHEMBL6055, CHEMBL5678, CHEMBL5679, CHEMBL5681, CHEMBL5682, CHEMBL6105, CHEMBL6144, CHEMBL6177, CHEMBL6186, CHEMBL5638, CHEMBL5639, CHEMBL5642, CHEMBL5997, CHEMBL6029, CHEMBL6030, CHEMBL5838, CHEMBL5914, CHEMBL6149, CHEMBL6150, CHEMBL6151, CHEMBL6155, CHEMBL6191, CHEMBL1075115, CHEMBL1075120, CHEMBL1075126, CHEMBL1075133, CHEMBL1075157, CHEMBL1075152, CHEMBL1075155, CHEMBL1075163, CHEMBL1075165, CHEMBL1075166, CHEMBL1075167, CHEMBL1075184, CHEMBL1075173, CHEMBL1075181, CHEMBL1075187, CHEMBL1075189, CHEMBL1075195, CHEMBL1075102, CHEMBL1075104, CHEMBL1163101, CHEMBL1163104, CHEMBL1163106, CHEMBL1163108, CHEMBL1163112, CHEMBL1163117, CHEMBL1163120, CHEMBL1163123, CHEMBL1163124, CHEMBL1163126, CHEMBL1163127, CHEMBL1163128, CHEMBL1163129, CHEMBL1169596, CHEMBL1275212, CHEMBL1293199, CHEMBL1293257, CHEMBL1293321, CHEMBL1649059, CHEMBL1741200, CHEMBL1764936, CHEMBL1770034, CHEMBL1772932, CHEMBL1795165, CHEMBL1795191, CHEMBL1795192, CHEMBL1795193, CHEMBL1795194, CHEMBL1795195, CHEMBL1795196, CHEMBL1795198, CHEMBL1795199, CHEMBL1908382, CHEMBL1908383, CHEMBL1908384, CHEMBL1908386, CHEMBL1908389, CHEMBL1926492, CHEMBL1938215, CHEMBL1938216, CHEMBL1938217, CHEMBL1938220, CHEMBL1938222, CHEMBL1938223, CHEMBL2069163, CHEMBL2150836, CHEMBL2189144, CHEMBL2331053, CHEMBL2346490, CHEMBL2375201, CHEMBL2417351, CHEMBL2417352, CHEMBL2417353, CHEMBL2417354, CHEMBL2417355, CHEMBL3108655, CHEMBL3112385, CHEMBL3308982, CHEMBL3337327, CHEMBL3337330, CHEMBL3407326, CHEMBL3407327, CHEMBL3407328, CHEMBL3414416, CHEMBL3421524, CHEMBL3421525, CHEMBL3430761, CHEMBL3559690, CHEMBL3559692, CHEMBL3588730, CHEMBL3627580, CHEMBL3627581, CHEMBL3627582, CHEMBL3627583, CHEMBL3627584, CHEMBL3627585, CHEMBL3627592, CHEMBL3706558, CHEMBL3721311, CHEMBL3758070, CHEMBL4105755, CHEMBL4105756, CHEMBL4105759, CHEMBL4105787, CHEMBL4105789, CHEMBL4105826, CHEMBL4105885, CHEMBL4105886, CHEMBL4105895, CHEMBL4105932, CHEMBL4105936, CHEMBL4105940, CHEMBL4105942, CHEMBL4295800, CHEMBL4295868, CHEMBL4295878, CHEMBL4295902, CHEMBL4295927, CHEMBL4295947, CHEMBL4295965, CHEMBL4295978, CHEMBL4295983, CHEMBL4295998, CHEMBL4296242, CHEMBL4523108, CHEMBL4523135, CHEMBL4523326, CHEMBL4523401, CHEMBL4523418, CHEMBL4523431, CHEMBL4523432, CHEMBL4523434, CHEMBL4523488, CHEMBL4523504, CHEMBL4524035, CHEMBL4665585, CHEMBL4680027, CHEMBL4802064, CHEMBL4804244, CHEMBL4879410, CHEMBL4879437, CHEMBL4879492",
            "CHEMBL204, CHEMBL1801, CHEMBL2000, CHEMBL1968, CHEMBL209, CHEMBL1808, CHEMBL1892, CHEMBL2016, CHEMBL244, CHEMBL3000, CHEMBL248, CHEMBL1944, CHEMBL4618, CHEMBL1907, CHEMBL1989, CHEMBL2581, CHEMBL4713, CHEMBL2136, CHEMBL3159, CHEMBL2442, CHEMBL2443, CHEMBL4068, CHEMBL4551, CHEMBL2334, CHEMBL3898, CHEMBL4884, CHEMBL4939, CHEMBL4943, CHEMBL4861, CHEMBL3782, CHEMBL4707, CHEMBL3776, CHEMBL2474, CHEMBL3419, CHEMBL2335, CHEMBL2099, CHEMBL4072, CHEMBL2517, CHEMBL4071, CHEMBL268, CHEMBL3837, CHEMBL2088, CHEMBL3038, CHEMBL3974, CHEMBL2525, CHEMBL3418, CHEMBL3913, CHEMBL3922, CHEMBL2432, CHEMBL2433, CHEMBL4812, CHEMBL3031, CHEMBL4863, CHEMBL2641, CHEMBL4796, CHEMBL4873, CHEMBL2552, CHEMBL2609, CHEMBL280, CHEMBL2963, CHEMBL2200, CHEMBL2226, CHEMBL3131, CHEMBL283, CHEMBL4588, CHEMBL2232, CHEMBL284, CHEMBL4307, CHEMBL4930, CHEMBL3869, CHEMBL4791, CHEMBL286, CHEMBL2693, CHEMBL4244, CHEMBL2867, CHEMBL2820, CHEMBL2821, CHEMBL3411, CHEMBL2826, CHEMBL1873, CHEMBL2611, CHEMBL3900, CHEMBL4185, CHEMBL3706, CHEMBL4610, CHEMBL3182, CHEMBL2954, CHEMBL2223, CHEMBL2225, CHEMBL2761, CHEMBL2264, CHEMBL4801, CHEMBL2386, CHEMBL4611, CHEMBL2382, CHEMBL3092, CHEMBL3439, CHEMBL2409, CHEMBL3736, CHEMBL4393, CHEMBL3286, CHEMBL3202, CHEMBL5982, CHEMBL3991, CHEMBL3308, CHEMBL2273, CHEMBL2738, CHEMBL3468, CHEMBL2951, CHEMBL4822, CHEMBL3976, CHEMBL3295, CHEMBL2929, CHEMBL3965, CHEMBL2252, CHEMBL4446, CHEMBL4447, CHEMBL4448, CHEMBL3272, CHEMBL321, CHEMBL4270, CHEMBL2316, CHEMBL2617, CHEMBL3018, CHEMBL4073, CHEMBL4444, CHEMBL4955, CHEMBL2318, CHEMBL2285, CHEMBL2644, CHEMBL2645, CHEMBL3891, CHEMBL332, CHEMBL333, CHEMBL2319, CHEMBL2937, CHEMBL4691, CHEMBL4657, CHEMBL4793, CHEMBL5037, CHEMBL5030, CHEMBL5028, CHEMBL4683, CHEMBL4520, CHEMBL5133, CHEMBL3492, CHEMBL4662, CHEMBL4208, CHEMBL4160, CHEMBL5610, CHEMBL5043, CHEMBL5050, CHEMBL5350, CHEMBL5477, CHEMBL5890, CHEMBL5963, CHEMBL6121, CHEMBL5620, CHEMBL5665, CHEMBL5731, CHEMBL5939, CHEMBL5991, CHEMBL5916, CHEMBL6115, CHEMBL6153, CHEMBL6156, CHEMBL6158, CHEMBL6159, CHEMBL6195, CHEMBL1293227, CHEMBL1293295, CHEMBL1741174, CHEMBL1741195, CHEMBL1741207, CHEMBL1741213, CHEMBL1741215, CHEMBL1741221, CHEMBL1795087, CHEMBL1795093, CHEMBL1795103, CHEMBL1795138, CHEMBL1795139, CHEMBL1795140, CHEMBL1909484, CHEMBL1926496, CHEMBL1938214, CHEMBL1938226, CHEMBL1944495, CHEMBL1944496, CHEMBL2007629, CHEMBL2079849, CHEMBL2157850, CHEMBL2157851, CHEMBL2157853, CHEMBL2157854, CHEMBL2176771, CHEMBL2176776, CHEMBL2189131, CHEMBL2331048, CHEMBL2346492, CHEMBL2406899, CHEMBL2406900, CHEMBL3124731, CHEMBL3232682, CHEMBL3286078, CHEMBL3308923, CHEMBL3317334, CHEMBL3347256, CHEMBL3351190, CHEMBL3407316, CHEMBL3407317, CHEMBL3407323, CHEMBL3407324, CHEMBL3713453, CHEMBL3739248, CHEMBL3739253, CHEMBL3797014, CHEMBL3831205, CHEMBL3886062, CHEMBL4295646, CHEMBL4295768, CHEMBL4523137, CHEMBL4523305, CHEMBL4523419, CHEMBL4630848, CHEMBL4802012, CHEMBL4879435, CHEMBL4879436, CHEMBL5169181, CHEMBL5291568, CHEMBL5305024",
            "CHEMBL206, CHEMBL2034, CHEMBL208, CHEMBL1994, CHEMBL1871, CHEMBL2055, CHEMBL1860, CHEMBL1977, CHEMBL235, CHEMBL239, CHEMBL242, CHEMBL2003, CHEMBL2004, CHEMBL2008, CHEMBL1947, CHEMBL2061, CHEMBL1870, CHEMBL3429, CHEMBL2047, CHEMBL3751, CHEMBL4245, CHEMBL2808, CHEMBL3401, CHEMBL3979, CHEMBL4093, CHEMBL4374, CHEMBL3544, CHEMBL4666, CHEMBL5503, CHEMBL5603, CHEMBL5002, CHEMBL5716, CHEMBL5868, CHEMBL1293229, CHEMBL1615382, CHEMBL1615387, CHEMBL1741186, CHEMBL1795094, CHEMBL1961783, CHEMBL1961784, CHEMBL1961786, CHEMBL1961787, CHEMBL1961788, CHEMBL1961789, CHEMBL1961790, CHEMBL1961791, CHEMBL1961792, CHEMBL1961793, CHEMBL3091268, CHEMBL4295924",
            "CHEMBL2033, CHEMBL1978, CHEMBL1908, CHEMBL1851, CHEMBL1835, CHEMBL4878, CHEMBL3721, CHEMBL3379, CHEMBL2231, CHEMBL2408, CHEMBL3978, CHEMBL3849, CHEMBL289, CHEMBL2722, CHEMBL2759, CHEMBL3356, CHEMBL3019, CHEMBL3397, CHEMBL3622, CHEMBL3522, CHEMBL4428, CHEMBL340, CHEMBL5281, CHEMBL5282, CHEMBL4729, CHEMBL5141, CHEMBL4521, CHEMBL3491, CHEMBL5792, CHEMBL6048, CHEMBL5992, CHEMBL5993, CHEMBL2169731, CHEMBL2406897, CHEMBL3341582, CHEMBL3509589, CHEMBL3542436, CHEMBL3542437, CHEMBL3713687, CHEMBL4295949, CHEMBL4523270, CHEMBL4523375",
            "CHEMBL3880, CHEMBL4303, CHEMBL4721, CHEMBL5460, CHEMBL5869, CHEMBL5976, CHEMBL1075132, CHEMBL1275223, CHEMBL2062348, CHEMBL3232688, CHEMBL3309113, CHEMBL3706560, CHEMBL4105858, CHEMBL5169130, CHEMBL5169146"
           ]
          ]
         },
         "header": {
          "align": "left",
          "fill": {
           "color": "paleturquoise"
          },
          "values": [
           "Class",
           "Count",
           "Targets"
          ]
         },
         "type": "table"
        }
       ],
       "layout": {
        "template": {
         "data": {
          "bar": [
           {
            "error_x": {
             "color": "#2a3f5f"
            },
            "error_y": {
             "color": "#2a3f5f"
            },
            "marker": {
             "line": {
              "color": "#E5ECF6",
              "width": 0.5
             },
             "pattern": {
              "fillmode": "overlay",
              "size": 10,
              "solidity": 0.2
             }
            },
            "type": "bar"
           }
          ],
          "barpolar": [
           {
            "marker": {
             "line": {
              "color": "#E5ECF6",
              "width": 0.5
             },
             "pattern": {
              "fillmode": "overlay",
              "size": 10,
              "solidity": 0.2
             }
            },
            "type": "barpolar"
           }
          ],
          "carpet": [
           {
            "aaxis": {
             "endlinecolor": "#2a3f5f",
             "gridcolor": "white",
             "linecolor": "white",
             "minorgridcolor": "white",
             "startlinecolor": "#2a3f5f"
            },
            "baxis": {
             "endlinecolor": "#2a3f5f",
             "gridcolor": "white",
             "linecolor": "white",
             "minorgridcolor": "white",
             "startlinecolor": "#2a3f5f"
            },
            "type": "carpet"
           }
          ],
          "choropleth": [
           {
            "colorbar": {
             "outlinewidth": 0,
             "ticks": ""
            },
            "type": "choropleth"
           }
          ],
          "contour": [
           {
            "colorbar": {
             "outlinewidth": 0,
             "ticks": ""
            },
            "colorscale": [
             [
              0,
              "#0d0887"
             ],
             [
              0.1111111111111111,
              "#46039f"
             ],
             [
              0.2222222222222222,
              "#7201a8"
             ],
             [
              0.3333333333333333,
              "#9c179e"
             ],
             [
              0.4444444444444444,
              "#bd3786"
             ],
             [
              0.5555555555555556,
              "#d8576b"
             ],
             [
              0.6666666666666666,
              "#ed7953"
             ],
             [
              0.7777777777777778,
              "#fb9f3a"
             ],
             [
              0.8888888888888888,
              "#fdca26"
             ],
             [
              1,
              "#f0f921"
             ]
            ],
            "type": "contour"
           }
          ],
          "contourcarpet": [
           {
            "colorbar": {
             "outlinewidth": 0,
             "ticks": ""
            },
            "type": "contourcarpet"
           }
          ],
          "heatmap": [
           {
            "colorbar": {
             "outlinewidth": 0,
             "ticks": ""
            },
            "colorscale": [
             [
              0,
              "#0d0887"
             ],
             [
              0.1111111111111111,
              "#46039f"
             ],
             [
              0.2222222222222222,
              "#7201a8"
             ],
             [
              0.3333333333333333,
              "#9c179e"
             ],
             [
              0.4444444444444444,
              "#bd3786"
             ],
             [
              0.5555555555555556,
              "#d8576b"
             ],
             [
              0.6666666666666666,
              "#ed7953"
             ],
             [
              0.7777777777777778,
              "#fb9f3a"
             ],
             [
              0.8888888888888888,
              "#fdca26"
             ],
             [
              1,
              "#f0f921"
             ]
            ],
            "type": "heatmap"
           }
          ],
          "heatmapgl": [
           {
            "colorbar": {
             "outlinewidth": 0,
             "ticks": ""
            },
            "colorscale": [
             [
              0,
              "#0d0887"
             ],
             [
              0.1111111111111111,
              "#46039f"
             ],
             [
              0.2222222222222222,
              "#7201a8"
             ],
             [
              0.3333333333333333,
              "#9c179e"
             ],
             [
              0.4444444444444444,
              "#bd3786"
             ],
             [
              0.5555555555555556,
              "#d8576b"
             ],
             [
              0.6666666666666666,
              "#ed7953"
             ],
             [
              0.7777777777777778,
              "#fb9f3a"
             ],
             [
              0.8888888888888888,
              "#fdca26"
             ],
             [
              1,
              "#f0f921"
             ]
            ],
            "type": "heatmapgl"
           }
          ],
          "histogram": [
           {
            "marker": {
             "pattern": {
              "fillmode": "overlay",
              "size": 10,
              "solidity": 0.2
             }
            },
            "type": "histogram"
           }
          ],
          "histogram2d": [
           {
            "colorbar": {
             "outlinewidth": 0,
             "ticks": ""
            },
            "colorscale": [
             [
              0,
              "#0d0887"
             ],
             [
              0.1111111111111111,
              "#46039f"
             ],
             [
              0.2222222222222222,
              "#7201a8"
             ],
             [
              0.3333333333333333,
              "#9c179e"
             ],
             [
              0.4444444444444444,
              "#bd3786"
             ],
             [
              0.5555555555555556,
              "#d8576b"
             ],
             [
              0.6666666666666666,
              "#ed7953"
             ],
             [
              0.7777777777777778,
              "#fb9f3a"
             ],
             [
              0.8888888888888888,
              "#fdca26"
             ],
             [
              1,
              "#f0f921"
             ]
            ],
            "type": "histogram2d"
           }
          ],
          "histogram2dcontour": [
           {
            "colorbar": {
             "outlinewidth": 0,
             "ticks": ""
            },
            "colorscale": [
             [
              0,
              "#0d0887"
             ],
             [
              0.1111111111111111,
              "#46039f"
             ],
             [
              0.2222222222222222,
              "#7201a8"
             ],
             [
              0.3333333333333333,
              "#9c179e"
             ],
             [
              0.4444444444444444,
              "#bd3786"
             ],
             [
              0.5555555555555556,
              "#d8576b"
             ],
             [
              0.6666666666666666,
              "#ed7953"
             ],
             [
              0.7777777777777778,
              "#fb9f3a"
             ],
             [
              0.8888888888888888,
              "#fdca26"
             ],
             [
              1,
              "#f0f921"
             ]
            ],
            "type": "histogram2dcontour"
           }
          ],
          "mesh3d": [
           {
            "colorbar": {
             "outlinewidth": 0,
             "ticks": ""
            },
            "type": "mesh3d"
           }
          ],
          "parcoords": [
           {
            "line": {
             "colorbar": {
              "outlinewidth": 0,
              "ticks": ""
             }
            },
            "type": "parcoords"
           }
          ],
          "pie": [
           {
            "automargin": true,
            "type": "pie"
           }
          ],
          "scatter": [
           {
            "fillpattern": {
             "fillmode": "overlay",
             "size": 10,
             "solidity": 0.2
            },
            "type": "scatter"
           }
          ],
          "scatter3d": [
           {
            "line": {
             "colorbar": {
              "outlinewidth": 0,
              "ticks": ""
             }
            },
            "marker": {
             "colorbar": {
              "outlinewidth": 0,
              "ticks": ""
             }
            },
            "type": "scatter3d"
           }
          ],
          "scattercarpet": [
           {
            "marker": {
             "colorbar": {
              "outlinewidth": 0,
              "ticks": ""
             }
            },
            "type": "scattercarpet"
           }
          ],
          "scattergeo": [
           {
            "marker": {
             "colorbar": {
              "outlinewidth": 0,
              "ticks": ""
             }
            },
            "type": "scattergeo"
           }
          ],
          "scattergl": [
           {
            "marker": {
             "colorbar": {
              "outlinewidth": 0,
              "ticks": ""
             }
            },
            "type": "scattergl"
           }
          ],
          "scattermapbox": [
           {
            "marker": {
             "colorbar": {
              "outlinewidth": 0,
              "ticks": ""
             }
            },
            "type": "scattermapbox"
           }
          ],
          "scatterpolar": [
           {
            "marker": {
             "colorbar": {
              "outlinewidth": 0,
              "ticks": ""
             }
            },
            "type": "scatterpolar"
           }
          ],
          "scatterpolargl": [
           {
            "marker": {
             "colorbar": {
              "outlinewidth": 0,
              "ticks": ""
             }
            },
            "type": "scatterpolargl"
           }
          ],
          "scatterternary": [
           {
            "marker": {
             "colorbar": {
              "outlinewidth": 0,
              "ticks": ""
             }
            },
            "type": "scatterternary"
           }
          ],
          "surface": [
           {
            "colorbar": {
             "outlinewidth": 0,
             "ticks": ""
            },
            "colorscale": [
             [
              0,
              "#0d0887"
             ],
             [
              0.1111111111111111,
              "#46039f"
             ],
             [
              0.2222222222222222,
              "#7201a8"
             ],
             [
              0.3333333333333333,
              "#9c179e"
             ],
             [
              0.4444444444444444,
              "#bd3786"
             ],
             [
              0.5555555555555556,
              "#d8576b"
             ],
             [
              0.6666666666666666,
              "#ed7953"
             ],
             [
              0.7777777777777778,
              "#fb9f3a"
             ],
             [
              0.8888888888888888,
              "#fdca26"
             ],
             [
              1,
              "#f0f921"
             ]
            ],
            "type": "surface"
           }
          ],
          "table": [
           {
            "cells": {
             "fill": {
              "color": "#EBF0F8"
             },
             "line": {
              "color": "white"
             }
            },
            "header": {
             "fill": {
              "color": "#C8D4E3"
             },
             "line": {
              "color": "white"
             }
            },
            "type": "table"
           }
          ]
         },
         "layout": {
          "annotationdefaults": {
           "arrowcolor": "#2a3f5f",
           "arrowhead": 0,
           "arrowwidth": 1
          },
          "autotypenumbers": "strict",
          "coloraxis": {
           "colorbar": {
            "outlinewidth": 0,
            "ticks": ""
           }
          },
          "colorscale": {
           "diverging": [
            [
             0,
             "#8e0152"
            ],
            [
             0.1,
             "#c51b7d"
            ],
            [
             0.2,
             "#de77ae"
            ],
            [
             0.3,
             "#f1b6da"
            ],
            [
             0.4,
             "#fde0ef"
            ],
            [
             0.5,
             "#f7f7f7"
            ],
            [
             0.6,
             "#e6f5d0"
            ],
            [
             0.7,
             "#b8e186"
            ],
            [
             0.8,
             "#7fbc41"
            ],
            [
             0.9,
             "#4d9221"
            ],
            [
             1,
             "#276419"
            ]
           ],
           "sequential": [
            [
             0,
             "#0d0887"
            ],
            [
             0.1111111111111111,
             "#46039f"
            ],
            [
             0.2222222222222222,
             "#7201a8"
            ],
            [
             0.3333333333333333,
             "#9c179e"
            ],
            [
             0.4444444444444444,
             "#bd3786"
            ],
            [
             0.5555555555555556,
             "#d8576b"
            ],
            [
             0.6666666666666666,
             "#ed7953"
            ],
            [
             0.7777777777777778,
             "#fb9f3a"
            ],
            [
             0.8888888888888888,
             "#fdca26"
            ],
            [
             1,
             "#f0f921"
            ]
           ],
           "sequentialminus": [
            [
             0,
             "#0d0887"
            ],
            [
             0.1111111111111111,
             "#46039f"
            ],
            [
             0.2222222222222222,
             "#7201a8"
            ],
            [
             0.3333333333333333,
             "#9c179e"
            ],
            [
             0.4444444444444444,
             "#bd3786"
            ],
            [
             0.5555555555555556,
             "#d8576b"
            ],
            [
             0.6666666666666666,
             "#ed7953"
            ],
            [
             0.7777777777777778,
             "#fb9f3a"
            ],
            [
             0.8888888888888888,
             "#fdca26"
            ],
            [
             1,
             "#f0f921"
            ]
           ]
          },
          "colorway": [
           "#636efa",
           "#EF553B",
           "#00cc96",
           "#ab63fa",
           "#FFA15A",
           "#19d3f3",
           "#FF6692",
           "#B6E880",
           "#FF97FF",
           "#FECB52"
          ],
          "font": {
           "color": "#2a3f5f"
          },
          "geo": {
           "bgcolor": "white",
           "lakecolor": "white",
           "landcolor": "#E5ECF6",
           "showlakes": true,
           "showland": true,
           "subunitcolor": "white"
          },
          "hoverlabel": {
           "align": "left"
          },
          "hovermode": "closest",
          "mapbox": {
           "style": "light"
          },
          "paper_bgcolor": "white",
          "plot_bgcolor": "#E5ECF6",
          "polar": {
           "angularaxis": {
            "gridcolor": "white",
            "linecolor": "white",
            "ticks": ""
           },
           "bgcolor": "#E5ECF6",
           "radialaxis": {
            "gridcolor": "white",
            "linecolor": "white",
            "ticks": ""
           }
          },
          "scene": {
           "xaxis": {
            "backgroundcolor": "#E5ECF6",
            "gridcolor": "white",
            "gridwidth": 2,
            "linecolor": "white",
            "showbackground": true,
            "ticks": "",
            "zerolinecolor": "white"
           },
           "yaxis": {
            "backgroundcolor": "#E5ECF6",
            "gridcolor": "white",
            "gridwidth": 2,
            "linecolor": "white",
            "showbackground": true,
            "ticks": "",
            "zerolinecolor": "white"
           },
           "zaxis": {
            "backgroundcolor": "#E5ECF6",
            "gridcolor": "white",
            "gridwidth": 2,
            "linecolor": "white",
            "showbackground": true,
            "ticks": "",
            "zerolinecolor": "white"
           }
          },
          "shapedefaults": {
           "line": {
            "color": "#2a3f5f"
           }
          },
          "ternary": {
           "aaxis": {
            "gridcolor": "white",
            "linecolor": "white",
            "ticks": ""
           },
           "baxis": {
            "gridcolor": "white",
            "linecolor": "white",
            "ticks": ""
           },
           "bgcolor": "#E5ECF6",
           "caxis": {
            "gridcolor": "white",
            "linecolor": "white",
            "ticks": ""
           }
          },
          "title": {
           "x": 0.05
          },
          "xaxis": {
           "automargin": true,
           "gridcolor": "white",
           "linecolor": "white",
           "ticks": "",
           "title": {
            "standoff": 15
           },
           "zerolinecolor": "white",
           "zerolinewidth": 2
          },
          "yaxis": {
           "automargin": true,
           "gridcolor": "white",
           "linecolor": "white",
           "ticks": "",
           "title": {
            "standoff": 15
           },
           "zerolinecolor": "white",
           "zerolinewidth": 2
          }
         }
        }
       }
      }
     },
     "metadata": {},
     "output_type": "display_data"
    }
   ],
   "source": [
    "total_counts = {}\n",
    "target_lists = {}\n",
    "for class_name in target_classes:\n",
    "\n",
    "    mask_pref_name = df['pref_name'].str.contains(class_name, case=False, na=False)\n",
    "    mask_class_name = df['protein_class_name'].str.contains(class_name, case=False, na=False)\n",
    "    mask_description = df['protein_class_description'].str.contains(class_name, case=False, na=False)\n",
    "    \n",
    "    combined_mask = mask_pref_name | mask_class_name | mask_description\n",
    "    \n",
    "    total_counts[class_name] = combined_mask.sum()\n",
    "    \n",
    "    target_lists[class_name] = df[combined_mask]['chembl_id'].unique().tolist()\n",
    "\n",
    "total_counts_df = pd.DataFrame(total_counts.items(), columns=['Class', 'Count'])\n",
    "total_counts_df['Targets'] = total_counts_df['Class'].map(lambda x: ', '.join(target_lists[x]))\n",
    "\n",
    "fig = go.Figure(data=[go.Table(\n",
    "    header=dict(values=['Class', 'Count', 'Targets'],\n",
    "                fill_color='paleturquoise',\n",
    "                align='left'),\n",
    "    cells=dict(values=[total_counts_df['Class'], total_counts_df['Count'], total_counts_df['Targets']],\n",
    "               fill_color='lavender',\n",
    "               align='left'))\n",
    "])\n",
    "\n",
    "fig.show()"
   ]
  },
  {
   "cell_type": "markdown",
   "metadata": {},
   "source": [
    "## File saving "
   ]
  },
  {
   "cell_type": "markdown",
   "metadata": {},
   "source": [
    "Two separate files are generated the first **'protein_class_with'** containing only the targets belonging to the selected protein families. The second **'protein_class_without'** with all other families found in ChEMBL."
   ]
  },
  {
   "cell_type": "code",
   "execution_count": 5,
   "metadata": {},
   "outputs": [],
   "source": [
    "target_lists = {}\n",
    "is_in=[]\n",
    "for class_name in target_classes:\n",
    "    # Crea una maschera booleana per ogni colonna\n",
    "    mask_pref_name = df['pref_name'].str.contains(class_name, case=False, na=False)\n",
    "    mask_class_name = df['protein_class_name'].str.contains(class_name, case=False, na=False)\n",
    "    mask_description = df['protein_class_description'].str.contains(class_name, case=False, na=False)\n",
    "    \n",
    "    # Unisci le maschere con l'operatore OR per evitare duplicati\n",
    "    combined_mask = mask_pref_name | mask_class_name | mask_description\n",
    "    \n",
    "    # Crea una lista di target unici\n",
    "    target_lists[class_name] = df[combined_mask]['chembl_id'].unique().tolist()\n",
    "\n",
    "all_chembl_ids = [chembl_id for ids in target_lists.values() for chembl_id in ids]\n",
    "df_filtered = df[~df['chembl_id'].isin(all_chembl_ids)]\n",
    "if not os.path.exists('/home/federica/LAB2/protein_class_without.csv'):\n",
    "    df_filtered.to_csv('/home/federica/LAB2/protein_class_without.csv', index=False)\n",
    "df_with=df[df['chembl_id'].isin(all_chembl_ids)]\n",
    "if not os.path.exists('/home/federica/LAB2/protein_class_with.csv'):\n",
    "    df_with.to_csv('/home/federica/LAB2/protein_class_with.csv', index=False)"
   ]
  },
  {
   "cell_type": "markdown",
   "metadata": {},
   "source": [
    "## Creating statistics for classification into protein families"
   ]
  },
  {
   "cell_type": "markdown",
   "metadata": {},
   "source": [
    "Once the mutations are studied and the data are divided according to quality, statistical analyses are performed regarding the membership of molecules in protein families."
   ]
  },
  {
   "cell_type": "code",
   "execution_count": 6,
   "metadata": {},
   "outputs": [],
   "source": [
    "def load_and_concat(folder_path):\n",
    "\n",
    "    dataframes = []\n",
    "\n",
    "    for filename in os.listdir(folder_path):\n",
    "        if filename.endswith('.csv'):\n",
    "            file_path = os.path.join(folder_path, filename)\n",
    "            df = pd.read_csv(file_path)\n",
    "            dataframes.append(df)\n",
    "\n",
    "    combined_df = pd.concat(dataframes, ignore_index=True)\n",
    "    return combined_df"
   ]
  },
  {
   "cell_type": "code",
   "execution_count": 7,
   "metadata": {},
   "outputs": [],
   "source": [
    "#wild type files\n",
    "wild_type_1 = '/home/federica/LAB2/data_202410161138_protein/wild_type/wild_type_1'\n",
    "wild_type_2 = '/home/federica/LAB2/data_202410161138_protein/wild_type/wild_type_2'\n",
    "wild_type_3 = '/home/federica/LAB2/data_202410161138_protein/wild_type/wild_type_3'\n",
    "\n",
    "#mutantion target files\n",
    "mutation_target_1 = '/home/federica/LAB2/data_202410161138_protein/mutation_target/mutation_target_1'\n",
    "mutation_target_2 = '/home/federica/LAB2/data_202410161138_protein/mutation_target/mutation_target_2'\n",
    "mutation_target_3 = '/home/federica/LAB2/data_202410161138_protein/mutation_target/mutation_target_3'\n",
    "\n",
    "#mixed files\n",
    "mixed_1 = '/home/federica/LAB2/data_202410161138_protein/mixed/mixed_1'\n",
    "mixed_2 = '/home/federica/LAB2/data_202410161138_protein/mixed/mixed_2'\n",
    "mixed_3 = '/home/federica/LAB2/data_202410161138_protein/mixed/mixed_3'"
   ]
  },
  {
   "cell_type": "code",
   "execution_count": 8,
   "metadata": {},
   "outputs": [],
   "source": [
    "wild_type_1 = load_and_concat(wild_type_1)\n",
    "wild_type_2 = load_and_concat(wild_type_2)\n",
    "wild_type_3 = load_and_concat(wild_type_3)\n",
    "\n",
    "mutation_target_1 = load_and_concat(mutation_target_1)\n",
    "mutation_target_2 = load_and_concat(mutation_target_2)\n",
    "mutation_target_3 = load_and_concat(mutation_target_3)\n",
    "\n",
    "mixed_1 = load_and_concat(mixed_1)\n",
    "mixed_2 = load_and_concat(mixed_2)\n",
    "mixed_3 = load_and_concat(mixed_3)\n"
   ]
  },
  {
   "cell_type": "code",
   "execution_count": 9,
   "metadata": {},
   "outputs": [],
   "source": [
    "def calculate_protein_stats(df, target_classes, molecule_column='Molecule ChEMBL ID'):\n",
    "    rows = []\n",
    "    for protein_class in target_classes:\n",
    "        class_df = df[\n",
    "            (df['pref_name'].str.contains(protein_class, case=False, na=False)) |\n",
    "            (df['protein_class_name'].str.contains(protein_class, case=False, na=False)) |\n",
    "            (df['protein_class_description'].str.contains(protein_class, case=False, na=False))\n",
    "        ]\n",
    "\n",
    "        if not class_df.empty:\n",
    "            \n",
    "            class_count = class_df.shape[0]\n",
    "            target_count = class_df['Target ChEMBL ID'].nunique()\n",
    "            \n",
    "            if molecule_column in class_df.columns:\n",
    "                molecule_count = class_df[molecule_column].nunique()\n",
    "            else:\n",
    "                molecule_count = None\n",
    "            \n",
    "            class_targets = class_df['Target ChEMBL ID'].unique().tolist()\n",
    "            \n",
    "            rows.append({\n",
    "                'protein_class_name': protein_class,\n",
    "                'count': class_count,\n",
    "                'target_count': target_count,\n",
    "                'molecule_count': molecule_count,\n",
    "                'targets': class_targets\n",
    "            })\n",
    "    \n",
    "    stats_df = pd.DataFrame(rows)\n",
    "    \n",
    "    return stats_df"
   ]
  },
  {
   "cell_type": "code",
   "execution_count": 10,
   "metadata": {},
   "outputs": [],
   "source": [
    "\n",
    "wild_type_1_stats = calculate_protein_stats(wild_type_1, target_classes)\n",
    "wild_type_2_stats = calculate_protein_stats(wild_type_2, target_classes)\n",
    "wild_type_3_stats = calculate_protein_stats(wild_type_3, target_classes)\n",
    "\n",
    "mutation_target_1_stats = calculate_protein_stats(mutation_target_1, target_classes)\n",
    "mutation_target_2_stats = calculate_protein_stats(mutation_target_2, target_classes)\n",
    "mutation_target_3_stats = calculate_protein_stats(mutation_target_3, target_classes)\n",
    "\n",
    "mixed_1_stats = calculate_protein_stats(mixed_1, target_classes)\n",
    "mixed_2_stats = calculate_protein_stats(mixed_2, target_classes)\n",
    "mixed_3_stats = calculate_protein_stats(mixed_3, target_classes)\n"
   ]
  },
  {
   "cell_type": "code",
   "execution_count": 11,
   "metadata": {},
   "outputs": [],
   "source": [
    "def create_interactive_table(df, title=\"Interactive Table\"):\n",
    "    fig = go.Figure(data=[go.Table(\n",
    "        header=dict(values=list(df[['Group', 'protein_class_name', 'target_count', 'molecule_count']].columns),\n",
    "                    fill_color='paleturquoise',\n",
    "                    align='left'),\n",
    "        cells=dict(values=[df[col] for col in df.columns if col != 'targets'and col != 'count'],\n",
    "                   fill_color='lavender',\n",
    "                   align='left'))\n",
    "    ])\n",
    "\n",
    "    fig.update_layout(\n",
    "        title=title,\n",
    "        title_x=0.5\n",
    "    )\n",
    "\n",
    "    fig.show()"
   ]
  },
  {
   "cell_type": "code",
   "execution_count": 12,
   "metadata": {},
   "outputs": [],
   "source": [
    "wild_type_1_stats['Group'] = 'Wild Type 1'\n",
    "wild_type_2_stats['Group'] = 'Wild Type 2'\n",
    "wild_type_3_stats['Group'] = 'Wild Type 3'\n",
    "\n",
    "mutation_target_1_stats['Group'] = 'Mutation Target 1'\n",
    "mutation_target_2_stats['Group'] = 'Mutation Target 2'\n",
    "mutation_target_3_stats['Group'] = 'Mutation Target 3'\n",
    "\n",
    "mixed_1_stats['Group'] = 'Mixed 1'\n",
    "mixed_2_stats['Group'] = 'Mixed 2'\n",
    "mixed_3_stats['Group'] = 'Mixed 3'\n",
    "\n",
    "combined_df = pd.concat([\n",
    "    wild_type_1_stats, wild_type_2_stats, wild_type_3_stats,\n",
    "    mutation_target_1_stats, mutation_target_2_stats, mutation_target_3_stats,\n",
    "    mixed_1_stats, mixed_2_stats, mixed_3_stats\n",
    "], ignore_index=True)\n",
    "\n",
    "cols = ['Group'] + [col for col in combined_df.columns if col != 'Group']\n",
    "combined_df = combined_df[cols]\n",
    "\n",
    "combined_df['Group'] = combined_df['Group'].where(combined_df['Group'].ne(combined_df['Group'].shift()),\"\")"
   ]
  },
  {
   "cell_type": "code",
   "execution_count": 13,
   "metadata": {},
   "outputs": [
    {
     "data": {
      "application/vnd.plotly.v1+json": {
       "config": {
        "plotlyServerURL": "https://plot.ly"
       },
       "data": [
        {
         "cells": {
          "align": "left",
          "fill": {
           "color": "lavender"
          },
          "values": [
           [
            "Wild Type 1",
            "",
            "",
            "",
            "",
            "",
            "",
            "",
            "",
            "",
            "",
            "Wild Type 2",
            "",
            "",
            "",
            "",
            "",
            "",
            "",
            "",
            "Wild Type 3",
            "",
            "",
            "",
            "",
            "",
            "",
            "",
            "",
            "",
            "",
            "",
            "",
            "Mutation Target 1",
            "",
            "",
            "",
            "",
            "",
            "",
            "",
            "",
            "",
            "",
            "",
            "",
            "",
            "Mutation Target 2",
            "",
            "",
            "",
            "",
            "",
            "",
            "",
            "",
            "",
            "",
            "",
            "",
            "",
            "",
            "",
            "",
            "Mutation Target 3",
            "",
            "",
            "",
            "",
            "",
            "",
            "",
            "",
            "",
            "",
            "",
            "",
            "",
            "",
            "",
            "",
            "",
            "Mixed 1",
            "",
            "",
            "",
            "",
            "",
            "",
            "",
            "",
            "",
            "",
            "",
            "",
            "",
            "",
            "",
            "",
            "",
            "",
            "",
            "",
            "",
            "Mixed 2",
            "",
            "",
            "",
            "",
            "",
            "",
            "",
            "",
            "",
            "",
            "",
            "",
            "",
            "",
            "",
            "",
            "",
            "",
            "",
            "",
            "",
            "Mixed 3",
            "",
            "",
            "",
            "",
            "",
            "",
            "",
            "",
            "",
            "",
            "",
            "",
            "",
            "",
            "",
            "",
            "",
            "",
            "",
            "",
            ""
           ],
           [
            "ion channel",
            "Kinase",
            "epigenetic regulator",
            "Protease",
            "Nuclear receptor",
            "methyltransferase",
            "Histone deacetylase",
            "Bromodomain",
            "kinase",
            "protease",
            "nuclear receptor",
            "Kinase",
            "epigenetic regulator",
            "Protease",
            "Nuclear receptor",
            "methyltransferase",
            "Histone deacetylase",
            "kinase",
            "protease",
            "nuclear receptor",
            "Cytochrome P450",
            "ion channel",
            "Kinase",
            "epigenetic regulator",
            "Protease",
            "Nuclear receptor",
            "methyltransferase",
            "demethylase",
            "GRP",
            "kinase",
            "protease",
            "nuclear receptor",
            "cytochrome P450",
            "ion channel",
            "Kinase",
            "epigenetic regulator",
            "Protease",
            "Nuclear receptor",
            "methyltransferase",
            "demethylase",
            "Histone deacetylase",
            "Bromodomain",
            "Heat shock",
            "kinase",
            "protease",
            "nuclear receptor",
            "heat shock",
            "Cytochrome P450",
            "ion channel",
            "Kinase",
            "epigenetic regulator",
            "Protease",
            "Nuclear receptor",
            "methyltransferase",
            "demethylase",
            "Histone deacetylase",
            "Histone acetyltransferase",
            "Bromodomain",
            "Heat shock",
            "kinase",
            "protease",
            "nuclear receptor",
            "cytochrome P450",
            "heat shock",
            "Cytochrome P450",
            "ion channel",
            "G protein-coupled",
            "Kinase",
            "epigenetic regulator",
            "Protease",
            "Nuclear receptor",
            "methyltransferase",
            "demethylase",
            "Histone deacetylase",
            "Histone acetyltransferase",
            "Bromodomain",
            "transient receptor",
            "GRP",
            "kinase",
            "protease",
            "nuclear receptor",
            "cytochrome P450",
            "Cytochrome P450",
            "ion channel",
            "G protein-coupled",
            "Kinase",
            "Toll-like",
            "epigenetic regulator",
            "Protease",
            "Nuclear receptor",
            "methyltransferase",
            "demethylase",
            "Histone deacetylase",
            "Histone acetyltransferase",
            "Bromodomain",
            "protein tau",
            "Heat shock",
            "transient receptor",
            "GRP",
            "kinase",
            "protease",
            "nuclear receptor",
            "cytochrome P450",
            "heat shock",
            "Cytochrome P450",
            "ion channel",
            "G protein-coupled",
            "Kinase",
            "Toll-like",
            "epigenetic regulator",
            "Protease",
            "Nuclear receptor",
            "methyltransferase",
            "demethylase",
            "Histone deacetylase",
            "Histone acetyltransferase",
            "Bromodomain",
            "protein tau",
            "Heat shock",
            "transient receptor",
            "GRP",
            "kinase",
            "protease",
            "nuclear receptor",
            "cytochrome P450",
            "heat shock",
            "Cytochrome P450",
            "ion channel",
            "G protein-coupled",
            "Kinase",
            "Toll-like",
            "epigenetic regulator",
            "Protease",
            "Nuclear receptor",
            "methyltransferase",
            "demethylase",
            "Histone deacetylase",
            "Histone acetyltransferase",
            "Bromodomain",
            "protein tau",
            "Heat shock",
            "transient receptor",
            "GRP",
            "kinase",
            "protease",
            "nuclear receptor",
            "cytochrome P450",
            "heat shock"
           ],
           [
            2,
            51,
            3,
            2,
            2,
            2,
            1,
            1,
            51,
            2,
            2,
            43,
            5,
            1,
            5,
            3,
            1,
            43,
            1,
            5,
            1,
            8,
            30,
            4,
            1,
            4,
            2,
            2,
            1,
            30,
            1,
            4,
            1,
            5,
            74,
            28,
            11,
            5,
            3,
            5,
            2,
            12,
            1,
            74,
            11,
            5,
            1,
            3,
            5,
            106,
            25,
            10,
            8,
            4,
            5,
            3,
            1,
            6,
            1,
            106,
            10,
            8,
            3,
            1,
            5,
            15,
            1,
            57,
            10,
            10,
            9,
            4,
            1,
            2,
            1,
            2,
            2,
            2,
            57,
            10,
            9,
            5,
            22,
            118,
            11,
            497,
            5,
            124,
            191,
            40,
            49,
            22,
            11,
            9,
            24,
            1,
            8,
            17,
            3,
            497,
            191,
            40,
            22,
            8,
            25,
            84,
            6,
            469,
            4,
            113,
            168,
            32,
            44,
            18,
            11,
            6,
            23,
            1,
            7,
            5,
            3,
            469,
            168,
            32,
            25,
            7,
            28,
            129,
            32,
            408,
            8,
            98,
            134,
            41,
            31,
            18,
            11,
            7,
            21,
            1,
            7,
            16,
            3,
            408,
            134,
            41,
            28,
            7
           ],
           [
            10,
            1817,
            105,
            21,
            39,
            98,
            1,
            21,
            1817,
            21,
            39,
            568,
            41,
            1,
            30,
            50,
            24,
            568,
            1,
            30,
            2,
            97,
            798,
            38,
            341,
            155,
            37,
            1,
            2,
            798,
            341,
            155,
            2,
            50,
            6092,
            927,
            520,
            29,
            140,
            90,
            57,
            596,
            1,
            6092,
            520,
            29,
            1,
            29,
            14,
            4258,
            1110,
            128,
            663,
            574,
            72,
            24,
            1,
            420,
            1,
            4258,
            128,
            663,
            29,
            1,
            149,
            677,
            140,
            3639,
            101,
            727,
            1252,
            50,
            3,
            6,
            13,
            29,
            30,
            6,
            3639,
            727,
            1252,
            149,
            1882,
            14854,
            650,
            82737,
            104,
            14016,
            35410,
            10583,
            3205,
            1703,
            5488,
            489,
            2574,
            49203,
            1894,
            413,
            343,
            82737,
            35410,
            10583,
            1882,
            1894,
            3263,
            5800,
            981,
            50836,
            191,
            6931,
            30141,
            4770,
            1164,
            1068,
            1762,
            189,
            1954,
            192,
            354,
            392,
            138,
            50836,
            30141,
            4770,
            3263,
            354,
            2718,
            26220,
            5645,
            30147,
            1564,
            6341,
            12961,
            15895,
            1599,
            1012,
            2468,
            343,
            1259,
            33,
            406,
            5784,
            1958,
            30147,
            12961,
            15895,
            2718,
            406
           ]
          ]
         },
         "header": {
          "align": "left",
          "fill": {
           "color": "paleturquoise"
          },
          "values": [
           "Group",
           "protein_class_name",
           "target_count",
           "molecule_count"
          ]
         },
         "type": "table"
        }
       ],
       "layout": {
        "template": {
         "data": {
          "bar": [
           {
            "error_x": {
             "color": "#2a3f5f"
            },
            "error_y": {
             "color": "#2a3f5f"
            },
            "marker": {
             "line": {
              "color": "#E5ECF6",
              "width": 0.5
             },
             "pattern": {
              "fillmode": "overlay",
              "size": 10,
              "solidity": 0.2
             }
            },
            "type": "bar"
           }
          ],
          "barpolar": [
           {
            "marker": {
             "line": {
              "color": "#E5ECF6",
              "width": 0.5
             },
             "pattern": {
              "fillmode": "overlay",
              "size": 10,
              "solidity": 0.2
             }
            },
            "type": "barpolar"
           }
          ],
          "carpet": [
           {
            "aaxis": {
             "endlinecolor": "#2a3f5f",
             "gridcolor": "white",
             "linecolor": "white",
             "minorgridcolor": "white",
             "startlinecolor": "#2a3f5f"
            },
            "baxis": {
             "endlinecolor": "#2a3f5f",
             "gridcolor": "white",
             "linecolor": "white",
             "minorgridcolor": "white",
             "startlinecolor": "#2a3f5f"
            },
            "type": "carpet"
           }
          ],
          "choropleth": [
           {
            "colorbar": {
             "outlinewidth": 0,
             "ticks": ""
            },
            "type": "choropleth"
           }
          ],
          "contour": [
           {
            "colorbar": {
             "outlinewidth": 0,
             "ticks": ""
            },
            "colorscale": [
             [
              0,
              "#0d0887"
             ],
             [
              0.1111111111111111,
              "#46039f"
             ],
             [
              0.2222222222222222,
              "#7201a8"
             ],
             [
              0.3333333333333333,
              "#9c179e"
             ],
             [
              0.4444444444444444,
              "#bd3786"
             ],
             [
              0.5555555555555556,
              "#d8576b"
             ],
             [
              0.6666666666666666,
              "#ed7953"
             ],
             [
              0.7777777777777778,
              "#fb9f3a"
             ],
             [
              0.8888888888888888,
              "#fdca26"
             ],
             [
              1,
              "#f0f921"
             ]
            ],
            "type": "contour"
           }
          ],
          "contourcarpet": [
           {
            "colorbar": {
             "outlinewidth": 0,
             "ticks": ""
            },
            "type": "contourcarpet"
           }
          ],
          "heatmap": [
           {
            "colorbar": {
             "outlinewidth": 0,
             "ticks": ""
            },
            "colorscale": [
             [
              0,
              "#0d0887"
             ],
             [
              0.1111111111111111,
              "#46039f"
             ],
             [
              0.2222222222222222,
              "#7201a8"
             ],
             [
              0.3333333333333333,
              "#9c179e"
             ],
             [
              0.4444444444444444,
              "#bd3786"
             ],
             [
              0.5555555555555556,
              "#d8576b"
             ],
             [
              0.6666666666666666,
              "#ed7953"
             ],
             [
              0.7777777777777778,
              "#fb9f3a"
             ],
             [
              0.8888888888888888,
              "#fdca26"
             ],
             [
              1,
              "#f0f921"
             ]
            ],
            "type": "heatmap"
           }
          ],
          "heatmapgl": [
           {
            "colorbar": {
             "outlinewidth": 0,
             "ticks": ""
            },
            "colorscale": [
             [
              0,
              "#0d0887"
             ],
             [
              0.1111111111111111,
              "#46039f"
             ],
             [
              0.2222222222222222,
              "#7201a8"
             ],
             [
              0.3333333333333333,
              "#9c179e"
             ],
             [
              0.4444444444444444,
              "#bd3786"
             ],
             [
              0.5555555555555556,
              "#d8576b"
             ],
             [
              0.6666666666666666,
              "#ed7953"
             ],
             [
              0.7777777777777778,
              "#fb9f3a"
             ],
             [
              0.8888888888888888,
              "#fdca26"
             ],
             [
              1,
              "#f0f921"
             ]
            ],
            "type": "heatmapgl"
           }
          ],
          "histogram": [
           {
            "marker": {
             "pattern": {
              "fillmode": "overlay",
              "size": 10,
              "solidity": 0.2
             }
            },
            "type": "histogram"
           }
          ],
          "histogram2d": [
           {
            "colorbar": {
             "outlinewidth": 0,
             "ticks": ""
            },
            "colorscale": [
             [
              0,
              "#0d0887"
             ],
             [
              0.1111111111111111,
              "#46039f"
             ],
             [
              0.2222222222222222,
              "#7201a8"
             ],
             [
              0.3333333333333333,
              "#9c179e"
             ],
             [
              0.4444444444444444,
              "#bd3786"
             ],
             [
              0.5555555555555556,
              "#d8576b"
             ],
             [
              0.6666666666666666,
              "#ed7953"
             ],
             [
              0.7777777777777778,
              "#fb9f3a"
             ],
             [
              0.8888888888888888,
              "#fdca26"
             ],
             [
              1,
              "#f0f921"
             ]
            ],
            "type": "histogram2d"
           }
          ],
          "histogram2dcontour": [
           {
            "colorbar": {
             "outlinewidth": 0,
             "ticks": ""
            },
            "colorscale": [
             [
              0,
              "#0d0887"
             ],
             [
              0.1111111111111111,
              "#46039f"
             ],
             [
              0.2222222222222222,
              "#7201a8"
             ],
             [
              0.3333333333333333,
              "#9c179e"
             ],
             [
              0.4444444444444444,
              "#bd3786"
             ],
             [
              0.5555555555555556,
              "#d8576b"
             ],
             [
              0.6666666666666666,
              "#ed7953"
             ],
             [
              0.7777777777777778,
              "#fb9f3a"
             ],
             [
              0.8888888888888888,
              "#fdca26"
             ],
             [
              1,
              "#f0f921"
             ]
            ],
            "type": "histogram2dcontour"
           }
          ],
          "mesh3d": [
           {
            "colorbar": {
             "outlinewidth": 0,
             "ticks": ""
            },
            "type": "mesh3d"
           }
          ],
          "parcoords": [
           {
            "line": {
             "colorbar": {
              "outlinewidth": 0,
              "ticks": ""
             }
            },
            "type": "parcoords"
           }
          ],
          "pie": [
           {
            "automargin": true,
            "type": "pie"
           }
          ],
          "scatter": [
           {
            "fillpattern": {
             "fillmode": "overlay",
             "size": 10,
             "solidity": 0.2
            },
            "type": "scatter"
           }
          ],
          "scatter3d": [
           {
            "line": {
             "colorbar": {
              "outlinewidth": 0,
              "ticks": ""
             }
            },
            "marker": {
             "colorbar": {
              "outlinewidth": 0,
              "ticks": ""
             }
            },
            "type": "scatter3d"
           }
          ],
          "scattercarpet": [
           {
            "marker": {
             "colorbar": {
              "outlinewidth": 0,
              "ticks": ""
             }
            },
            "type": "scattercarpet"
           }
          ],
          "scattergeo": [
           {
            "marker": {
             "colorbar": {
              "outlinewidth": 0,
              "ticks": ""
             }
            },
            "type": "scattergeo"
           }
          ],
          "scattergl": [
           {
            "marker": {
             "colorbar": {
              "outlinewidth": 0,
              "ticks": ""
             }
            },
            "type": "scattergl"
           }
          ],
          "scattermapbox": [
           {
            "marker": {
             "colorbar": {
              "outlinewidth": 0,
              "ticks": ""
             }
            },
            "type": "scattermapbox"
           }
          ],
          "scatterpolar": [
           {
            "marker": {
             "colorbar": {
              "outlinewidth": 0,
              "ticks": ""
             }
            },
            "type": "scatterpolar"
           }
          ],
          "scatterpolargl": [
           {
            "marker": {
             "colorbar": {
              "outlinewidth": 0,
              "ticks": ""
             }
            },
            "type": "scatterpolargl"
           }
          ],
          "scatterternary": [
           {
            "marker": {
             "colorbar": {
              "outlinewidth": 0,
              "ticks": ""
             }
            },
            "type": "scatterternary"
           }
          ],
          "surface": [
           {
            "colorbar": {
             "outlinewidth": 0,
             "ticks": ""
            },
            "colorscale": [
             [
              0,
              "#0d0887"
             ],
             [
              0.1111111111111111,
              "#46039f"
             ],
             [
              0.2222222222222222,
              "#7201a8"
             ],
             [
              0.3333333333333333,
              "#9c179e"
             ],
             [
              0.4444444444444444,
              "#bd3786"
             ],
             [
              0.5555555555555556,
              "#d8576b"
             ],
             [
              0.6666666666666666,
              "#ed7953"
             ],
             [
              0.7777777777777778,
              "#fb9f3a"
             ],
             [
              0.8888888888888888,
              "#fdca26"
             ],
             [
              1,
              "#f0f921"
             ]
            ],
            "type": "surface"
           }
          ],
          "table": [
           {
            "cells": {
             "fill": {
              "color": "#EBF0F8"
             },
             "line": {
              "color": "white"
             }
            },
            "header": {
             "fill": {
              "color": "#C8D4E3"
             },
             "line": {
              "color": "white"
             }
            },
            "type": "table"
           }
          ]
         },
         "layout": {
          "annotationdefaults": {
           "arrowcolor": "#2a3f5f",
           "arrowhead": 0,
           "arrowwidth": 1
          },
          "autotypenumbers": "strict",
          "coloraxis": {
           "colorbar": {
            "outlinewidth": 0,
            "ticks": ""
           }
          },
          "colorscale": {
           "diverging": [
            [
             0,
             "#8e0152"
            ],
            [
             0.1,
             "#c51b7d"
            ],
            [
             0.2,
             "#de77ae"
            ],
            [
             0.3,
             "#f1b6da"
            ],
            [
             0.4,
             "#fde0ef"
            ],
            [
             0.5,
             "#f7f7f7"
            ],
            [
             0.6,
             "#e6f5d0"
            ],
            [
             0.7,
             "#b8e186"
            ],
            [
             0.8,
             "#7fbc41"
            ],
            [
             0.9,
             "#4d9221"
            ],
            [
             1,
             "#276419"
            ]
           ],
           "sequential": [
            [
             0,
             "#0d0887"
            ],
            [
             0.1111111111111111,
             "#46039f"
            ],
            [
             0.2222222222222222,
             "#7201a8"
            ],
            [
             0.3333333333333333,
             "#9c179e"
            ],
            [
             0.4444444444444444,
             "#bd3786"
            ],
            [
             0.5555555555555556,
             "#d8576b"
            ],
            [
             0.6666666666666666,
             "#ed7953"
            ],
            [
             0.7777777777777778,
             "#fb9f3a"
            ],
            [
             0.8888888888888888,
             "#fdca26"
            ],
            [
             1,
             "#f0f921"
            ]
           ],
           "sequentialminus": [
            [
             0,
             "#0d0887"
            ],
            [
             0.1111111111111111,
             "#46039f"
            ],
            [
             0.2222222222222222,
             "#7201a8"
            ],
            [
             0.3333333333333333,
             "#9c179e"
            ],
            [
             0.4444444444444444,
             "#bd3786"
            ],
            [
             0.5555555555555556,
             "#d8576b"
            ],
            [
             0.6666666666666666,
             "#ed7953"
            ],
            [
             0.7777777777777778,
             "#fb9f3a"
            ],
            [
             0.8888888888888888,
             "#fdca26"
            ],
            [
             1,
             "#f0f921"
            ]
           ]
          },
          "colorway": [
           "#636efa",
           "#EF553B",
           "#00cc96",
           "#ab63fa",
           "#FFA15A",
           "#19d3f3",
           "#FF6692",
           "#B6E880",
           "#FF97FF",
           "#FECB52"
          ],
          "font": {
           "color": "#2a3f5f"
          },
          "geo": {
           "bgcolor": "white",
           "lakecolor": "white",
           "landcolor": "#E5ECF6",
           "showlakes": true,
           "showland": true,
           "subunitcolor": "white"
          },
          "hoverlabel": {
           "align": "left"
          },
          "hovermode": "closest",
          "mapbox": {
           "style": "light"
          },
          "paper_bgcolor": "white",
          "plot_bgcolor": "#E5ECF6",
          "polar": {
           "angularaxis": {
            "gridcolor": "white",
            "linecolor": "white",
            "ticks": ""
           },
           "bgcolor": "#E5ECF6",
           "radialaxis": {
            "gridcolor": "white",
            "linecolor": "white",
            "ticks": ""
           }
          },
          "scene": {
           "xaxis": {
            "backgroundcolor": "#E5ECF6",
            "gridcolor": "white",
            "gridwidth": 2,
            "linecolor": "white",
            "showbackground": true,
            "ticks": "",
            "zerolinecolor": "white"
           },
           "yaxis": {
            "backgroundcolor": "#E5ECF6",
            "gridcolor": "white",
            "gridwidth": 2,
            "linecolor": "white",
            "showbackground": true,
            "ticks": "",
            "zerolinecolor": "white"
           },
           "zaxis": {
            "backgroundcolor": "#E5ECF6",
            "gridcolor": "white",
            "gridwidth": 2,
            "linecolor": "white",
            "showbackground": true,
            "ticks": "",
            "zerolinecolor": "white"
           }
          },
          "shapedefaults": {
           "line": {
            "color": "#2a3f5f"
           }
          },
          "ternary": {
           "aaxis": {
            "gridcolor": "white",
            "linecolor": "white",
            "ticks": ""
           },
           "baxis": {
            "gridcolor": "white",
            "linecolor": "white",
            "ticks": ""
           },
           "bgcolor": "#E5ECF6",
           "caxis": {
            "gridcolor": "white",
            "linecolor": "white",
            "ticks": ""
           }
          },
          "title": {
           "x": 0.05
          },
          "xaxis": {
           "automargin": true,
           "gridcolor": "white",
           "linecolor": "white",
           "ticks": "",
           "title": {
            "standoff": 15
           },
           "zerolinecolor": "white",
           "zerolinewidth": 2
          },
          "yaxis": {
           "automargin": true,
           "gridcolor": "white",
           "linecolor": "white",
           "ticks": "",
           "title": {
            "standoff": 15
           },
           "zerolinecolor": "white",
           "zerolinewidth": 2
          }
         }
        },
        "title": {
         "text": "Combined Protein Class Statistics",
         "x": 0.5
        }
       }
      }
     },
     "metadata": {},
     "output_type": "display_data"
    }
   ],
   "source": [
    "create_interactive_table(combined_df, title=\"Combined Protein Class Statistics\")"
   ]
  },
  {
   "cell_type": "markdown",
   "metadata": {},
   "source": [
    "## Table with activity data and mutation information"
   ]
  },
  {
   "cell_type": "code",
   "execution_count": 14,
   "metadata": {},
   "outputs": [],
   "source": [
    "protein = pd.read_csv('/home/federica/LAB2/protein_class_with.csv')\n",
    "\n",
    "whole_data = pd.read_csv('/home/federica/LAB2/data_202410161138_protein/filtered/whole_dataset_out.csv')"
   ]
  },
  {
   "cell_type": "code",
   "execution_count": 22,
   "metadata": {},
   "outputs": [],
   "source": [
    "merged_data = pd.merge(\n",
    "    protein[['protein_class_name', 'pref_name', 'chembl_id']],\n",
    "    whole_data[['Molecule ChEMBL ID', 'Target ChEMBL ID', 'mutant', 'Quality', 'Class']],\n",
    "    left_on='chembl_id',\n",
    "    right_on='Target ChEMBL ID',\n",
    "    how='left'\n",
    ")\n",
    "\n",
    "merged_data = merged_data.dropna(subset=['Target ChEMBL ID'])"
   ]
  },
  {
   "cell_type": "code",
   "execution_count": 17,
   "metadata": {},
   "outputs": [
    {
     "data": {
      "text/html": [
       "<div>\n",
       "<style scoped>\n",
       "    .dataframe tbody tr th:only-of-type {\n",
       "        vertical-align: middle;\n",
       "    }\n",
       "\n",
       "    .dataframe tbody tr th {\n",
       "        vertical-align: top;\n",
       "    }\n",
       "\n",
       "    .dataframe thead th {\n",
       "        text-align: right;\n",
       "    }\n",
       "</style>\n",
       "<table border=\"1\" class=\"dataframe\">\n",
       "  <thead>\n",
       "    <tr style=\"text-align: right;\">\n",
       "      <th></th>\n",
       "      <th>protein_class_description</th>\n",
       "      <th>prot_class_name</th>\n",
       "      <th>pref_name</th>\n",
       "      <th>Target ChEMBL ID</th>\n",
       "      <th>mutation</th>\n",
       "      <th>activity_class_0</th>\n",
       "      <th>activity_class_1</th>\n",
       "      <th>activity_class_2</th>\n",
       "      <th>n_molecule_1</th>\n",
       "      <th>n_molecule_2</th>\n",
       "      <th>n_molecule_3</th>\n",
       "      <th>mixed_1</th>\n",
       "      <th>mixed_2</th>\n",
       "      <th>mixed_3</th>\n",
       "    </tr>\n",
       "  </thead>\n",
       "  <tbody>\n",
       "    <tr>\n",
       "      <th>813</th>\n",
       "      <td>cytosolic other</td>\n",
       "      <td>Other cytosolic protein</td>\n",
       "      <td>Heat shock factor protein 1</td>\n",
       "      <td>CHEMBL5869</td>\n",
       "      <td>None</td>\n",
       "      <td>0</td>\n",
       "      <td>0</td>\n",
       "      <td>1</td>\n",
       "      <td>0</td>\n",
       "      <td>1</td>\n",
       "      <td>0</td>\n",
       "      <td>2</td>\n",
       "      <td>4</td>\n",
       "      <td>124</td>\n",
       "    </tr>\n",
       "    <tr>\n",
       "      <th>1169</th>\n",
       "      <td>cytosolic other</td>\n",
       "      <td>Other cytosolic protein</td>\n",
       "      <td>Heat shock 70 kDa protein 6</td>\n",
       "      <td>CHEMBL3232688</td>\n",
       "      <td>None</td>\n",
       "      <td>0</td>\n",
       "      <td>0</td>\n",
       "      <td>0</td>\n",
       "      <td>0</td>\n",
       "      <td>0</td>\n",
       "      <td>0</td>\n",
       "      <td>0</td>\n",
       "      <td>0</td>\n",
       "      <td>0</td>\n",
       "    </tr>\n",
       "    <tr>\n",
       "      <th>823</th>\n",
       "      <td>cytosolic other</td>\n",
       "      <td>Other cytosolic protein</td>\n",
       "      <td>Heat shock protein beta-1</td>\n",
       "      <td>CHEMBL5976</td>\n",
       "      <td>None</td>\n",
       "      <td>0</td>\n",
       "      <td>0</td>\n",
       "      <td>0</td>\n",
       "      <td>0</td>\n",
       "      <td>0</td>\n",
       "      <td>0</td>\n",
       "      <td>3</td>\n",
       "      <td>0</td>\n",
       "      <td>25</td>\n",
       "    </tr>\n",
       "    <tr>\n",
       "      <th>598</th>\n",
       "      <td>cytosolic other</td>\n",
       "      <td>Other cytosolic protein</td>\n",
       "      <td>Breakpoint cluster region protein</td>\n",
       "      <td>CHEMBL5146</td>\n",
       "      <td>None</td>\n",
       "      <td>0</td>\n",
       "      <td>0</td>\n",
       "      <td>0</td>\n",
       "      <td>0</td>\n",
       "      <td>0</td>\n",
       "      <td>0</td>\n",
       "      <td>9</td>\n",
       "      <td>0</td>\n",
       "      <td>124</td>\n",
       "    </tr>\n",
       "    <tr>\n",
       "      <th>681</th>\n",
       "      <td>cytosolic other</td>\n",
       "      <td>Other cytosolic protein</td>\n",
       "      <td>Heat shock 70 kDa protein 1</td>\n",
       "      <td>CHEMBL5460</td>\n",
       "      <td>None</td>\n",
       "      <td>0</td>\n",
       "      <td>0</td>\n",
       "      <td>0</td>\n",
       "      <td>0</td>\n",
       "      <td>0</td>\n",
       "      <td>0</td>\n",
       "      <td>118</td>\n",
       "      <td>2</td>\n",
       "      <td>0</td>\n",
       "    </tr>\n",
       "    <tr>\n",
       "      <th>...</th>\n",
       "      <td>...</td>\n",
       "      <td>...</td>\n",
       "      <td>...</td>\n",
       "      <td>...</td>\n",
       "      <td>...</td>\n",
       "      <td>...</td>\n",
       "      <td>...</td>\n",
       "      <td>...</td>\n",
       "      <td>...</td>\n",
       "      <td>...</td>\n",
       "      <td>...</td>\n",
       "      <td>...</td>\n",
       "      <td>...</td>\n",
       "      <td>...</td>\n",
       "    </tr>\n",
       "    <tr>\n",
       "      <th>816</th>\n",
       "      <td>unclassified</td>\n",
       "      <td>Unclassified protein</td>\n",
       "      <td>Aurora kinase A-interacting protein</td>\n",
       "      <td>CHEMBL5910</td>\n",
       "      <td>None</td>\n",
       "      <td>0</td>\n",
       "      <td>0</td>\n",
       "      <td>0</td>\n",
       "      <td>0</td>\n",
       "      <td>0</td>\n",
       "      <td>0</td>\n",
       "      <td>0</td>\n",
       "      <td>0</td>\n",
       "      <td>0</td>\n",
       "    </tr>\n",
       "    <tr>\n",
       "      <th>1303</th>\n",
       "      <td>unclassified</td>\n",
       "      <td>Unclassified protein</td>\n",
       "      <td>Putative heat shock protein HSP 90-beta 2</td>\n",
       "      <td>CHEMBL4105858</td>\n",
       "      <td>None</td>\n",
       "      <td>0</td>\n",
       "      <td>0</td>\n",
       "      <td>0</td>\n",
       "      <td>0</td>\n",
       "      <td>0</td>\n",
       "      <td>0</td>\n",
       "      <td>0</td>\n",
       "      <td>0</td>\n",
       "      <td>125</td>\n",
       "    </tr>\n",
       "    <tr>\n",
       "      <th>784</th>\n",
       "      <td>unclassified</td>\n",
       "      <td>Unclassified protein</td>\n",
       "      <td>Cyclin-dependent kinase 2-associated protein 2</td>\n",
       "      <td>CHEMBL6010</td>\n",
       "      <td>None</td>\n",
       "      <td>0</td>\n",
       "      <td>0</td>\n",
       "      <td>0</td>\n",
       "      <td>0</td>\n",
       "      <td>0</td>\n",
       "      <td>0</td>\n",
       "      <td>0</td>\n",
       "      <td>2</td>\n",
       "      <td>0</td>\n",
       "    </tr>\n",
       "    <tr>\n",
       "      <th>691</th>\n",
       "      <td>unclassified</td>\n",
       "      <td>Unclassified protein</td>\n",
       "      <td>Mitogen-activated protein kinase kinase kinase...</td>\n",
       "      <td>CHEMBL5605</td>\n",
       "      <td>None</td>\n",
       "      <td>0</td>\n",
       "      <td>0</td>\n",
       "      <td>0</td>\n",
       "      <td>0</td>\n",
       "      <td>0</td>\n",
       "      <td>0</td>\n",
       "      <td>0</td>\n",
       "      <td>36</td>\n",
       "      <td>0</td>\n",
       "    </tr>\n",
       "    <tr>\n",
       "      <th>1475</th>\n",
       "      <td>unclassified</td>\n",
       "      <td>Unclassified protein</td>\n",
       "      <td>Plasma protease C1 inhibitor</td>\n",
       "      <td>CHEMBL5305024</td>\n",
       "      <td>None</td>\n",
       "      <td>0</td>\n",
       "      <td>0</td>\n",
       "      <td>0</td>\n",
       "      <td>0</td>\n",
       "      <td>0</td>\n",
       "      <td>0</td>\n",
       "      <td>0</td>\n",
       "      <td>0</td>\n",
       "      <td>0</td>\n",
       "    </tr>\n",
       "  </tbody>\n",
       "</table>\n",
       "<p>1476 rows × 14 columns</p>\n",
       "</div>"
      ],
      "text/plain": [
       "     protein_class_description          prot_class_name  \\\n",
       "813            cytosolic other  Other cytosolic protein   \n",
       "1169           cytosolic other  Other cytosolic protein   \n",
       "823            cytosolic other  Other cytosolic protein   \n",
       "598            cytosolic other  Other cytosolic protein   \n",
       "681            cytosolic other  Other cytosolic protein   \n",
       "...                        ...                      ...   \n",
       "816               unclassified     Unclassified protein   \n",
       "1303              unclassified     Unclassified protein   \n",
       "784               unclassified     Unclassified protein   \n",
       "691               unclassified     Unclassified protein   \n",
       "1475              unclassified     Unclassified protein   \n",
       "\n",
       "                                              pref_name Target ChEMBL ID  \\\n",
       "813                         Heat shock factor protein 1       CHEMBL5869   \n",
       "1169                        Heat shock 70 kDa protein 6    CHEMBL3232688   \n",
       "823                           Heat shock protein beta-1       CHEMBL5976   \n",
       "598                   Breakpoint cluster region protein       CHEMBL5146   \n",
       "681                         Heat shock 70 kDa protein 1       CHEMBL5460   \n",
       "...                                                 ...              ...   \n",
       "816                 Aurora kinase A-interacting protein       CHEMBL5910   \n",
       "1303          Putative heat shock protein HSP 90-beta 2    CHEMBL4105858   \n",
       "784      Cyclin-dependent kinase 2-associated protein 2       CHEMBL6010   \n",
       "691   Mitogen-activated protein kinase kinase kinase...       CHEMBL5605   \n",
       "1475                       Plasma protease C1 inhibitor    CHEMBL5305024   \n",
       "\n",
       "     mutation activity_class_0 activity_class_1 activity_class_2 n_molecule_1  \\\n",
       "813      None                0                0                1            0   \n",
       "1169     None                0                0                0            0   \n",
       "823      None                0                0                0            0   \n",
       "598      None                0                0                0            0   \n",
       "681      None                0                0                0            0   \n",
       "...       ...              ...              ...              ...          ...   \n",
       "816      None                0                0                0            0   \n",
       "1303     None                0                0                0            0   \n",
       "784      None                0                0                0            0   \n",
       "691      None                0                0                0            0   \n",
       "1475     None                0                0                0            0   \n",
       "\n",
       "     n_molecule_2 n_molecule_3 mixed_1 mixed_2 mixed_3  \n",
       "813             1            0       2       4     124  \n",
       "1169            0            0       0       0       0  \n",
       "823             0            0       3       0      25  \n",
       "598             0            0       9       0     124  \n",
       "681             0            0     118       2       0  \n",
       "...           ...          ...     ...     ...     ...  \n",
       "816             0            0       0       0       0  \n",
       "1303            0            0       0       0     125  \n",
       "784             0            0       0       2       0  \n",
       "691             0            0       0      36       0  \n",
       "1475            0            0       0       0       0  \n",
       "\n",
       "[1476 rows x 14 columns]"
      ]
     },
     "execution_count": 17,
     "metadata": {},
     "output_type": "execute_result"
    }
   ],
   "source": [
    "new_dataframe = pd.DataFrame(columns=['protein_class_description','prot_class_name', 'pref_name', 'Target ChEMBL ID', \n",
    "                                      'mutation', 'activity_class_0', 'activity_class_1', \n",
    "                                      'activity_class_2', 'n_molecule_1', 'n_molecule_2', \n",
    "                                      'n_molecule_3', 'mixed_1', 'mixed_2', 'mixed_3'])\n",
    "\n",
    "for index, row in protein.iterrows():\n",
    "    target_data = merged_data[merged_data['chembl_id'] == row['chembl_id']]\n",
    "\n",
    "    activity_counts = target_data['Class'].value_counts()\n",
    "    activity_class_0 = activity_counts.get(0, 0)\n",
    "    activity_class_1 = activity_counts.get(1, 0)\n",
    "    activity_class_2 = activity_counts.get(2, 0)\n",
    "    \n",
    "    quality_counts = target_data['Quality'].value_counts()\n",
    "    n_molecule_1 = quality_counts.get(1, 0)\n",
    "    n_molecule_2 = quality_counts.get(2, 0)\n",
    "    n_molecule_3 = quality_counts.get(3, 0)\n",
    "\n",
    "    mutations = target_data['mutant'].dropna().unique()\n",
    "    if len(mutations) > 1:\n",
    "        mutation_value = list(mutations)\n",
    "    elif len(mutations) == 1:\n",
    "        mutation_value = mutations[0]\n",
    "    else:\n",
    "        mutation_value = None \n",
    "    \n",
    "    new_row = pd.DataFrame({\n",
    "        'protein_class_description': [row['protein_class_description']],\n",
    "        'prot_class_name': [row['protein_class_name']],\n",
    "        'pref_name': [row['pref_name']],\n",
    "        'Target ChEMBL ID': [row['chembl_id']],\n",
    "        'mutation': [mutation_value],\n",
    "        'activity_class_0': [activity_class_0],\n",
    "        'activity_class_1': [activity_class_1],\n",
    "        'activity_class_2': [activity_class_2],\n",
    "        'n_molecule_1': [n_molecule_1],\n",
    "        'n_molecule_2': [n_molecule_2],\n",
    "        'n_molecule_3': [n_molecule_3],\n",
    "        'mixed_1': [0],\n",
    "        'mixed_2': [0],\n",
    "        'mixed_3': [0]\n",
    "    })\n",
    "    new_dataframe = pd.concat([new_dataframe, new_row], ignore_index=True)\n",
    "    \n",
    "for mixed_df, col in zip([mixed_1, mixed_2, mixed_3], ['mixed_1', 'mixed_2', 'mixed_3']):\n",
    "    for index, row in new_dataframe.iterrows():\n",
    "        target_id = row['Target ChEMBL ID']\n",
    "        count = mixed_df[mixed_df['Target ChEMBL ID'] == target_id].shape[0]\n",
    "        new_dataframe.at[index, col] = count\n",
    "\n",
    "new_dataframe = new_dataframe.sort_values(by='protein_class_description', ascending=True)\n",
    "new_dataframe.to_csv('/home/federica/LAB2/protein_class_with_activity.csv', index=False)\n",
    "new_dataframe\n"
   ]
  },
  {
   "cell_type": "code",
   "execution_count": 18,
   "metadata": {},
   "outputs": [],
   "source": [
    "def assign_family(row, target_classes):\n",
    "    for target_class in target_classes:\n",
    "        if (target_class in str(row['prot_class_name']) or\n",
    "            target_class in str(row['pref_name']) or\n",
    "            target_class in str(row['protein_class_description'])):\n",
    "            return target_class\n",
    "    return None  # Se non corrisponde a nessuna famiglia\n",
    "\n",
    "# Creiamo la nuova colonna 'family' basata sulla corrispondenza con target_classes\n",
    "new_dataframe['family'] = new_dataframe.apply(lambda row: assign_family(row, target_classes), axis=1)\n",
    "\n",
    "# Riordiniamo le colonne per mettere 'family' come prima\n",
    "cols = ['family'] + [col for col in new_dataframe.columns if col != 'family']\n",
    "new_dataframe = new_dataframe[cols]\n",
    "\n",
    "# Ora ordiniamo il dataframe prima per 'family', poi per 'prot_class_name' e 'pref_name' alfabeticamente\n",
    "sorted_dataframe = new_dataframe.sort_values(by=['family', 'prot_class_name', 'pref_name'], ascending=True)\n",
    "\n",
    "\n",
    "# Salviamo il nuovo dataframe ordinato\n",
    "if not os.path.exists('/home/federica/LAB2/sorted_new.csv'):\n",
    "    sorted_dataframe.to_csv('/home/federica/LAB2/sorted_new.csv', index=False)"
   ]
  },
  {
   "cell_type": "code",
   "execution_count": 19,
   "metadata": {},
   "outputs": [],
   "source": [
    "def create_table(df, title=\"Interactive Table\"):\n",
    "    fig = go.Figure(data=[go.Table(\n",
    "        header=dict(values=list(df.columns),\n",
    "                    fill_color='paleturquoise',\n",
    "                    align='left'),\n",
    "        cells=dict(values=[df[col] for col in df.columns ],\n",
    "                   fill_color='lavender',\n",
    "                   align='left'))\n",
    "    ])\n",
    "\n",
    "    fig.update_layout(\n",
    "        title=title,\n",
    "        title_x=0.5\n",
    "    )\n",
    "\n",
    "    fig.show()"
   ]
  },
  {
   "cell_type": "code",
   "execution_count": 21,
   "metadata": {},
   "outputs": [
    {
     "data": {
      "application/vnd.plotly.v1+json": {
       "config": {
        "plotlyServerURL": "https://plot.ly"
       },
       "data": [
        {
         "cells": {
          "align": "left",
          "fill": {
           "color": "lavender"
          },
          "values": [
           [
            "Cytochrome P450",
            "Cytochrome P450",
            "Cytochrome P450",
            "Cytochrome P450",
            "Cytochrome P450",
            "Cytochrome P450",
            "Cytochrome P450",
            "Cytochrome P450",
            "Cytochrome P450",
            "Cytochrome P450"
           ],
           [
            "enzyme  cytochrome p450  cyp_11  cyp_11b  cyp_11b1",
            "enzyme  cytochrome p450  cyp_11  cyp_11b  cyp_11b2",
            "enzyme  cytochrome p450  cyp_17  cyp_17a  cyp_17a1",
            "enzyme  cytochrome p450  cyp_19  cyp_19a  cyp_19a1",
            "enzyme  cytochrome p450  cyp_1  cyp_1a  cyp_1a1",
            "enzyme  cytochrome p450  cyp_1  cyp_1a  cyp_1a2",
            "enzyme  cytochrome p450  cyp_1  cyp_1b  cyp_1b1",
            "enzyme  cytochrome p450  cyp_21  cyp_21a  cyp_21a2",
            "enzyme  cytochrome p450  cyp_24  cyp_24a  cyp_24a1",
            "enzyme  cytochrome p450  cyp_26  cyp_26a  cyp_26a1"
           ],
           [
            "Cytochrome P450 11B1",
            "Cytochrome P450 11B2",
            "Cytochrome P450 17A1",
            "Cytochrome P450 19A1",
            "Cytochrome P450 1A1",
            "Cytochrome P450 1A2",
            "Cytochrome P450 1B1",
            "Cytochrome P450 21A2",
            "Cytochrome P450 24A1",
            "Cytochrome P450 26A1"
           ],
           [
            "Cytochrome P450 11B1",
            "Cytochrome P450 11B2",
            "Cytochrome P450 17A1",
            "Cytochrome P450 19A1",
            "Cytochrome P450 1A1",
            "Cytochrome P450 1A2",
            "Cytochrome P450 1B1",
            "Cytochrome P450 21",
            "Cytochrome P450 24A1",
            "Cytochrome P450 26A1"
           ],
           [
            "CHEMBL1908",
            "CHEMBL2722",
            "CHEMBL3522",
            "CHEMBL1978",
            "CHEMBL2231",
            "CHEMBL3356",
            "CHEMBL4878",
            "CHEMBL2759",
            "CHEMBL4521",
            "CHEMBL5141"
           ],
           [
            "G402/H295R/F12",
            "['H295R', 'H285R', 'G402/H295R/F12']",
            "['H295R', 'P450']",
            "T47D",
            null,
            null,
            null,
            null,
            null,
            "T47D"
           ],
           [
            0,
            0,
            1,
            1,
            0,
            0,
            0,
            0,
            0,
            0
           ],
           [
            30,
            66,
            70,
            0,
            0,
            0,
            0,
            0,
            0,
            23
           ],
           [
            0,
            0,
            4,
            9,
            0,
            0,
            0,
            0,
            0,
            2
           ],
           [
            0,
            0,
            0,
            0,
            0,
            0,
            0,
            0,
            0,
            0
           ],
           [
            0,
            0,
            25,
            0,
            0,
            0,
            0,
            0,
            0,
            0
           ],
           [
            30,
            66,
            50,
            10,
            0,
            0,
            0,
            0,
            0,
            25
           ],
           [
            14,
            21,
            140,
            1127,
            11,
            64,
            190,
            0,
            43,
            24
           ],
           [
            105,
            425,
            668,
            1748,
            73,
            86,
            159,
            2,
            38,
            31
           ],
           [
            1138,
            1264,
            417,
            613,
            100,
            66,
            150,
            106,
            32,
            129
           ]
          ]
         },
         "header": {
          "align": "left",
          "fill": {
           "color": "paleturquoise"
          },
          "values": [
           "family",
           "protein_class_description",
           "prot_class_name",
           "pref_name",
           "Target ChEMBL ID",
           "mutation",
           "activity_class_0",
           "activity_class_1",
           "activity_class_2",
           "n_molecule_1",
           "n_molecule_2",
           "n_molecule_3",
           "mixed_1",
           "mixed_2",
           "mixed_3"
          ]
         },
         "type": "table"
        }
       ],
       "layout": {
        "template": {
         "data": {
          "bar": [
           {
            "error_x": {
             "color": "#2a3f5f"
            },
            "error_y": {
             "color": "#2a3f5f"
            },
            "marker": {
             "line": {
              "color": "#E5ECF6",
              "width": 0.5
             },
             "pattern": {
              "fillmode": "overlay",
              "size": 10,
              "solidity": 0.2
             }
            },
            "type": "bar"
           }
          ],
          "barpolar": [
           {
            "marker": {
             "line": {
              "color": "#E5ECF6",
              "width": 0.5
             },
             "pattern": {
              "fillmode": "overlay",
              "size": 10,
              "solidity": 0.2
             }
            },
            "type": "barpolar"
           }
          ],
          "carpet": [
           {
            "aaxis": {
             "endlinecolor": "#2a3f5f",
             "gridcolor": "white",
             "linecolor": "white",
             "minorgridcolor": "white",
             "startlinecolor": "#2a3f5f"
            },
            "baxis": {
             "endlinecolor": "#2a3f5f",
             "gridcolor": "white",
             "linecolor": "white",
             "minorgridcolor": "white",
             "startlinecolor": "#2a3f5f"
            },
            "type": "carpet"
           }
          ],
          "choropleth": [
           {
            "colorbar": {
             "outlinewidth": 0,
             "ticks": ""
            },
            "type": "choropleth"
           }
          ],
          "contour": [
           {
            "colorbar": {
             "outlinewidth": 0,
             "ticks": ""
            },
            "colorscale": [
             [
              0,
              "#0d0887"
             ],
             [
              0.1111111111111111,
              "#46039f"
             ],
             [
              0.2222222222222222,
              "#7201a8"
             ],
             [
              0.3333333333333333,
              "#9c179e"
             ],
             [
              0.4444444444444444,
              "#bd3786"
             ],
             [
              0.5555555555555556,
              "#d8576b"
             ],
             [
              0.6666666666666666,
              "#ed7953"
             ],
             [
              0.7777777777777778,
              "#fb9f3a"
             ],
             [
              0.8888888888888888,
              "#fdca26"
             ],
             [
              1,
              "#f0f921"
             ]
            ],
            "type": "contour"
           }
          ],
          "contourcarpet": [
           {
            "colorbar": {
             "outlinewidth": 0,
             "ticks": ""
            },
            "type": "contourcarpet"
           }
          ],
          "heatmap": [
           {
            "colorbar": {
             "outlinewidth": 0,
             "ticks": ""
            },
            "colorscale": [
             [
              0,
              "#0d0887"
             ],
             [
              0.1111111111111111,
              "#46039f"
             ],
             [
              0.2222222222222222,
              "#7201a8"
             ],
             [
              0.3333333333333333,
              "#9c179e"
             ],
             [
              0.4444444444444444,
              "#bd3786"
             ],
             [
              0.5555555555555556,
              "#d8576b"
             ],
             [
              0.6666666666666666,
              "#ed7953"
             ],
             [
              0.7777777777777778,
              "#fb9f3a"
             ],
             [
              0.8888888888888888,
              "#fdca26"
             ],
             [
              1,
              "#f0f921"
             ]
            ],
            "type": "heatmap"
           }
          ],
          "heatmapgl": [
           {
            "colorbar": {
             "outlinewidth": 0,
             "ticks": ""
            },
            "colorscale": [
             [
              0,
              "#0d0887"
             ],
             [
              0.1111111111111111,
              "#46039f"
             ],
             [
              0.2222222222222222,
              "#7201a8"
             ],
             [
              0.3333333333333333,
              "#9c179e"
             ],
             [
              0.4444444444444444,
              "#bd3786"
             ],
             [
              0.5555555555555556,
              "#d8576b"
             ],
             [
              0.6666666666666666,
              "#ed7953"
             ],
             [
              0.7777777777777778,
              "#fb9f3a"
             ],
             [
              0.8888888888888888,
              "#fdca26"
             ],
             [
              1,
              "#f0f921"
             ]
            ],
            "type": "heatmapgl"
           }
          ],
          "histogram": [
           {
            "marker": {
             "pattern": {
              "fillmode": "overlay",
              "size": 10,
              "solidity": 0.2
             }
            },
            "type": "histogram"
           }
          ],
          "histogram2d": [
           {
            "colorbar": {
             "outlinewidth": 0,
             "ticks": ""
            },
            "colorscale": [
             [
              0,
              "#0d0887"
             ],
             [
              0.1111111111111111,
              "#46039f"
             ],
             [
              0.2222222222222222,
              "#7201a8"
             ],
             [
              0.3333333333333333,
              "#9c179e"
             ],
             [
              0.4444444444444444,
              "#bd3786"
             ],
             [
              0.5555555555555556,
              "#d8576b"
             ],
             [
              0.6666666666666666,
              "#ed7953"
             ],
             [
              0.7777777777777778,
              "#fb9f3a"
             ],
             [
              0.8888888888888888,
              "#fdca26"
             ],
             [
              1,
              "#f0f921"
             ]
            ],
            "type": "histogram2d"
           }
          ],
          "histogram2dcontour": [
           {
            "colorbar": {
             "outlinewidth": 0,
             "ticks": ""
            },
            "colorscale": [
             [
              0,
              "#0d0887"
             ],
             [
              0.1111111111111111,
              "#46039f"
             ],
             [
              0.2222222222222222,
              "#7201a8"
             ],
             [
              0.3333333333333333,
              "#9c179e"
             ],
             [
              0.4444444444444444,
              "#bd3786"
             ],
             [
              0.5555555555555556,
              "#d8576b"
             ],
             [
              0.6666666666666666,
              "#ed7953"
             ],
             [
              0.7777777777777778,
              "#fb9f3a"
             ],
             [
              0.8888888888888888,
              "#fdca26"
             ],
             [
              1,
              "#f0f921"
             ]
            ],
            "type": "histogram2dcontour"
           }
          ],
          "mesh3d": [
           {
            "colorbar": {
             "outlinewidth": 0,
             "ticks": ""
            },
            "type": "mesh3d"
           }
          ],
          "parcoords": [
           {
            "line": {
             "colorbar": {
              "outlinewidth": 0,
              "ticks": ""
             }
            },
            "type": "parcoords"
           }
          ],
          "pie": [
           {
            "automargin": true,
            "type": "pie"
           }
          ],
          "scatter": [
           {
            "fillpattern": {
             "fillmode": "overlay",
             "size": 10,
             "solidity": 0.2
            },
            "type": "scatter"
           }
          ],
          "scatter3d": [
           {
            "line": {
             "colorbar": {
              "outlinewidth": 0,
              "ticks": ""
             }
            },
            "marker": {
             "colorbar": {
              "outlinewidth": 0,
              "ticks": ""
             }
            },
            "type": "scatter3d"
           }
          ],
          "scattercarpet": [
           {
            "marker": {
             "colorbar": {
              "outlinewidth": 0,
              "ticks": ""
             }
            },
            "type": "scattercarpet"
           }
          ],
          "scattergeo": [
           {
            "marker": {
             "colorbar": {
              "outlinewidth": 0,
              "ticks": ""
             }
            },
            "type": "scattergeo"
           }
          ],
          "scattergl": [
           {
            "marker": {
             "colorbar": {
              "outlinewidth": 0,
              "ticks": ""
             }
            },
            "type": "scattergl"
           }
          ],
          "scattermapbox": [
           {
            "marker": {
             "colorbar": {
              "outlinewidth": 0,
              "ticks": ""
             }
            },
            "type": "scattermapbox"
           }
          ],
          "scatterpolar": [
           {
            "marker": {
             "colorbar": {
              "outlinewidth": 0,
              "ticks": ""
             }
            },
            "type": "scatterpolar"
           }
          ],
          "scatterpolargl": [
           {
            "marker": {
             "colorbar": {
              "outlinewidth": 0,
              "ticks": ""
             }
            },
            "type": "scatterpolargl"
           }
          ],
          "scatterternary": [
           {
            "marker": {
             "colorbar": {
              "outlinewidth": 0,
              "ticks": ""
             }
            },
            "type": "scatterternary"
           }
          ],
          "surface": [
           {
            "colorbar": {
             "outlinewidth": 0,
             "ticks": ""
            },
            "colorscale": [
             [
              0,
              "#0d0887"
             ],
             [
              0.1111111111111111,
              "#46039f"
             ],
             [
              0.2222222222222222,
              "#7201a8"
             ],
             [
              0.3333333333333333,
              "#9c179e"
             ],
             [
              0.4444444444444444,
              "#bd3786"
             ],
             [
              0.5555555555555556,
              "#d8576b"
             ],
             [
              0.6666666666666666,
              "#ed7953"
             ],
             [
              0.7777777777777778,
              "#fb9f3a"
             ],
             [
              0.8888888888888888,
              "#fdca26"
             ],
             [
              1,
              "#f0f921"
             ]
            ],
            "type": "surface"
           }
          ],
          "table": [
           {
            "cells": {
             "fill": {
              "color": "#EBF0F8"
             },
             "line": {
              "color": "white"
             }
            },
            "header": {
             "fill": {
              "color": "#C8D4E3"
             },
             "line": {
              "color": "white"
             }
            },
            "type": "table"
           }
          ]
         },
         "layout": {
          "annotationdefaults": {
           "arrowcolor": "#2a3f5f",
           "arrowhead": 0,
           "arrowwidth": 1
          },
          "autotypenumbers": "strict",
          "coloraxis": {
           "colorbar": {
            "outlinewidth": 0,
            "ticks": ""
           }
          },
          "colorscale": {
           "diverging": [
            [
             0,
             "#8e0152"
            ],
            [
             0.1,
             "#c51b7d"
            ],
            [
             0.2,
             "#de77ae"
            ],
            [
             0.3,
             "#f1b6da"
            ],
            [
             0.4,
             "#fde0ef"
            ],
            [
             0.5,
             "#f7f7f7"
            ],
            [
             0.6,
             "#e6f5d0"
            ],
            [
             0.7,
             "#b8e186"
            ],
            [
             0.8,
             "#7fbc41"
            ],
            [
             0.9,
             "#4d9221"
            ],
            [
             1,
             "#276419"
            ]
           ],
           "sequential": [
            [
             0,
             "#0d0887"
            ],
            [
             0.1111111111111111,
             "#46039f"
            ],
            [
             0.2222222222222222,
             "#7201a8"
            ],
            [
             0.3333333333333333,
             "#9c179e"
            ],
            [
             0.4444444444444444,
             "#bd3786"
            ],
            [
             0.5555555555555556,
             "#d8576b"
            ],
            [
             0.6666666666666666,
             "#ed7953"
            ],
            [
             0.7777777777777778,
             "#fb9f3a"
            ],
            [
             0.8888888888888888,
             "#fdca26"
            ],
            [
             1,
             "#f0f921"
            ]
           ],
           "sequentialminus": [
            [
             0,
             "#0d0887"
            ],
            [
             0.1111111111111111,
             "#46039f"
            ],
            [
             0.2222222222222222,
             "#7201a8"
            ],
            [
             0.3333333333333333,
             "#9c179e"
            ],
            [
             0.4444444444444444,
             "#bd3786"
            ],
            [
             0.5555555555555556,
             "#d8576b"
            ],
            [
             0.6666666666666666,
             "#ed7953"
            ],
            [
             0.7777777777777778,
             "#fb9f3a"
            ],
            [
             0.8888888888888888,
             "#fdca26"
            ],
            [
             1,
             "#f0f921"
            ]
           ]
          },
          "colorway": [
           "#636efa",
           "#EF553B",
           "#00cc96",
           "#ab63fa",
           "#FFA15A",
           "#19d3f3",
           "#FF6692",
           "#B6E880",
           "#FF97FF",
           "#FECB52"
          ],
          "font": {
           "color": "#2a3f5f"
          },
          "geo": {
           "bgcolor": "white",
           "lakecolor": "white",
           "landcolor": "#E5ECF6",
           "showlakes": true,
           "showland": true,
           "subunitcolor": "white"
          },
          "hoverlabel": {
           "align": "left"
          },
          "hovermode": "closest",
          "mapbox": {
           "style": "light"
          },
          "paper_bgcolor": "white",
          "plot_bgcolor": "#E5ECF6",
          "polar": {
           "angularaxis": {
            "gridcolor": "white",
            "linecolor": "white",
            "ticks": ""
           },
           "bgcolor": "#E5ECF6",
           "radialaxis": {
            "gridcolor": "white",
            "linecolor": "white",
            "ticks": ""
           }
          },
          "scene": {
           "xaxis": {
            "backgroundcolor": "#E5ECF6",
            "gridcolor": "white",
            "gridwidth": 2,
            "linecolor": "white",
            "showbackground": true,
            "ticks": "",
            "zerolinecolor": "white"
           },
           "yaxis": {
            "backgroundcolor": "#E5ECF6",
            "gridcolor": "white",
            "gridwidth": 2,
            "linecolor": "white",
            "showbackground": true,
            "ticks": "",
            "zerolinecolor": "white"
           },
           "zaxis": {
            "backgroundcolor": "#E5ECF6",
            "gridcolor": "white",
            "gridwidth": 2,
            "linecolor": "white",
            "showbackground": true,
            "ticks": "",
            "zerolinecolor": "white"
           }
          },
          "shapedefaults": {
           "line": {
            "color": "#2a3f5f"
           }
          },
          "ternary": {
           "aaxis": {
            "gridcolor": "white",
            "linecolor": "white",
            "ticks": ""
           },
           "baxis": {
            "gridcolor": "white",
            "linecolor": "white",
            "ticks": ""
           },
           "bgcolor": "#E5ECF6",
           "caxis": {
            "gridcolor": "white",
            "linecolor": "white",
            "ticks": ""
           }
          },
          "title": {
           "x": 0.05
          },
          "xaxis": {
           "automargin": true,
           "gridcolor": "white",
           "linecolor": "white",
           "ticks": "",
           "title": {
            "standoff": 15
           },
           "zerolinecolor": "white",
           "zerolinewidth": 2
          },
          "yaxis": {
           "automargin": true,
           "gridcolor": "white",
           "linecolor": "white",
           "ticks": "",
           "title": {
            "standoff": 15
           },
           "zerolinecolor": "white",
           "zerolinewidth": 2
          }
         }
        },
        "title": {
         "text": "activity files and protein families",
         "x": 0.5
        }
       }
      }
     },
     "metadata": {},
     "output_type": "display_data"
    }
   ],
   "source": [
    "df=pd.read_csv('/home/federica/LAB2/sorted_new.csv').head(10)\n",
    "create_table(df,'activity files and protein families')"
   ]
  }
 ],
 "metadata": {
  "kernelspec": {
   "display_name": "labenv",
   "language": "python",
   "name": "python3"
  },
  "language_info": {
   "codemirror_mode": {
    "name": "ipython",
    "version": 3
   },
   "file_extension": ".py",
   "mimetype": "text/x-python",
   "name": "python",
   "nbconvert_exporter": "python",
   "pygments_lexer": "ipython3",
   "version": "3.10.12"
  }
 },
 "nbformat": 4,
 "nbformat_minor": 2
}
