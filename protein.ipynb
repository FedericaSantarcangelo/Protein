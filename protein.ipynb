{
 "cells": [
  {
   "cell_type": "markdown",
   "metadata": {},
   "source": [
    "# PROTEIN CLASSIFICATION ANALYSIS"
   ]
  },
  {
   "cell_type": "markdown",
   "metadata": {},
   "source": [
    "In this notebook, the ChEMBL database schema is analyzed in order to obtain the classification into protein families of the targets.\n",
    "We will focus on the **SINGLE PROTEIN** targets."
   ]
  },
  {
   "cell_type": "code",
   "execution_count": 1,
   "metadata": {},
   "outputs": [],
   "source": [
    "import pandas as pd\n",
    "import numpy as np\n",
    "import matplotlib.pyplot as plt\n",
    "import seaborn as sns\n",
    "import os\n",
    "import plotly.express as px\n",
    "import json\n",
    "import ipywidgets as widgets\n",
    "from IPython.display import display\n",
    "import plotly.graph_objects as go\n",
    "import matplotlib.colors as mcolors\n",
    "import re\n",
    "\n",
    "%matplotlib inline"
   ]
  },
  {
   "cell_type": "code",
   "execution_count": 3,
   "metadata": {},
   "outputs": [],
   "source": [
    "target_classes = {\n",
    "    'cytochrome p450': 'Cytochrome P450',\n",
    "    'ion channel': 'Ion Channel',\n",
    "    'g protein-coupled': 'G Protein-Coupled',\n",
    "    'kinase': 'Kinase',\n",
    "    'toll-like': 'Toll-Like',\n",
    "    'protease': 'Protease',\n",
    "    'nuclear receptor': 'Nuclear Receptor',\n",
    "    'methyltransferase': 'Methyltransferase',\n",
    "    'demethylase': 'Demethylase',\n",
    "    'histone deacetylase': 'Histone Deacetylase',\n",
    "    'histone acetyltransferase': 'Histone Acetyltransferase',\n",
    "    'bromodomain': 'Bromodomain',\n",
    "    'protein tau': 'Protein Tau',\n",
    "    'heat shock': 'Heat Shock',\n",
    "    'epigenetic regulator': 'Epigenetic Regulator',\n",
    "    'voltage-gated': 'Voltage-gated'\n",
    "}\n",
    "\n",
    "regex_pattern = r'\\d+tm\\d+'\n",
    "\n",
    "df = pd.read_csv('/home/federica/LAB2/protein_id.csv')"
   ]
  },
  {
   "cell_type": "markdown",
   "metadata": {},
   "source": [
    "## File saving "
   ]
  },
  {
   "cell_type": "markdown",
   "metadata": {},
   "source": [
    "Two separate files are generated the first **'protein_class_with'** containing only the targets belonging to the selected protein families. The second **'protein_class_without'** with all other families found in ChEMBL."
   ]
  },
  {
   "cell_type": "code",
   "execution_count": 12,
   "metadata": {},
   "outputs": [],
   "source": [
    "def assign_family(row, target_classes, regex_pattern):\n",
    "\n",
    "    prot_class_name = str(row['pc_pref_name']).lower() if 'pc_pref_name' in row else ''\n",
    "    pref_name = str(row['td_pref_name']).lower() if 'td_pref_name' in row else ''\n",
    "    protein_class_description = str(row['protein_class_desc']).lower() if 'protein_class_desc' in row else ''\n",
    "    \n",
    "    combined_text = ' '.join([prot_class_name, pref_name, protein_class_description])\n",
    "\n",
    "    for target_class in target_classes:\n",
    "        if re.search(r'\\b' + re.escape(target_class.lower()) + r'\\b', combined_text):\n",
    "            return target_class\n",
    "    \n",
    "    if re.search(regex_pattern, combined_text):\n",
    "        return 'g protein-coupled'\n",
    "\n",
    "    return None  \n",
    "\n",
    "df['family'] = df.apply(lambda row: assign_family(row, target_classes, regex_pattern), axis=1)\n",
    "df['type_activity'] = df['protein_class_desc'].apply(lambda x: 'writer' if 'writer' in x \n",
    "                                                            else 'eraser' if 'eraser' in x \n",
    "                                                            else 'reader' if 'reader' in x\n",
    "                                                            else 'other')\n",
    "df_filtered = df[df['family'].notna()].copy()  \n",
    "df_filtered.loc[df_filtered['family'] == 'voltage-gated', 'family'] = 'ion channel' \n",
    "df_sorted = df_filtered.sort_values(by=['family', 'type_activity', 'protein_class_desc', 'td_pref_name'], ascending=[True, True, True, True])\n",
    "df_sorted['ids'] = df_sorted[['tid', 'component_id', 'protein_class_id', 'parent_id']].astype(str).agg(';'.join, axis=1)\n",
    "df_sorted = df_sorted.drop(['tid', 'component_id', 'protein_class_id', 'parent_id'], axis=1)\n",
    "columns_order = ['family', 'chembl_id','accession','ids','pc_pref_name', 'td_pref_name','protein_class_desc', 'short_name']\n",
    "df_final = df_sorted[columns_order]\n",
    "df_final.to_csv('/home/federica/LAB2/family_protein_with.csv', index=False)\n"
   ]
  },
  {
   "cell_type": "code",
   "execution_count": 10,
   "metadata": {},
   "outputs": [],
   "source": [
    "df_cleaned = df[~df['chembl_id'].isin(df_filtered['chembl_id'])].copy()\n",
    "df_cleaned=df_cleaned[['chembl_id','accession','tid','component_id','protein_class_id','parent_id',\n",
    "                  'pc_pref_name', 'td_pref_name','protein_class_desc', 'short_name']]\n",
    "df_cleaned.sort_values(by='protein_class_desc', ascending=True, inplace=True)\n",
    "df_cleaned.to_csv('/home/federica/LAB2/family_protein_without.csv', index=False)"
   ]
  },
  {
   "cell_type": "markdown",
   "metadata": {},
   "source": [
    "## Creating statistics for classification into protein families"
   ]
  },
  {
   "cell_type": "markdown",
   "metadata": {},
   "source": [
    "Once the mutations are studied and the data are divided according to quality, statistical analyses are performed regarding the membership of molecules in protein families."
   ]
  },
  {
   "cell_type": "code",
   "execution_count": 13,
   "metadata": {},
   "outputs": [],
   "source": [
    "def load_and_concat(folder_path):\n",
    "\n",
    "    dataframes = []\n",
    "\n",
    "    for filename in os.listdir(folder_path):\n",
    "        if filename.endswith('.csv'):\n",
    "            file_path = os.path.join(folder_path, filename)\n",
    "            df = pd.read_csv(file_path)\n",
    "            dataframes.append(df)\n",
    "\n",
    "    combined_df = pd.concat(dataframes, ignore_index=True)\n",
    "    return combined_df"
   ]
  },
  {
   "cell_type": "code",
   "execution_count": 14,
   "metadata": {},
   "outputs": [],
   "source": [
    "#wild type files\n",
    "wild_type_1 = '/home/federica/LAB2/data_202410161138_protein/wild_type/wild_type_1'\n",
    "wild_type_2 = '/home/federica/LAB2/data_202410161138_protein/wild_type/wild_type_2'\n",
    "wild_type_3 = '/home/federica/LAB2/data_202410161138_protein/wild_type/wild_type_3'\n",
    "\n",
    "#mutantion target files\n",
    "mutation_target_1 = '/home/federica/LAB2/data_202410161138_protein/mutation_target/mutation_target_1'\n",
    "mutation_target_2 = '/home/federica/LAB2/data_202410161138_protein/mutation_target/mutation_target_2'\n",
    "mutation_target_3 = '/home/federica/LAB2/data_202410161138_protein/mutation_target/mutation_target_3'\n",
    "\n",
    "#mixed files\n",
    "mixed_1 = '/home/federica/LAB2/data_202410161138_protein/mixed/mixed_1'\n",
    "mixed_2 = '/home/federica/LAB2/data_202410161138_protein/mixed/mixed_2'\n",
    "mixed_3 = '/home/federica/LAB2/data_202410161138_protein/mixed/mixed_3'"
   ]
  },
  {
   "cell_type": "code",
   "execution_count": 15,
   "metadata": {},
   "outputs": [],
   "source": [
    "wild_type_1 = load_and_concat(wild_type_1)\n",
    "wild_type_2 = load_and_concat(wild_type_2)\n",
    "wild_type_3 = load_and_concat(wild_type_3)\n",
    "\n",
    "mutation_target_1 = load_and_concat(mutation_target_1)\n",
    "mutation_target_2 = load_and_concat(mutation_target_2)\n",
    "mutation_target_3 = load_and_concat(mutation_target_3)\n",
    "\n",
    "mixed_1 = load_and_concat(mixed_1)\n",
    "mixed_2 = load_and_concat(mixed_2)\n",
    "mixed_3 = load_and_concat(mixed_3)\n"
   ]
  },
  {
   "cell_type": "code",
   "execution_count": 18,
   "metadata": {},
   "outputs": [],
   "source": [
    "def calculate_protein_stats(df, target_classes, molecule_column='Molecule ChEMBL ID'):\n",
    "    rows = []\n",
    "    for protein_class in target_classes:\n",
    "        class_df = df[\n",
    "            (df['pref_name'].str.contains(protein_class, case=False, na=False)) |\n",
    "            (df['protein_class_name'].str.contains(protein_class, case=False, na=False)) |\n",
    "            (df['protein_class_description'].str.contains(protein_class, case=False, na=False))\n",
    "        ]\n",
    "\n",
    "        if not class_df.empty:\n",
    "            \n",
    "            class_count = class_df.shape[0]\n",
    "            target_count = class_df['Target ChEMBL ID'].nunique()\n",
    "            \n",
    "            if molecule_column in class_df.columns:\n",
    "                molecule_count = class_df[molecule_column].nunique()\n",
    "            else:\n",
    "                molecule_count = None\n",
    "            \n",
    "            class_targets = class_df['Target ChEMBL ID'].unique().tolist()\n",
    "            \n",
    "            rows.append({\n",
    "                'protein_class_name': protein_class,\n",
    "                'count': class_count,\n",
    "                'target_count': target_count,\n",
    "                'molecule_count': molecule_count,\n",
    "                'targets': class_targets\n",
    "            })\n",
    "    \n",
    "    stats_df = pd.DataFrame(rows)\n",
    "    \n",
    "    return stats_df"
   ]
  },
  {
   "cell_type": "code",
   "execution_count": 19,
   "metadata": {},
   "outputs": [],
   "source": [
    "\n",
    "wild_type_1_stats = calculate_protein_stats(wild_type_1, target_classes)\n",
    "wild_type_2_stats = calculate_protein_stats(wild_type_2, target_classes)\n",
    "wild_type_3_stats = calculate_protein_stats(wild_type_3, target_classes)\n",
    "\n",
    "mutation_target_1_stats = calculate_protein_stats(mutation_target_1, target_classes)\n",
    "mutation_target_2_stats = calculate_protein_stats(mutation_target_2, target_classes)\n",
    "mutation_target_3_stats = calculate_protein_stats(mutation_target_3, target_classes)\n",
    "\n",
    "mixed_1_stats = calculate_protein_stats(mixed_1, target_classes)\n",
    "mixed_2_stats = calculate_protein_stats(mixed_2, target_classes)\n",
    "mixed_3_stats = calculate_protein_stats(mixed_3, target_classes)\n"
   ]
  },
  {
   "cell_type": "code",
   "execution_count": 20,
   "metadata": {},
   "outputs": [],
   "source": [
    "def create_interactive_table(df, title=\"Interactive Table\"):\n",
    "    fig = go.Figure(data=[go.Table(\n",
    "        header=dict(values=list(df[['Group', 'protein_class_name', 'target_count', 'molecule_count']].columns),\n",
    "                    fill_color='paleturquoise',\n",
    "                    align='left'),\n",
    "        cells=dict(values=[df[col] for col in df.columns if col != 'targets'and col != 'count'],\n",
    "                   fill_color='lavender',\n",
    "                   align='left'))\n",
    "    ])\n",
    "\n",
    "    fig.update_layout(\n",
    "        title=title,\n",
    "        title_x=0.5\n",
    "    )\n",
    "\n",
    "    fig.show()"
   ]
  },
  {
   "cell_type": "code",
   "execution_count": 21,
   "metadata": {},
   "outputs": [],
   "source": [
    "wild_type_1_stats['Group'] = 'Wild Type 1'\n",
    "wild_type_2_stats['Group'] = 'Wild Type 2'\n",
    "wild_type_3_stats['Group'] = 'Wild Type 3'\n",
    "\n",
    "mutation_target_1_stats['Group'] = 'Mutation Target 1'\n",
    "mutation_target_2_stats['Group'] = 'Mutation Target 2'\n",
    "mutation_target_3_stats['Group'] = 'Mutation Target 3'\n",
    "\n",
    "mixed_1_stats['Group'] = 'Mixed 1'\n",
    "mixed_2_stats['Group'] = 'Mixed 2'\n",
    "mixed_3_stats['Group'] = 'Mixed 3'\n",
    "\n",
    "combined_df = pd.concat([\n",
    "    wild_type_1_stats, wild_type_2_stats, wild_type_3_stats,\n",
    "    mutation_target_1_stats, mutation_target_2_stats, mutation_target_3_stats,\n",
    "    mixed_1_stats, mixed_2_stats, mixed_3_stats\n",
    "], ignore_index=True)\n",
    "\n",
    "cols = ['Group'] + [col for col in combined_df.columns if col != 'Group']\n",
    "combined_df = combined_df[cols]\n",
    "\n",
    "combined_df['Group'] = combined_df['Group'].where(combined_df['Group'].ne(combined_df['Group'].shift()),\"\")"
   ]
  },
  {
   "cell_type": "code",
   "execution_count": 22,
   "metadata": {},
   "outputs": [
    {
     "data": {
      "application/vnd.plotly.v1+json": {
       "config": {
        "plotlyServerURL": "https://plot.ly"
       },
       "data": [
        {
         "cells": {
          "align": "left",
          "fill": {
           "color": "lavender"
          },
          "values": [
           [
            "Wild Type 1",
            "",
            "",
            "",
            "",
            "",
            "",
            "",
            "Wild Type 2",
            "",
            "",
            "",
            "",
            "",
            "Wild Type 3",
            "",
            "",
            "",
            "",
            "",
            "",
            "",
            "",
            "Mutation Target 1",
            "",
            "",
            "",
            "",
            "",
            "",
            "",
            "",
            "",
            "",
            "Mutation Target 2",
            "",
            "",
            "",
            "",
            "",
            "",
            "",
            "",
            "",
            "",
            "",
            "",
            "Mutation Target 3",
            "",
            "",
            "",
            "",
            "",
            "",
            "",
            "",
            "",
            "",
            "",
            "",
            "Mixed 1",
            "",
            "",
            "",
            "",
            "",
            "",
            "",
            "",
            "",
            "",
            "",
            "",
            "",
            "",
            "",
            "Mixed 2",
            "",
            "",
            "",
            "",
            "",
            "",
            "",
            "",
            "",
            "",
            "",
            "",
            "",
            "",
            "",
            "Mixed 3",
            "",
            "",
            "",
            "",
            "",
            "",
            "",
            "",
            "",
            "",
            "",
            "",
            "",
            "",
            ""
           ],
           [
            "ion channel",
            "kinase",
            "protease",
            "nuclear receptor",
            "methyltransferase",
            "histone deacetylase",
            "bromodomain",
            "epigenetic regulator",
            "kinase",
            "protease",
            "nuclear receptor",
            "methyltransferase",
            "histone deacetylase",
            "epigenetic regulator",
            "cytochrome p450",
            "ion channel",
            "kinase",
            "protease",
            "nuclear receptor",
            "methyltransferase",
            "demethylase",
            "epigenetic regulator",
            "voltage-gated",
            "ion channel",
            "kinase",
            "protease",
            "nuclear receptor",
            "methyltransferase",
            "demethylase",
            "histone deacetylase",
            "bromodomain",
            "heat shock",
            "epigenetic regulator",
            "voltage-gated",
            "cytochrome p450",
            "ion channel",
            "kinase",
            "protease",
            "nuclear receptor",
            "methyltransferase",
            "demethylase",
            "histone deacetylase",
            "histone acetyltransferase",
            "bromodomain",
            "heat shock",
            "epigenetic regulator",
            "voltage-gated",
            "cytochrome p450",
            "ion channel",
            "g protein-coupled",
            "kinase",
            "protease",
            "nuclear receptor",
            "methyltransferase",
            "demethylase",
            "histone deacetylase",
            "histone acetyltransferase",
            "bromodomain",
            "epigenetic regulator",
            "voltage-gated",
            "cytochrome p450",
            "ion channel",
            "g protein-coupled",
            "kinase",
            "toll-like",
            "protease",
            "nuclear receptor",
            "methyltransferase",
            "demethylase",
            "histone deacetylase",
            "histone acetyltransferase",
            "bromodomain",
            "protein tau",
            "heat shock",
            "epigenetic regulator",
            "voltage-gated",
            "cytochrome p450",
            "ion channel",
            "g protein-coupled",
            "kinase",
            "toll-like",
            "protease",
            "nuclear receptor",
            "methyltransferase",
            "demethylase",
            "histone deacetylase",
            "histone acetyltransferase",
            "bromodomain",
            "protein tau",
            "heat shock",
            "epigenetic regulator",
            "voltage-gated",
            "cytochrome p450",
            "ion channel",
            "g protein-coupled",
            "kinase",
            "toll-like",
            "protease",
            "nuclear receptor",
            "methyltransferase",
            "demethylase",
            "histone deacetylase",
            "histone acetyltransferase",
            "bromodomain",
            "protein tau",
            "heat shock",
            "epigenetic regulator",
            "voltage-gated"
           ],
           [
            2,
            51,
            2,
            2,
            2,
            1,
            1,
            3,
            43,
            1,
            5,
            3,
            1,
            5,
            1,
            8,
            30,
            1,
            4,
            2,
            2,
            4,
            2,
            5,
            74,
            11,
            5,
            3,
            5,
            2,
            12,
            1,
            28,
            1,
            3,
            5,
            106,
            10,
            8,
            4,
            5,
            3,
            1,
            6,
            1,
            25,
            1,
            5,
            15,
            1,
            57,
            10,
            9,
            4,
            1,
            2,
            1,
            2,
            10,
            3,
            22,
            118,
            11,
            497,
            5,
            191,
            40,
            49,
            22,
            11,
            9,
            24,
            1,
            8,
            124,
            35,
            25,
            84,
            6,
            469,
            4,
            168,
            32,
            44,
            18,
            11,
            6,
            23,
            1,
            7,
            113,
            28,
            28,
            129,
            32,
            408,
            8,
            134,
            41,
            31,
            18,
            11,
            7,
            21,
            1,
            7,
            98,
            36
           ],
           [
            10,
            1817,
            21,
            39,
            98,
            1,
            21,
            105,
            568,
            1,
            30,
            50,
            24,
            41,
            2,
            97,
            798,
            341,
            155,
            37,
            1,
            38,
            36,
            50,
            6092,
            520,
            29,
            140,
            90,
            57,
            596,
            1,
            927,
            1,
            29,
            14,
            4258,
            128,
            663,
            574,
            72,
            24,
            1,
            420,
            1,
            1110,
            4,
            149,
            677,
            140,
            3639,
            727,
            1252,
            50,
            3,
            6,
            13,
            29,
            101,
            12,
            1882,
            14854,
            650,
            82737,
            104,
            35410,
            10583,
            3205,
            1703,
            5488,
            489,
            2574,
            49203,
            1894,
            14016,
            8275,
            3263,
            5800,
            981,
            50836,
            191,
            30141,
            4770,
            1164,
            1068,
            1762,
            189,
            1954,
            192,
            354,
            6931,
            2446,
            2718,
            26220,
            5645,
            30147,
            1564,
            12961,
            15895,
            1599,
            1012,
            2468,
            343,
            1259,
            33,
            406,
            6341,
            13048
           ]
          ]
         },
         "header": {
          "align": "left",
          "fill": {
           "color": "paleturquoise"
          },
          "values": [
           "Group",
           "protein_class_name",
           "target_count",
           "molecule_count"
          ]
         },
         "type": "table"
        }
       ],
       "layout": {
        "template": {
         "data": {
          "bar": [
           {
            "error_x": {
             "color": "#2a3f5f"
            },
            "error_y": {
             "color": "#2a3f5f"
            },
            "marker": {
             "line": {
              "color": "#E5ECF6",
              "width": 0.5
             },
             "pattern": {
              "fillmode": "overlay",
              "size": 10,
              "solidity": 0.2
             }
            },
            "type": "bar"
           }
          ],
          "barpolar": [
           {
            "marker": {
             "line": {
              "color": "#E5ECF6",
              "width": 0.5
             },
             "pattern": {
              "fillmode": "overlay",
              "size": 10,
              "solidity": 0.2
             }
            },
            "type": "barpolar"
           }
          ],
          "carpet": [
           {
            "aaxis": {
             "endlinecolor": "#2a3f5f",
             "gridcolor": "white",
             "linecolor": "white",
             "minorgridcolor": "white",
             "startlinecolor": "#2a3f5f"
            },
            "baxis": {
             "endlinecolor": "#2a3f5f",
             "gridcolor": "white",
             "linecolor": "white",
             "minorgridcolor": "white",
             "startlinecolor": "#2a3f5f"
            },
            "type": "carpet"
           }
          ],
          "choropleth": [
           {
            "colorbar": {
             "outlinewidth": 0,
             "ticks": ""
            },
            "type": "choropleth"
           }
          ],
          "contour": [
           {
            "colorbar": {
             "outlinewidth": 0,
             "ticks": ""
            },
            "colorscale": [
             [
              0,
              "#0d0887"
             ],
             [
              0.1111111111111111,
              "#46039f"
             ],
             [
              0.2222222222222222,
              "#7201a8"
             ],
             [
              0.3333333333333333,
              "#9c179e"
             ],
             [
              0.4444444444444444,
              "#bd3786"
             ],
             [
              0.5555555555555556,
              "#d8576b"
             ],
             [
              0.6666666666666666,
              "#ed7953"
             ],
             [
              0.7777777777777778,
              "#fb9f3a"
             ],
             [
              0.8888888888888888,
              "#fdca26"
             ],
             [
              1,
              "#f0f921"
             ]
            ],
            "type": "contour"
           }
          ],
          "contourcarpet": [
           {
            "colorbar": {
             "outlinewidth": 0,
             "ticks": ""
            },
            "type": "contourcarpet"
           }
          ],
          "heatmap": [
           {
            "colorbar": {
             "outlinewidth": 0,
             "ticks": ""
            },
            "colorscale": [
             [
              0,
              "#0d0887"
             ],
             [
              0.1111111111111111,
              "#46039f"
             ],
             [
              0.2222222222222222,
              "#7201a8"
             ],
             [
              0.3333333333333333,
              "#9c179e"
             ],
             [
              0.4444444444444444,
              "#bd3786"
             ],
             [
              0.5555555555555556,
              "#d8576b"
             ],
             [
              0.6666666666666666,
              "#ed7953"
             ],
             [
              0.7777777777777778,
              "#fb9f3a"
             ],
             [
              0.8888888888888888,
              "#fdca26"
             ],
             [
              1,
              "#f0f921"
             ]
            ],
            "type": "heatmap"
           }
          ],
          "heatmapgl": [
           {
            "colorbar": {
             "outlinewidth": 0,
             "ticks": ""
            },
            "colorscale": [
             [
              0,
              "#0d0887"
             ],
             [
              0.1111111111111111,
              "#46039f"
             ],
             [
              0.2222222222222222,
              "#7201a8"
             ],
             [
              0.3333333333333333,
              "#9c179e"
             ],
             [
              0.4444444444444444,
              "#bd3786"
             ],
             [
              0.5555555555555556,
              "#d8576b"
             ],
             [
              0.6666666666666666,
              "#ed7953"
             ],
             [
              0.7777777777777778,
              "#fb9f3a"
             ],
             [
              0.8888888888888888,
              "#fdca26"
             ],
             [
              1,
              "#f0f921"
             ]
            ],
            "type": "heatmapgl"
           }
          ],
          "histogram": [
           {
            "marker": {
             "pattern": {
              "fillmode": "overlay",
              "size": 10,
              "solidity": 0.2
             }
            },
            "type": "histogram"
           }
          ],
          "histogram2d": [
           {
            "colorbar": {
             "outlinewidth": 0,
             "ticks": ""
            },
            "colorscale": [
             [
              0,
              "#0d0887"
             ],
             [
              0.1111111111111111,
              "#46039f"
             ],
             [
              0.2222222222222222,
              "#7201a8"
             ],
             [
              0.3333333333333333,
              "#9c179e"
             ],
             [
              0.4444444444444444,
              "#bd3786"
             ],
             [
              0.5555555555555556,
              "#d8576b"
             ],
             [
              0.6666666666666666,
              "#ed7953"
             ],
             [
              0.7777777777777778,
              "#fb9f3a"
             ],
             [
              0.8888888888888888,
              "#fdca26"
             ],
             [
              1,
              "#f0f921"
             ]
            ],
            "type": "histogram2d"
           }
          ],
          "histogram2dcontour": [
           {
            "colorbar": {
             "outlinewidth": 0,
             "ticks": ""
            },
            "colorscale": [
             [
              0,
              "#0d0887"
             ],
             [
              0.1111111111111111,
              "#46039f"
             ],
             [
              0.2222222222222222,
              "#7201a8"
             ],
             [
              0.3333333333333333,
              "#9c179e"
             ],
             [
              0.4444444444444444,
              "#bd3786"
             ],
             [
              0.5555555555555556,
              "#d8576b"
             ],
             [
              0.6666666666666666,
              "#ed7953"
             ],
             [
              0.7777777777777778,
              "#fb9f3a"
             ],
             [
              0.8888888888888888,
              "#fdca26"
             ],
             [
              1,
              "#f0f921"
             ]
            ],
            "type": "histogram2dcontour"
           }
          ],
          "mesh3d": [
           {
            "colorbar": {
             "outlinewidth": 0,
             "ticks": ""
            },
            "type": "mesh3d"
           }
          ],
          "parcoords": [
           {
            "line": {
             "colorbar": {
              "outlinewidth": 0,
              "ticks": ""
             }
            },
            "type": "parcoords"
           }
          ],
          "pie": [
           {
            "automargin": true,
            "type": "pie"
           }
          ],
          "scatter": [
           {
            "fillpattern": {
             "fillmode": "overlay",
             "size": 10,
             "solidity": 0.2
            },
            "type": "scatter"
           }
          ],
          "scatter3d": [
           {
            "line": {
             "colorbar": {
              "outlinewidth": 0,
              "ticks": ""
             }
            },
            "marker": {
             "colorbar": {
              "outlinewidth": 0,
              "ticks": ""
             }
            },
            "type": "scatter3d"
           }
          ],
          "scattercarpet": [
           {
            "marker": {
             "colorbar": {
              "outlinewidth": 0,
              "ticks": ""
             }
            },
            "type": "scattercarpet"
           }
          ],
          "scattergeo": [
           {
            "marker": {
             "colorbar": {
              "outlinewidth": 0,
              "ticks": ""
             }
            },
            "type": "scattergeo"
           }
          ],
          "scattergl": [
           {
            "marker": {
             "colorbar": {
              "outlinewidth": 0,
              "ticks": ""
             }
            },
            "type": "scattergl"
           }
          ],
          "scattermapbox": [
           {
            "marker": {
             "colorbar": {
              "outlinewidth": 0,
              "ticks": ""
             }
            },
            "type": "scattermapbox"
           }
          ],
          "scatterpolar": [
           {
            "marker": {
             "colorbar": {
              "outlinewidth": 0,
              "ticks": ""
             }
            },
            "type": "scatterpolar"
           }
          ],
          "scatterpolargl": [
           {
            "marker": {
             "colorbar": {
              "outlinewidth": 0,
              "ticks": ""
             }
            },
            "type": "scatterpolargl"
           }
          ],
          "scatterternary": [
           {
            "marker": {
             "colorbar": {
              "outlinewidth": 0,
              "ticks": ""
             }
            },
            "type": "scatterternary"
           }
          ],
          "surface": [
           {
            "colorbar": {
             "outlinewidth": 0,
             "ticks": ""
            },
            "colorscale": [
             [
              0,
              "#0d0887"
             ],
             [
              0.1111111111111111,
              "#46039f"
             ],
             [
              0.2222222222222222,
              "#7201a8"
             ],
             [
              0.3333333333333333,
              "#9c179e"
             ],
             [
              0.4444444444444444,
              "#bd3786"
             ],
             [
              0.5555555555555556,
              "#d8576b"
             ],
             [
              0.6666666666666666,
              "#ed7953"
             ],
             [
              0.7777777777777778,
              "#fb9f3a"
             ],
             [
              0.8888888888888888,
              "#fdca26"
             ],
             [
              1,
              "#f0f921"
             ]
            ],
            "type": "surface"
           }
          ],
          "table": [
           {
            "cells": {
             "fill": {
              "color": "#EBF0F8"
             },
             "line": {
              "color": "white"
             }
            },
            "header": {
             "fill": {
              "color": "#C8D4E3"
             },
             "line": {
              "color": "white"
             }
            },
            "type": "table"
           }
          ]
         },
         "layout": {
          "annotationdefaults": {
           "arrowcolor": "#2a3f5f",
           "arrowhead": 0,
           "arrowwidth": 1
          },
          "autotypenumbers": "strict",
          "coloraxis": {
           "colorbar": {
            "outlinewidth": 0,
            "ticks": ""
           }
          },
          "colorscale": {
           "diverging": [
            [
             0,
             "#8e0152"
            ],
            [
             0.1,
             "#c51b7d"
            ],
            [
             0.2,
             "#de77ae"
            ],
            [
             0.3,
             "#f1b6da"
            ],
            [
             0.4,
             "#fde0ef"
            ],
            [
             0.5,
             "#f7f7f7"
            ],
            [
             0.6,
             "#e6f5d0"
            ],
            [
             0.7,
             "#b8e186"
            ],
            [
             0.8,
             "#7fbc41"
            ],
            [
             0.9,
             "#4d9221"
            ],
            [
             1,
             "#276419"
            ]
           ],
           "sequential": [
            [
             0,
             "#0d0887"
            ],
            [
             0.1111111111111111,
             "#46039f"
            ],
            [
             0.2222222222222222,
             "#7201a8"
            ],
            [
             0.3333333333333333,
             "#9c179e"
            ],
            [
             0.4444444444444444,
             "#bd3786"
            ],
            [
             0.5555555555555556,
             "#d8576b"
            ],
            [
             0.6666666666666666,
             "#ed7953"
            ],
            [
             0.7777777777777778,
             "#fb9f3a"
            ],
            [
             0.8888888888888888,
             "#fdca26"
            ],
            [
             1,
             "#f0f921"
            ]
           ],
           "sequentialminus": [
            [
             0,
             "#0d0887"
            ],
            [
             0.1111111111111111,
             "#46039f"
            ],
            [
             0.2222222222222222,
             "#7201a8"
            ],
            [
             0.3333333333333333,
             "#9c179e"
            ],
            [
             0.4444444444444444,
             "#bd3786"
            ],
            [
             0.5555555555555556,
             "#d8576b"
            ],
            [
             0.6666666666666666,
             "#ed7953"
            ],
            [
             0.7777777777777778,
             "#fb9f3a"
            ],
            [
             0.8888888888888888,
             "#fdca26"
            ],
            [
             1,
             "#f0f921"
            ]
           ]
          },
          "colorway": [
           "#636efa",
           "#EF553B",
           "#00cc96",
           "#ab63fa",
           "#FFA15A",
           "#19d3f3",
           "#FF6692",
           "#B6E880",
           "#FF97FF",
           "#FECB52"
          ],
          "font": {
           "color": "#2a3f5f"
          },
          "geo": {
           "bgcolor": "white",
           "lakecolor": "white",
           "landcolor": "#E5ECF6",
           "showlakes": true,
           "showland": true,
           "subunitcolor": "white"
          },
          "hoverlabel": {
           "align": "left"
          },
          "hovermode": "closest",
          "mapbox": {
           "style": "light"
          },
          "paper_bgcolor": "white",
          "plot_bgcolor": "#E5ECF6",
          "polar": {
           "angularaxis": {
            "gridcolor": "white",
            "linecolor": "white",
            "ticks": ""
           },
           "bgcolor": "#E5ECF6",
           "radialaxis": {
            "gridcolor": "white",
            "linecolor": "white",
            "ticks": ""
           }
          },
          "scene": {
           "xaxis": {
            "backgroundcolor": "#E5ECF6",
            "gridcolor": "white",
            "gridwidth": 2,
            "linecolor": "white",
            "showbackground": true,
            "ticks": "",
            "zerolinecolor": "white"
           },
           "yaxis": {
            "backgroundcolor": "#E5ECF6",
            "gridcolor": "white",
            "gridwidth": 2,
            "linecolor": "white",
            "showbackground": true,
            "ticks": "",
            "zerolinecolor": "white"
           },
           "zaxis": {
            "backgroundcolor": "#E5ECF6",
            "gridcolor": "white",
            "gridwidth": 2,
            "linecolor": "white",
            "showbackground": true,
            "ticks": "",
            "zerolinecolor": "white"
           }
          },
          "shapedefaults": {
           "line": {
            "color": "#2a3f5f"
           }
          },
          "ternary": {
           "aaxis": {
            "gridcolor": "white",
            "linecolor": "white",
            "ticks": ""
           },
           "baxis": {
            "gridcolor": "white",
            "linecolor": "white",
            "ticks": ""
           },
           "bgcolor": "#E5ECF6",
           "caxis": {
            "gridcolor": "white",
            "linecolor": "white",
            "ticks": ""
           }
          },
          "title": {
           "x": 0.05
          },
          "xaxis": {
           "automargin": true,
           "gridcolor": "white",
           "linecolor": "white",
           "ticks": "",
           "title": {
            "standoff": 15
           },
           "zerolinecolor": "white",
           "zerolinewidth": 2
          },
          "yaxis": {
           "automargin": true,
           "gridcolor": "white",
           "linecolor": "white",
           "ticks": "",
           "title": {
            "standoff": 15
           },
           "zerolinecolor": "white",
           "zerolinewidth": 2
          }
         }
        },
        "title": {
         "text": "Combined Protein Class Statistics",
         "x": 0.5
        }
       }
      }
     },
     "metadata": {},
     "output_type": "display_data"
    }
   ],
   "source": [
    "create_interactive_table(combined_df, title=\"Combined Protein Class Statistics\")"
   ]
  },
  {
   "cell_type": "markdown",
   "metadata": {},
   "source": [
    "## Table with activity data and mutation information"
   ]
  },
  {
   "cell_type": "code",
   "execution_count": 16,
   "metadata": {},
   "outputs": [],
   "source": [
    "protein = pd.read_csv('/home/federica/LAB2/protein_class.csv')\n",
    "whole_data = pd.read_csv('/home/federica/LAB2/data_202410251558/filtered/whole_dataset_out.csv')"
   ]
  },
  {
   "cell_type": "code",
   "execution_count": 17,
   "metadata": {},
   "outputs": [],
   "source": [
    "merged_data = pd.merge(\n",
    "    protein[['protein_class_name','protein_class_description', 'pref_name', 'chembl_id']],\n",
    "    whole_data[['Molecule ChEMBL ID', 'Target ChEMBL ID', 'mutant', 'Quality', 'Class']],\n",
    "    left_on='chembl_id',\n",
    "    right_on='Target ChEMBL ID',\n",
    "    how='left'\n",
    ")\n",
    "\n",
    "merged_data = merged_data.dropna(subset=['Target ChEMBL ID'])"
   ]
  },
  {
   "cell_type": "code",
   "execution_count": null,
   "metadata": {},
   "outputs": [],
   "source": [
    "merged_data.columns"
   ]
  },
  {
   "cell_type": "code",
   "execution_count": 19,
   "metadata": {},
   "outputs": [],
   "source": [
    "new_dataframe = pd.DataFrame(columns=[\n",
    "    'Protein class description', 'Target ChEMBL ID', 'Protein class name', 'Preferred target name',\n",
    "    'Mutation', 'Inactive', 'Active', 'Mod active', \n",
    "    'First quality inactive', 'Second quality inactive', 'Third quality inactive',\n",
    "    'First quality active', 'Second quality active', 'Third quality active',\n",
    "    'First quality mod active', 'Second quality mod active', 'Third quality mod active'\n",
    "])"
   ]
  },
  {
   "cell_type": "code",
   "execution_count": 20,
   "metadata": {},
   "outputs": [],
   "source": [
    "import math\n",
    "def generate_statistics_with_splitting(merged_data):\n",
    "    results = []\n",
    "    for (target_id, mutant), group in merged_data.groupby(['Target ChEMBL ID', 'mutant']):\n",
    "        entry_template = {\n",
    "            'Protein class description': group['protein_class_description'].iloc[0],\n",
    "            'Target ChEMBL ID': target_id,\n",
    "            'Protein class name': group['protein_class_name'].iloc[0],\n",
    "            'Preferred target name': group['pref_name'].iloc[0],\n",
    "            'Inactive': 0, 'Active': 0, 'Mod active': 0,\n",
    "            'First quality inactive': 0, 'Second quality inactive': 0, 'Third quality inactive': 0,\n",
    "            'First quality active': 0, 'Second quality active': 0, 'Third quality active': 0,\n",
    "            'First quality mod active': 0, 'Second quality mod active': 0, 'Third quality mod active': 0\n",
    "        }\n",
    "        total_counts = {'Inactive': 0, 'Active': 0, 'Mod active': 0}\n",
    "        quality_counts = {'Inactive': [0, 0, 0], 'Active': [0, 0, 0], 'Mod active': [0, 0, 0]}\n",
    "\n",
    "        for _, row in group.iterrows():\n",
    "            if pd.notna(row['Class']) and isinstance(row['Class'], (int, float)):\n",
    "                class_type = int(row['Class'])  # Convert to int\n",
    "                quality_type = int(row['Quality']) if pd.notna(row['Quality']) else 1\n",
    "                class_name = ['Inactive', 'Active', 'Mod active'][class_type]\n",
    "                total_counts[class_name] += 1\n",
    "                quality_counts[class_name][quality_type - 1] += 1\n",
    "        if ';' in mutant:\n",
    "            mutations = mutant.split(';')\n",
    "            for mut in mutations:\n",
    "                entry = entry_template.copy()\n",
    "                entry['Mutation'] = mut\n",
    "                \n",
    "                for class_name, total in total_counts.items():\n",
    "                    split_count = math.ceil(total / len(mutations))\n",
    "                    entry[class_name] = split_count\n",
    "                    \n",
    "                    for i, quality_count in enumerate(quality_counts[class_name]):\n",
    "                        quality_split = math.ceil(quality_count / len(mutations))\n",
    "                        entry[f\"{['First', 'Second', 'Third'][i]} quality {class_name.lower()}\"] = quality_split\n",
    "                results.append(entry)\n",
    "        else:\n",
    "            entry = entry_template.copy()\n",
    "            entry['Mutation'] = mutant\n",
    "            for class_name in total_counts:\n",
    "                entry[class_name] = total_counts[class_name]\n",
    "                for i in range(3):\n",
    "                    entry[f\"{['First', 'Second', 'Third'][i]} quality {class_name.lower()}\"] = quality_counts[class_name][i]\n",
    "            results.append(entry)\n",
    "\n",
    "    return pd.DataFrame(results)"
   ]
  },
  {
   "cell_type": "code",
   "execution_count": 21,
   "metadata": {},
   "outputs": [],
   "source": [
    "final_df = generate_statistics_with_splitting(merged_data)\n",
    "final_df.to_csv('/home/federica/LAB2/final_results.csv', index=False)"
   ]
  },
  {
   "cell_type": "code",
   "execution_count": 22,
   "metadata": {},
   "outputs": [],
   "source": [
    "def assign_family(row, target_classes):\n",
    "    for target_class in target_classes:\n",
    "        if (target_class in str(row['Protein class name']) or\n",
    "            target_class in str(row['Preferred target name']) or\n",
    "            target_class in str(row['Protein class description'])):\n",
    "            return target_class\n",
    "    return None \n",
    "\n",
    "# Forziamo l'ordine delle colonne nel DataFrame finale\n",
    "final_df = final_df[new_dataframe.columns]\n",
    "\n",
    "final_df['Family'] = final_df.apply(lambda row: assign_family(row, target_classes), axis=1)\n",
    "\n",
    "cols = ['Family'] + [col for col in final_df.columns if col != 'Family']\n",
    "final_df = final_df[cols]\n",
    "\n",
    "sorted_dataframe = final_df.sort_values(by=['Family', 'Protein class name', 'Preferred target name'], ascending=True)\n",
    "\n",
    "sorted_dataframe.to_csv('/home/federica/LAB2/sorted_new.csv', index=False)"
   ]
  },
  {
   "cell_type": "code",
   "execution_count": 23,
   "metadata": {},
   "outputs": [],
   "source": [
    "def create_table(df, title=\"Interactive Table\"):\n",
    "    fig = go.Figure(data=[go.Table(\n",
    "        header=dict(values=list(df.columns),\n",
    "                    fill_color='paleturquoise',\n",
    "                    align='left'),\n",
    "        cells=dict(values=[df[col] for col in df.columns ],\n",
    "                   fill_color='lavender',\n",
    "                   align='left'))\n",
    "    ])\n",
    "\n",
    "    fig.update_layout(\n",
    "        title=title,\n",
    "        title_x=0.5\n",
    "    )\n",
    "\n",
    "    fig.show()"
   ]
  },
  {
   "cell_type": "code",
   "execution_count": null,
   "metadata": {},
   "outputs": [],
   "source": [
    "df=pd.read_csv('/home/federica/LAB2/sorted_new.csv').head(10)\n",
    "create_table(df,'activity files and protein families')"
   ]
  },
  {
   "cell_type": "code",
   "execution_count": 39,
   "metadata": {},
   "outputs": [],
   "source": [
    "df = pd.read_csv('/home/federica/LAB2/prova_accession.csv')\n",
    "df1=df1 = pd.read_csv('/home/federica/LAB2/uniprotkb_reviewed_true_AND_model_organ_2024_10_26.tsv.gz', sep='\\t', compression='gzip',low_memory=False)\n",
    "\n",
    "df1.rename(columns={'Entry': 'accession_code'}, inplace=True)\n",
    "df['accession_code'] = df['accession_code'].astype(str).str.strip().str.lower()\n",
    "df1['accession_code'] = df1['accession_code'].astype(str).str.strip().str.lower()\n",
    "\n",
    "df2 = df.merge(df1, how='left', on='accession_code')\n",
    "\n",
    "df3 = df2[['tid','chembl_id', 'ChEMBL', 'accession_code',\n",
    "            'target_name', 'protein_class_name',\n",
    "            'protein_class_description', 'Protein names', 'Protein families', ]]"
   ]
  },
  {
   "cell_type": "code",
   "execution_count": 40,
   "metadata": {},
   "outputs": [],
   "source": [
    "df3.to_csv('/home/federica/LAB2/prova11.csv')"
   ]
  },
  {
   "cell_type": "markdown",
   "metadata": {},
   "source": [
    "## Formatting protein file"
   ]
  },
  {
   "cell_type": "code",
   "execution_count": 26,
   "metadata": {},
   "outputs": [],
   "source": [
    "df = pd.read_csv('/home/federica/LAB2/family_protein_with.csv')\n",
    "df_modified = df.drop(columns=['pc_pref_name', 'td_pref_name', 'short_name'])\n",
    "df_modified['protein_class_desc'] = df_modified['protein_class_desc'].str.replace('  ', '; ', regex=False)\n",
    "def sort_key(desc):\n",
    "    if 'eraser' in desc:\n",
    "        return 1\n",
    "    elif 'reader' in desc:\n",
    "        return 2\n",
    "    elif 'writer' in desc:\n",
    "        return 3\n",
    "    else:\n",
    "        return 4 \n",
    "df_modified['sort_order'] = df_modified['protein_class_desc'].apply(sort_key)\n",
    "df_modified.sort_values(by=['family', 'sort_order'], inplace=True)\n",
    "df_modified.drop(columns=['sort_order'], inplace=True)\n",
    "df_modified.to_csv('/home/federica/LAB2/family_protein_with_formatted.csv', index=False)"
   ]
  }
 ],
 "metadata": {
  "kernelspec": {
   "display_name": "labenv",
   "language": "python",
   "name": "python3"
  },
  "language_info": {
   "codemirror_mode": {
    "name": "ipython",
    "version": 3
   },
   "file_extension": ".py",
   "mimetype": "text/x-python",
   "name": "python",
   "nbconvert_exporter": "python",
   "pygments_lexer": "ipython3",
   "version": "3.10.12"
  }
 },
 "nbformat": 4,
 "nbformat_minor": 2
}
